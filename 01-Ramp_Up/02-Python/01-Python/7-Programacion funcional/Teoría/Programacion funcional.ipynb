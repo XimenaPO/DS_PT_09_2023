{
 "cells": [
  {
   "cell_type": "markdown",
   "metadata": {},
   "source": [
    "![imagen](./img/python.jpg)\n",
    "\n",
    "# Programación funcional\n",
    "\n",
    "En programación hay varios tipos de lenguajes. Como vimos en Notebooks anteriores, **Python es un lenguaje de programación orientado a objetos**. No obstante, es bastante versatil y **admite** otras funcionalidades propias de otros lenguajes, como es la **programación funcional**. En este Notebook verás qué utilidad tiene este tipo de programación, y cómo usarla en Python.\n",
    "\n",
    "1. [Programacion funcional](#1.-Programacion-funcional)\n",
    "2. [Funcion lambda](#2.-Funcion-lambda)\n",
    "3. [Map](#3.-Map)\n",
    "4. [Reduce](#4.-Reduce)\n",
    "5. [Filter](#5.-Filter)\n",
    "6. [Timeit](#6.-Timeit)\n",
    "7. [Programacion funcional en Pandas](#7.-Programacion-funcional-en-Pandas)\n",
    "8. [Resumen](#8.-Resumen)\n"
   ]
  },
  {
   "cell_type": "markdown",
   "metadata": {},
   "source": [
    "## 1. Programacion funcional\n",
    "Dependiendo del problema que queramos resolver, utilizaremos un tipo de lenguaje de programación u otro. Veamos la diferencia entre un lenguaje de programación orientado a objetos y uno funcional:\n",
    "* **Programación Orientada a Objetos (OOP)**: sería el caso de Python. En este caso se encapsulan todos los elementos del programa en objetos, que son de cierto tipo, **tienen un estado**, atributos y funcionalidades. Lenguajes orientados a objetos son Java, Python, JavaScript, Ruby... entre otros.\n",
    "\n",
    "* **Programación Funcional**: El programa se divide en un conjunto de funciones. Por tanto, es un entrada/salida continuo, ya que las funciones tienen un *input*, realizan operaciones, y después un *output*. Son lenguajes que ofrecen un buen rendimiento pero difíciles de desarrollar ya que hay que acudir mucho a la recursividad. Algunos de los lenguajes más usados son [Clojure](https://clojure.org) o [Scala](https://www.scala-lang.org).\n",
    "\n",
    "Por tanto, ¿Python que es? ¿Es orientado a objetos...? ¿Es funcinal? **Python es orientado a objetos, pero además cuenta con ciertas funciones *built-in* propias de la programación funcional**, como `map` o `filter`, lo que nos va a aportar nuevas maneras de solventar problemas en nuestro programa, además de mejoras en rendimiento.\n",
    "\n",
    "Como ves, Python nos va a permitir usar todas sus funcionalidades propias como lenguaje orientado a objetos que es, y además la posibilidad de combinarlas con otro tipo de programación, como es la funcional.\n",
    "\n",
    "\n",
    "¿Cómo podemos iterar sobre una lista y calcular la suma de sus elementos?"
   ]
  },
  {
   "cell_type": "code",
   "execution_count": null,
   "metadata": {},
   "outputs": [],
   "source": [
    "lista = [1,2,3,4,5]\n",
    "\n",
    "suma = 0\n",
    "for i in lista:\n",
    "    suma += i\n",
    "suma"
   ]
  },
  {
   "cell_type": "markdown",
   "metadata": {},
   "source": [
    "A parte de la función *built-in* de Python `sum()`, tenemos también la opción de la recursividad, con la que no usamos bucles, y únicamente realizamos operaciones mediante funciones."
   ]
  },
  {
   "cell_type": "code",
   "execution_count": null,
   "metadata": {},
   "outputs": [],
   "source": [
    "def suma_fun(lista:list) -> int:\n",
    "    if len(lista) == 0:\n",
    "        return 0\n",
    "    return lista[0] + suma_fun(lista[1:])"
   ]
  },
  {
   "cell_type": "code",
   "execution_count": null,
   "metadata": {},
   "outputs": [],
   "source": [
    "lista = [1,2,3]\n",
    "suma_fun(lista)"
   ]
  },
  {
   "cell_type": "markdown",
   "metadata": {},
   "source": [
    "La principal diferecia radica en **el estado**. En el caso del `for` tenemos un programa que va cambiando su estado, debido a las diferentes variables que toman `suma` e `i`. Sin embargo, en el segundo ejemplo no hay estados. Son funciones que llaman a otras, tienen un *input* y un *output*. Lo veremos más en detalle en el Notebook."
   ]
  },
  {
   "cell_type": "markdown",
   "metadata": {},
   "source": [
    "## 2. Funcion lambda\n",
    "Recuerda cómo era la sintaxis para crear funciones:\n",
    "```Python\n",
    "def nombre_funcion(argumentos):\n",
    "    cosas de la funcion\n",
    "    return output\n",
    "```\n",
    "Una función tiene un nombre, unos parámetros de entrada, operaciones dentro y un output. En este apartado se presenta una nueva manera más ágil de crear funciones, gracias a la sentencia `lambda`. Con `lambda` podrás crear funciones sencillas y de una única expresión.\n",
    "\n",
    "Las funciones `lambda` **son anónimas**, no tienen un nombre que las identifique, simplemente se ejecuta el código de la función que declaremos. \n",
    "\n",
    "La sintaxis de una función `lambda` es:\n",
    "```Python\n",
    "lambda argumentos: expresion\n",
    "```\n",
    "\n",
    "Veamos un ejemplo"
   ]
  },
  {
   "cell_type": "code",
   "execution_count": 5,
   "metadata": {},
   "outputs": [
    {
     "name": "stdout",
     "output_type": "stream",
     "text": [
      "<class 'function'>\n"
     ]
    },
    {
     "data": {
      "text/plain": [
       "12"
      ]
     },
     "execution_count": 5,
     "metadata": {},
     "output_type": "execute_result"
    }
   ],
   "source": [
    "# Declaramos funcion\n",
    "def suma(x:int,y:int) -> int:\n",
    "    return x + y\n",
    "\n",
    "# Guardamos en variable\n",
    "suma_var = suma\n",
    "\n",
    "# Vemos el tipo\n",
    "print(type(suma_var))\n",
    "\n",
    "# Usamos la funcion\n",
    "suma_var(5, 7)"
   ]
  },
  {
   "cell_type": "markdown",
   "metadata": {},
   "source": [
    "Como ves, las funciones son un objeto más, que podemos asignar a una variable. Veamos ahora cómo traducimos esto a una función `lambda`"
   ]
  },
  {
   "cell_type": "code",
   "execution_count": 7,
   "metadata": {},
   "outputs": [
    {
     "data": {
      "text/plain": [
       "<function __main__.<lambda>(x, y)>"
      ]
     },
     "execution_count": 7,
     "metadata": {},
     "output_type": "execute_result"
    }
   ],
   "source": [
    "lambda x,y: x + y"
   ]
  },
  {
   "cell_type": "code",
   "execution_count": 6,
   "metadata": {},
   "outputs": [
    {
     "data": {
      "text/plain": [
       "12"
      ]
     },
     "execution_count": 6,
     "metadata": {},
     "output_type": "execute_result"
    }
   ],
   "source": [
    "# Si la asignamos a una variable\n",
    "suma_lambda = lambda x,y: x + y\n",
    "\n",
    "suma_lambda(5,7)"
   ]
  },
  {
   "cell_type": "markdown",
   "metadata": {},
   "source": [
    "Las funciones `lambda` no se usan solas, sino que son argumentos de funciones de más alto nivel, es decir, funciones cuyos parámetros de entrada son otras funciones, como `map`, `reduce` o `filter`.\n",
    "\n",
    "Las `lambdas` también pueden ser una buena manera de escribir código más entendible. Veamos un ejemplo en el que trabajamos con coordenadas."
   ]
  },
  {
   "cell_type": "code",
   "execution_count": 4,
   "metadata": {},
   "outputs": [
    {
     "name": "stdout",
     "output_type": "stream",
     "text": [
      "(40.4440297, -3.6956047)\n",
      "(40.4585318, -3.684715)\n"
     ]
    }
   ],
   "source": [
    "estaciones = ((40.4440297, -3.6956047), (40.4585318, -3.684715))\n",
    "\n",
    "inicio = lambda x: x[0]\n",
    "fin = lambda x: x[1]\n",
    "\n",
    "print(inicio(estaciones))\n",
    "print(fin(estaciones))"
   ]
  },
  {
   "cell_type": "markdown",
   "metadata": {},
   "source": [
    "En el siguiente código, solo devuelve los datos de la primera tupla porque define de nuevo Lambda por \"lat\" y \"lon\", pero dentro de \"inicio\" que sería la primera tupla"
   ]
  },
  {
   "cell_type": "code",
   "execution_count": 3,
   "metadata": {},
   "outputs": [
    {
     "name": "stdout",
     "output_type": "stream",
     "text": [
      "40.4440297\n",
      "-3.6956047\n"
     ]
    }
   ],
   "source": [
    "lat = lambda x: x[0]\n",
    "lon = lambda x: x[1]\n",
    "\n",
    "print(lat(inicio(estaciones)))\n",
    "print(lon(inicio(estaciones)))"
   ]
  },
  {
   "cell_type": "markdown",
   "metadata": {},
   "source": [
    "<table align=\"left\">\n",
    " <tr><td width=\"80\"><img src=\"./img/ejercicio.png\" style=\"width:auto;height:auto\"></td>\n",
    "     <td style=\"text-align:left\">\n",
    "         <h3>Trabajando con lambda</h3>\n",
    "         \n",
    "<ol>\n",
    "    <li>Crea una función lambda con tres argumentos, y que multiplique los tres </li>\n",
    "    <li>Crea otra función lambda con un único argumento y que calcule la raíz cuadrada del mismo.</li>\n",
    "</ol>\n",
    "         \n",
    " </td></tr>\n",
    "</table>"
   ]
  },
  {
   "cell_type": "code",
   "execution_count": 8,
   "metadata": {},
   "outputs": [
    {
     "data": {
      "text/plain": [
       "6"
      ]
     },
     "execution_count": 8,
     "metadata": {},
     "output_type": "execute_result"
    }
   ],
   "source": [
    "mult_3 = lambda x,y,z: x*y*z\n",
    "mult_3(1,2,3)"
   ]
  },
  {
   "cell_type": "code",
   "execution_count": 9,
   "metadata": {},
   "outputs": [
    {
     "data": {
      "text/plain": [
       "3.0"
      ]
     },
     "execution_count": 9,
     "metadata": {},
     "output_type": "execute_result"
    }
   ],
   "source": [
    "import math\n",
    "\n",
    "raiz = lambda x: math.sqrt(x)\n",
    "\n",
    "raiz(9)"
   ]
  },
  {
   "cell_type": "markdown",
   "metadata": {},
   "source": [
    "## 3. Map\n",
    "Se trata de una función *built-in* que tiene dos argumentos. Unos es una función, y el otro un iterable, que puede ser una lista, tupla, string... **Lo que hace es aplicarle la función a cada uno de los argumentos del iterable**. Mapea cada valor del iterable, le aplica una operación, y crea un nuevo iterable al que le ha aplicado dicha operación.\n",
    "\n",
    "Su sintaxis es:\n",
    "```Python\n",
    "map(funcion, iterable)\n",
    "```\n",
    "SIEMPRE LA FUNCIÓN DEL LADO DERECHO, Y DEL LADO IZQUIERDO EL ITERABLE\n",
    "\n",
    "Se trata de una manera de **sustituir la funcionalidad de los bucles**. Muy útil cuando queramos aplicar operaciones a una lista entera.\n",
    "\n",
    "La **función map** se utiliza cuando deseas aplicar una **transformación o una operación a cada elemento de una secuencia**, como una lista, array o cualquier otra estructura iterable. Lo que hace map es tomar una función y aplicarla a cada elemento de la secuencia, generando así una nueva secuencia con los resultados de aplicar esa función a cada elemento."
   ]
  },
  {
   "cell_type": "markdown",
   "metadata": {},
   "source": [
    "**EL ITERABLE** PUEDE SER: \n",
    "* LISTA\n",
    "* TUPLA\n",
    "* SET\n",
    "* DICCIONARIO - En este caso iterará sobre las claves, salvo que le especifique lo contrario"
   ]
  },
  {
   "cell_type": "markdown",
   "metadata": {},
   "source": [
    "> Cuando imprimo el mapeo ya sea como: list(), tuple(), set(), me sale el resultado del lambda. Ya que si no, aparece *\"map object\"*, es decir, dónde se guardó en la memoria el objeto del mapeo o filter. Y esos números indican también que es un iterable"
   ]
  },
  {
   "cell_type": "code",
   "execution_count": 52,
   "metadata": {},
   "outputs": [
    {
     "data": {
      "text/plain": [
       "[3, 7, 6, 8, 13]"
      ]
     },
     "execution_count": 52,
     "metadata": {},
     "output_type": "execute_result"
    }
   ],
   "source": [
    "my_list = [1,5,4,6,11]\n",
    "\n",
    "new_list = map(lambda x: x + 2, my_list) # Esta función le suma a cada elemento del iterador 2\n",
    "\n",
    "list(new_list)"
   ]
  },
  {
   "cell_type": "markdown",
   "metadata": {},
   "source": [
    "En PRINT, podría imprimir también el MAPEO, como:\n",
    "* TUPLE\n",
    "* SET\n",
    "\n",
    "NO diccionario porque no tengo clave:valor"
   ]
  },
  {
   "cell_type": "code",
   "execution_count": 18,
   "metadata": {},
   "outputs": [
    {
     "name": "stdout",
     "output_type": "stream",
     "text": [
      "3\n",
      "7\n",
      "6\n",
      "8\n",
      "13\n"
     ]
    }
   ],
   "source": [
    "# OPCIÓN 1 = BUCLE + VARIABLE CON OPERACIÓN - DE COMO HUBIESEMOS HECHO SIN LAMBDA\n",
    "my_list = [1,5,4,6,11]\n",
    "\n",
    "for i in my_list:\n",
    "    suma = i + 2\n",
    "    print (suma)"
   ]
  },
  {
   "cell_type": "code",
   "execution_count": 17,
   "metadata": {},
   "outputs": [
    {
     "name": "stdout",
     "output_type": "stream",
     "text": [
      "[3, 7, 6, 8, 13]\n"
     ]
    }
   ],
   "source": [
    "# OPCIÓN 2 = BUCLE + LISTA VACÍA - DE CÓMO HUBIESEMOS HECHO SIN LAMBDA\n",
    "my_list = [1,5,4,6,11]\n",
    "\n",
    "nueva = []\n",
    "for i in my_list:\n",
    "    nueva.append(i + 2)\n",
    "\n",
    "print(nueva)\n",
    "    "
   ]
  },
  {
   "cell_type": "code",
   "execution_count": 16,
   "metadata": {},
   "outputs": [
    {
     "data": {
      "text/plain": [
       "[3, 7, 6, 8, 13]"
      ]
     },
     "execution_count": 16,
     "metadata": {},
     "output_type": "execute_result"
    }
   ],
   "source": [
    "# OPCIÓN 3 = LISTA DE COMPRENSIÓN - DE COMO HUBIESEMOS HECHO SIN LAMBDA\n",
    "my_list = [1,5,4,6,11]\n",
    "\n",
    "nuevaa = [i+2 for i in my_list]\n",
    "nuevaa"
   ]
  },
  {
   "cell_type": "markdown",
   "metadata": {},
   "source": [
    "Fíjate que la función `map` devuelve un *map object*, que no es más que un iterable, convertible fácilmente a una lista. Como ves, de momento aplicaremos una función `lambda` con una única expresión, pero más adelante verás cómo puedes aplicarle tus propias funciones más complejas.\n",
    "\n",
    "Veamos otro ejemplo con operaciones diferentes"
   ]
  },
  {
   "cell_type": "markdown",
   "metadata": {},
   "source": [
    "##### **En LAMBDA, puedo meter:** \n",
    "* Una función creada por mi \n",
    "* Una función propia de Python\n",
    "* Una función lambda propiamente dicha"
   ]
  },
  {
   "cell_type": "markdown",
   "metadata": {},
   "source": [
    "#### EJEMPLO DE LAMBDA CON **FUNCIÓN PROPIA CREADA**"
   ]
  },
  {
   "cell_type": "code",
   "execution_count": 32,
   "metadata": {},
   "outputs": [
    {
     "data": {
      "text/plain": [
       "13"
      ]
     },
     "execution_count": 32,
     "metadata": {},
     "output_type": "execute_result"
    }
   ],
   "source": [
    "# ESTO SERÍA UNA FUNCIÓN NORMAL creada por mí \n",
    "def suma(x:int,y:int) -> int:\n",
    "    return x + y\n",
    "\n",
    "suma(8,5)"
   ]
  },
  {
   "cell_type": "markdown",
   "metadata": {},
   "source": [
    "Pero como la función de arriba tiene dos argumentos y yo solo le pasaría uno \n",
    "debería ponerle un **ARGUMENTO con valor por defecto**, por ejemplo:"
   ]
  },
  {
   "cell_type": "code",
   "execution_count": 30,
   "metadata": {},
   "outputs": [],
   "source": [
    "def suma(x:int,y:int = 5) -> int:\n",
    "    return x + y"
   ]
  },
  {
   "cell_type": "markdown",
   "metadata": {},
   "source": [
    "Entonces acá abajo usaría la función de arriba: \n",
    "\n",
    "- **\"x\"** de la función sería cada elemento del iterable/lista, \n",
    "- y le sumaría **\"y\"** que \n",
    "sería el 5 que viene por defecto."
   ]
  },
  {
   "cell_type": "code",
   "execution_count": 31,
   "metadata": {},
   "outputs": [
    {
     "data": {
      "text/plain": [
       "[6, 10, 9, 11, 16]"
      ]
     },
     "execution_count": 31,
     "metadata": {},
     "output_type": "execute_result"
    }
   ],
   "source": [
    "my_list = [1,5,4,6,11]\n",
    "\n",
    "neww_list = map(suma,my_list)\n",
    "list(neww_list)\n"
   ]
  },
  {
   "cell_type": "markdown",
   "metadata": {},
   "source": [
    "#### EJEMPLO DE LAMBDA CON **IF / ELSE**\n",
    "En vez de crear una función como está en la primer celda de código para llamarla en **MAP**"
   ]
  },
  {
   "cell_type": "code",
   "execution_count": 45,
   "metadata": {},
   "outputs": [],
   "source": [
    "def comprobar_par(num):\n",
    "    if num % 2 == 0:\n",
    "        return num\n",
    "    else:\n",
    "        return 0"
   ]
  },
  {
   "cell_type": "code",
   "execution_count": 48,
   "metadata": {},
   "outputs": [
    {
     "data": {
      "text/plain": [
       "[0, 0, 4, 6, 0]"
      ]
     },
     "execution_count": 48,
     "metadata": {},
     "output_type": "execute_result"
    }
   ],
   "source": [
    "my_list = [1,5,4,6,11]\n",
    "neew_list = map(comprobar_par, my_list)\n",
    "list(neew_list)"
   ]
  },
  {
   "cell_type": "markdown",
   "metadata": {},
   "source": [
    "--> Creo un lambda con IF/ELSE que me devuelva los números pares, y si no, retorne 0:"
   ]
  },
  {
   "cell_type": "code",
   "execution_count": 38,
   "metadata": {},
   "outputs": [
    {
     "data": {
      "text/plain": [
       "[0, 0, 4, 6, 0]"
      ]
     },
     "execution_count": 38,
     "metadata": {},
     "output_type": "execute_result"
    }
   ],
   "source": [
    "# METO EL IF / ELSE EN LAMBDA\n",
    "my_list = [1,5,4,6,11]\n",
    "\n",
    "new_list = map(lambda x: x if x % 2 == 0  else 0, my_list)\n",
    "list(new_list)"
   ]
  },
  {
   "cell_type": "code",
   "execution_count": 54,
   "metadata": {},
   "outputs": [
    {
     "name": "stdout",
     "output_type": "stream",
     "text": [
      "[False, True, False, False]\n"
     ]
    }
   ],
   "source": [
    "my_tuple = (True, False, True, True)\n",
    "\n",
    "my_tuple = map(lambda x: not x, my_tuple) # x: -> sería cada elemento que está en mi_tuple\n",
    " \n",
    "print(list(my_tuple))"
   ]
  },
  {
   "cell_type": "markdown",
   "metadata": {},
   "source": [
    "`map` trabaja con iterables, por lo que también será posible aplicarle un `map` a un string."
   ]
  },
  {
   "cell_type": "code",
   "execution_count": 55,
   "metadata": {},
   "outputs": [
    {
     "name": "stdout",
     "output_type": "stream",
     "text": [
      "('W-AAA', 'W-BBB', 'W-CCC')\n"
     ]
    }
   ],
   "source": [
    "my_tuple = (\"AAA\", \"BBB\", \"CCC\")\n",
    "\n",
    "my_tuple = map(lambda x: \"W-\" + x, my_tuple) # a cada x de la tupla le pone W- antes\n",
    "\n",
    "print(tuple(my_tuple))"
   ]
  },
  {
   "cell_type": "markdown",
   "metadata": {},
   "source": [
    "\n",
    "\n",
    "##### FUNCIÓN LAMBDA + MAP"
   ]
  },
  {
   "cell_type": "markdown",
   "metadata": {},
   "source": [
    "Puedes incluso separar la función `lambda`, para posteriormente usarla en otros lugares."
   ]
  },
  {
   "cell_type": "code",
   "execution_count": 57,
   "metadata": {},
   "outputs": [
    {
     "name": "stdout",
     "output_type": "stream",
     "text": [
      "('W-AAA', 'W-BBB', 'W-CCC')\n"
     ]
    }
   ],
   "source": [
    "my_list = (\"AAA\", \"BBB\", \"CCC\")\n",
    "\n",
    "my_fun = lambda x: \"W-\" + x  # guardo la función en una variable\n",
    "\n",
    "new_list = map(my_fun, my_list)   # sintaxis MAP = (función, iterable) \n",
    "\n",
    "print(tuple(new_list))"
   ]
  },
  {
   "cell_type": "markdown",
   "metadata": {},
   "source": [
    "##### FUNCIÓN NORMAL + MAP (SIN lambda)"
   ]
  },
  {
   "cell_type": "markdown",
   "metadata": {},
   "source": [
    "**Incluso podrás aplicar tus propias funciones**. Imagina la versatilidad que te da esto. Dentro de cada función podrás realizar el cálculo que quieras, y ese calculo se le aplicará a cada elemento de tu iterable."
   ]
  },
  {
   "cell_type": "code",
   "execution_count": 58,
   "metadata": {},
   "outputs": [
    {
     "name": "stdout",
     "output_type": "stream",
     "text": [
      "('W-AAA', 'W-BBB', 'W-CCC')\n"
     ]
    }
   ],
   "source": [
    "my_list = (\"AAA\", \"BBB\", \"CCC\")\n",
    "\n",
    "def aniade_w(x:str) -> str:\n",
    "    return \"W-\" + x\n",
    "\n",
    "new_list = map(aniade_w, my_list)\n",
    "\n",
    "print(tuple(new_list))"
   ]
  },
  {
   "cell_type": "markdown",
   "metadata": {},
   "source": [
    "##### FUNCIÓN CON ROUND + VARIOS ARGUMENTOS + MAP"
   ]
  },
  {
   "cell_type": "markdown",
   "metadata": {},
   "source": [
    "`map` también trabaja con funciones con varios argumentos, lo único que hay que hacer es añadirle un argumento más al `map`. Y esto es aplicable a *n* argumentos. Podría darse el caso en el que alguno de los iterables tenga menores dimensiones que el resto. Si ocurre eso, se aplicará el `map` hasta el iterable con la mínima longitud."
   ]
  },
  {
   "cell_type": "code",
   "execution_count": 62,
   "metadata": {},
   "outputs": [
    {
     "name": "stdout",
     "output_type": "stream",
     "text": [
      "[1, 2, 3, 4, 5, 6]\n",
      "[3.6, 5.58, 4.009, 56.2424, 9.01344, 32.00013]\n"
     ]
    }
   ],
   "source": [
    "circle_areas = [3.56773, 5.57668, 4.00914, 56.24241, 9.01344, 32.00013]\n",
    "\n",
    "decimales = range(1,7)\n",
    "print(list(decimales))\n",
    "\n",
    "# round(numero decimal, cantidad de decimales)\n",
    "result = map(round, circle_areas, decimales)\n",
    "\n",
    "print(list(result))"
   ]
  },
  {
   "cell_type": "markdown",
   "metadata": {},
   "source": [
    "**ROUND**: Siempre pide 2 argumentos = round(*número a redondear*, *cant. decimales*)\n",
    "\n",
    "Por lo que acá map, funcionará como un bucle, y realizará la siguiente operación:\n",
    "1. Pasará por cada número de circle_areas\n",
    "2. Luego, pondrá en la posición de la cantidad de elementos de round, numeros del 1 al 6, por eso va redondeando progresivamente. \n",
    "\n",
    "Operaría de la siguiente manera:\n",
    "```Python\n",
    "- map(round, 3.56773, 1) \n",
    "- map (round, 5.57668, 2)\n",
    "- map (round, 4.00914, 3)\n",
    "- map (round, 56.24241, 4)\n",
    "- map (round 9.01344, 5)\n",
    "- map (round 32.00013, 6)\n",
    "```\n",
    "Si en la lista de números (circle_area) hubiera un número más, no podría iterarlo porque el range ubicado en el segundo lugar (para establecer la cantidad de decimales por número\n",
    ") va del 1 al 6, porque lo que faltaría un argumento. \n",
    "\n",
    "**PERO MAP NO TIRA ERROR, sino, que no hace nada, funcionaría como un try/except**"
   ]
  },
  {
   "cell_type": "markdown",
   "metadata": {},
   "source": [
    "<table align=\"left\">\n",
    " <tr><td width=\"80\"><img src=\"./img/ejercicio.png\" style=\"width:auto;height:auto\"></td>\n",
    "     <td style=\"text-align:left\">\n",
    "         <h3>Trabajando con map</h3>\n",
    "         \n",
    "\n",
    "         \n",
    "<ol>\n",
    "    <li>Añádele \"W-\"a todas las claves del diccionario</li>\n",
    "    <li>Convierte todos los elementos de la tupla en enteros</li>\n",
    "</ol>\n",
    "         \n",
    " </td></tr>\n",
    "</table>"
   ]
  },
  {
   "cell_type": "code",
   "execution_count": 72,
   "metadata": {},
   "outputs": [
    {
     "name": "stdout",
     "output_type": "stream",
     "text": [
      "['W-a', 'W-b', 'W-c']\n"
     ]
    }
   ],
   "source": [
    "my_dict = {'a':1,'b':2,'c':3}\n",
    "\n",
    "new_dict = map(lambda x: \"W-\" + x, my_dict.keys()) # sería lo mismo no poner .keys(), ya que\n",
    "                                                   # siempre va a iterar sobre las claves\n",
    "print(list(new_dict))"
   ]
  },
  {
   "cell_type": "markdown",
   "metadata": {},
   "source": [
    "- En el ejemplo anterior sería lo mismo NO poner .keys(), ya que siempre itera sobre las claves. \n",
    "- De hecho, si quiero que itere sobre los valores, debería:\n",
    "    1. Primero, cambiar los números enteros a string porque si no salta error al unir con otro string.\n",
    "    2. Segundo, poner my_dict.values()"
   ]
  },
  {
   "cell_type": "code",
   "execution_count": 75,
   "metadata": {},
   "outputs": [],
   "source": [
    "def entero(x:str) -> int: ## FUNCIÓN INNECESARIA\n",
    "    return int(x)"
   ]
  },
  {
   "cell_type": "markdown",
   "metadata": {},
   "source": [
    "Esta última función sería totalmente innecesaria, porque si ya está la función de Python que convierte a enteros = **INT**, para que voy a crear una función que haga eso. "
   ]
  },
  {
   "cell_type": "markdown",
   "metadata": {},
   "source": [
    "Eso se puede resolver mediante un mapeo (que sería como un bucle), aplicando int a cada elemento del iterable"
   ]
  },
  {
   "cell_type": "code",
   "execution_count": 84,
   "metadata": {},
   "outputs": [
    {
     "name": "stdout",
     "output_type": "stream",
     "text": [
      "(1, 12, 7)\n"
     ]
    }
   ],
   "source": [
    "my_tuple = ('1','12','7')\n",
    "\n",
    "new_tuple = map(int, my_tuple)\n",
    "\n",
    "print(tuple(new_tuple))"
   ]
  },
  {
   "cell_type": "code",
   "execution_count": 80,
   "metadata": {},
   "outputs": [
    {
     "data": {
      "text/plain": [
       "('1', '12', '7')"
      ]
     },
     "execution_count": 80,
     "metadata": {},
     "output_type": "execute_result"
    }
   ],
   "source": [
    "my_var= tuple(new_tuple)\n",
    "my_var"
   ]
  },
  {
   "cell_type": "markdown",
   "metadata": {},
   "source": [
    "## 4. Reduce\n",
    "La función `reduce` no es *built-in* como tal, sino que está incorporada en el paquete de `functools`. Su nombre ya nos da alguna pista sobre lo que hace, **es una manera de agregar los datos**. Tiene esta sintaxis:\n",
    "\n",
    "```Python\n",
    "reduce(funcion, iterable[, initial]))\n",
    "```\n",
    "\n",
    "La función reduce se utiliza para aplicar una **función acumulativa** a los elementos de una secuencia de izquierda a derecha. La función acumulativa se llama con dos argumentos, el **acumulador** y el siguiente elemento de la secuencia, y el resultado se convierte en el nuevo valor del acumulador.\n",
    "La operación se realiza de manera secuencial, donde el resultado de una operación se utiliza en la siguiente, lo que permite realizar cálculos acumulativos o agregados.\n",
    "\n",
    "\n",
    "`reduce`, al igual que `map`, tiene dos argumentos. Uno de ellos es el iterable que vayamos a usar, y el otro es la lógica que le queramos aplicar al `reduce`. La función que se le aplica al reduce tiene dos argumentos, que son los dos primeros elementos del iterable. Tiene un tercer argumento que es opcional, y nos permite iniciar la operación con un valor. Lo veremos luego en un ejemplo.\n",
    "\n",
    "**DIFERENCIAS ENTRE MAP Y REDUCE:**\n",
    "En resumen, **MAP** se utiliza para aplicar una función a cada elemento de una secuencia y generar una nueva secuencia, mientras que **REDUCE** se utiliza para realizar una operación acumulativa en los elementos de una secuencia y producir un resultado único. Ambas funciones son útiles en diferentes contextos de programación, y la elección de cuál utilizar depende de la tarea que necesites realizar. \n",
    "\n",
    ">> `reduce` se utiliza generalmente para sumar, restar, multiplicar, dividir los elementos de una lista \n",
    "\n",
    "Si te fijas, `map` aplica la operación definida en la función a todos los elementos, devolviendo la misma lista, pero con los elementos transformados, mientras que **`reduce`, agrega todos los datos de la lista** y devuelve un resultado único.\n"
   ]
  },
  {
   "cell_type": "code",
   "execution_count": 2,
   "metadata": {},
   "outputs": [
    {
     "name": "stdout",
     "output_type": "stream",
     "text": [
      "17\n"
     ]
    }
   ],
   "source": [
    "from functools import reduce\n",
    "\n",
    "lista = [1,3,5,6,2]\n",
    "\n",
    "resultado = reduce(lambda x,y: x+y, lista)\n",
    "\n",
    "print(resultado)"
   ]
  },
  {
   "cell_type": "code",
   "execution_count": null,
   "metadata": {},
   "outputs": [],
   "source": [
    "# (1+3) = 4 (4 + 5) = 9 (9+6) = 15 (15+2) = 17\n",
    "# [1,3,5,6,2]\n",
    "# [4,5,6,2]\n",
    "# [9,6,2]\n",
    "# [15,2]\n",
    "# [17]"
   ]
  },
  {
   "cell_type": "code",
   "execution_count": 14,
   "metadata": {},
   "outputs": [
    {
     "data": {
      "text/plain": [
       "[1, 3, 5, 6, 2]"
      ]
     },
     "execution_count": 14,
     "metadata": {},
     "output_type": "execute_result"
    }
   ],
   "source": [
    "lista # lista sigue siendo la original a la que se aplicó REDUCE "
   ]
  },
  {
   "cell_type": "markdown",
   "metadata": {},
   "source": [
    "`reduce` hay que entenderlo como si fuese una función recursiva. La función de dentro tiene dos argumentos que son los dos primeros elementos del iterable, y después al resultado de la suma de ambos, se le aplica la misma operación sobre el tercer elemento, y así hasta que acaba el iterable.\n",
    "\n",
    "**EJEMPLO DE CÓMO OPERA \"REDUCE\":**\n",
    "Dada una lista y una operación:\n",
    " ```Python\n",
    "lista = [1,2,3,4,5]\n",
    "resultado = reduce(lambda x, y: x + y, lista)\n",
    "```\n",
    "\n",
    "1. Paso 1:\n",
    "**x** es inicialmente igual al primer elemento de la lista (1).\n",
    "**y** es igual al segundo elemento de la lista (2).\n",
    "La función lambda reduce(lambda x, y: x + y) se aplica a x e y, lo que resulta en 1 + 2, y **el resultado (3) se convierte en el nuevo valor de x**.\n",
    "\n",
    "2. Paso 2:\n",
    "Ahora, **x es 3** (el resultado del paso anterior) y **y es el tercer elemento de la lista (3)**.\n",
    "La función lambda lambda x, y: x + y se aplica nuevamente a x e y, lo que resulta en 3 + 3, y el resultado (6) se convierte en el nuevo valor de x.\n",
    ".. y así, sucesivamente.. "
   ]
  },
  {
   "cell_type": "markdown",
   "metadata": {},
   "source": [
    "##### **FUNCIÓN DEL INITIALIZER**  =  ES OPCIONAL\n",
    "Realmente el `reduce` lleva un tercer argumento llamado `initializer`. Por defecto es `None`, pero si lo cambiamos, cuando llamemos a la función, su primer argumento será ese `initializer`. Por ejemplo, si estamos sumando toda una colección sería como si el primer elemento de la colección fuese el `initializer`.\n",
    "\n",
    "Es un valor inicial, que va OPCIONALMENTE en la tercera posición, a partir de la cual reduce comienza ejecutar la operación. \n",
    "* Por ejemplo - SUMA = si arranca de 100 y es suma, el resultado va a ser la suma del 100 + los elementos del iterable.\n",
    "* Por ejemplo - RESTA = si arranca de 100 y es una resta, el resultado va a ser la resta de 100 - los elementos del iterable. "
   ]
  },
  {
   "cell_type": "code",
   "execution_count": 19,
   "metadata": {},
   "outputs": [
    {
     "name": "stdout",
     "output_type": "stream",
     "text": [
      "117\n"
     ]
    }
   ],
   "source": [
    "# EJEMPLO RESTA = 100 + 17\n",
    "lista = [1,3,5,6,2]\n",
    "\n",
    "resultado = reduce(lambda x,y: x+y, lista, 100)\n",
    "\n",
    "print(resultado)"
   ]
  },
  {
   "cell_type": "code",
   "execution_count": 18,
   "metadata": {},
   "outputs": [
    {
     "name": "stdout",
     "output_type": "stream",
     "text": [
      "83\n"
     ]
    }
   ],
   "source": [
    "# EJEMPLO SUMA = 100 - 17\n",
    "lista = [1,3,5,6,2]\n",
    "\n",
    "resultado_2 = reduce(lambda x,y: x-y, lista, 100)\n",
    "print(resultado_2)"
   ]
  },
  {
   "cell_type": "code",
   "execution_count": 5,
   "metadata": {},
   "outputs": [
    {
     "name": "stdout",
     "output_type": "stream",
     "text": [
      "Hola me llamo Ralph\n"
     ]
    }
   ],
   "source": [
    "lista_strings = [\"Hola\", \"me\", \"llamo\", \"Ralph\"]\n",
    "\n",
    "resultado = reduce(lambda x,y: x+' '+y, lista_strings)\n",
    "\n",
    "print(resultado)"
   ]
  },
  {
   "cell_type": "markdown",
   "metadata": {},
   "source": [
    "<table align=\"left\">\n",
    " <tr><td width=\"80\"><img src=\"./img/ejercicio.png\" style=\"width:auto;height:auto\"></td>\n",
    "     <td style=\"text-align:left\">\n",
    "         <h3>Trabajando con reduce</h3>\n",
    "         \n",
    "Utiliza reduce para calcular el producto de todos los elementos de la siguiente tupla\n",
    "         \n",
    " </td></tr>\n",
    "</table>"
   ]
  },
  {
   "cell_type": "code",
   "execution_count": null,
   "metadata": {},
   "outputs": [],
   "source": [
    "mi_tupla = (2,7,3,4,6)"
   ]
  },
  {
   "cell_type": "code",
   "execution_count": null,
   "metadata": {},
   "outputs": [],
   "source": [
    "resultado = reduce(lambda x,y: x*y, mi_tupla)\n",
    "print(resultado)"
   ]
  },
  {
   "cell_type": "markdown",
   "metadata": {},
   "source": [
    "## 5. Filter\n",
    "Se utiliza para seleccionar elementos que cumplan con una condición específica. `filter` aplicará esta función a cada elemento de la secuencia y, al final, generará una nueva secuencia que contiene solo los elementos para los cuales la función de filtro devolvió `True`.\n",
    "\n",
    "Con esta función *built-in* podremos **filtrar elementos de un iterable**. `filter` tiene la siguiente sintaxis:\n",
    "\n",
    "```Python\n",
    "filter(funcion, iterable)\n",
    "```\n",
    "\n",
    "Como ves, funciona muy parecido a map. La diferencia es que ahora la función que se le aplica tiene una salida estilo `True`/`False` **(lo que se conoce como MÁSCARA)**. Y con ese `True`/`False` se filtra el iterable, respetando sus posiciones. Por ejemplo\n",
    "\n",
    "```Python\n",
    "lista1 = [-1, 10, 23, -5, -10]\n",
    "```\n",
    "\n",
    "Si filtras los números positivos, te queda un array del tipo:\n",
    "\n",
    "```Python\n",
    "lista_bools = [False, True, True, False, False]\n",
    "```\n",
    "\n",
    "Y eso es lo que se le aplica a la lista, conservando y devolviendo únicamente los `True`:\n",
    "\n",
    "```Python\n",
    "lista_resultado = [10, 23]\n",
    "```\n",
    "\n",
    "A diferencia de `map`, **en `filter` sólo se usa un iterable**. Además, recuerda que en el argumento de la función, no sólo podrás usar `lambda`s, sino que podrás aplicar tus propias funciones. Ahora bien, ten en cuenta que **el output de esas funciones tiene que ser un `True`/`False`**.\n",
    "\n",
    "Veamos un ejemplo"
   ]
  },
  {
   "cell_type": "code",
   "execution_count": 6,
   "metadata": {},
   "outputs": [
    {
     "name": "stdout",
     "output_type": "stream",
     "text": [
      "[5, 6]\n"
     ]
    }
   ],
   "source": [
    "lista = [ 1 , 3, 5, 6, 2]\n",
    "\n",
    "filtrado = filter(lambda x: x >= 5, lista)\n",
    "\n",
    "print(list(filtrado))"
   ]
  },
  {
   "cell_type": "markdown",
   "metadata": {},
   "source": [
    "O implementando nuestra propia función >> cuando llamamos en filter a otra función creada, **NO va lambda**. Va solamente: \n",
    " ```Python\n",
    "filter(función,iterable)\n",
    " ``` "
   ]
  },
  {
   "cell_type": "code",
   "execution_count": 7,
   "metadata": {},
   "outputs": [
    {
     "name": "stdout",
     "output_type": "stream",
     "text": [
      "[5, 6]\n"
     ]
    }
   ],
   "source": [
    "lista = [ 1 , 3, 5, 6, 2]\n",
    "\n",
    "def mas_cinco(x:int) -> bool:\n",
    "    if x >= 5:\n",
    "        return True\n",
    "    \n",
    "    return False\n",
    "\n",
    "filtrado = filter(mas_cinco, lista)\n",
    "\n",
    "print(list(filtrado))"
   ]
  },
  {
   "cell_type": "markdown",
   "metadata": {},
   "source": [
    "Como ves, estas son otras formas más rápdas y elegantes de aplicar operaciones sobre colecciones."
   ]
  },
  {
   "cell_type": "markdown",
   "metadata": {},
   "source": [
    "<table align=\"left\">\n",
    " <tr><td width=\"80\"><img src=\"./img/ejercicio.png\" style=\"width:auto;height:auto\"></td>\n",
    "     <td style=\"text-align:left\">\n",
    "         <h3>Trabajando con filter</h3>\n",
    "         \n",
    "Utiliza filter para conseguir quedarte únicamente con los floats de la siguiente tupla.\n",
    "         \n",
    " </td></tr>\n",
    "</table>"
   ]
  },
  {
   "cell_type": "code",
   "execution_count": 8,
   "metadata": {},
   "outputs": [],
   "source": [
    "my_tuple = (1, 4., 10., 25)"
   ]
  },
  {
   "cell_type": "code",
   "execution_count": 9,
   "metadata": {},
   "outputs": [
    {
     "name": "stdout",
     "output_type": "stream",
     "text": [
      "(4.0, 10.0)\n"
     ]
    }
   ],
   "source": [
    "def filter_floats(x) -> bool:\n",
    "    if type(x) == float:\n",
    "        return True\n",
    "    else:\n",
    "        return False\n",
    "\n",
    "filtrado = filter(filter_floats, my_tuple)\n",
    "print(tuple(filtrado))"
   ]
  },
  {
   "cell_type": "markdown",
   "metadata": {},
   "source": [
    "##### **ISINTANCE:**\n",
    "Verifica la condición de un elemento. Y es útil por ejemplo, para reemplazar una función con IF.\n",
    "\n",
    "Por ejemplo, esta función con IF: \n",
    " ```Python\n",
    "* def filter_floats(x) -> bool:\n",
    "    if type(x) == float:\n",
    "        return True\n",
    "```\n",
    "Podría reemplazarse con `isinstance` en `filter`:\n",
    "```Python\n",
    "filtrado = filter(lambda x: isinstance(x, float), my_tuple)\n",
    "```"
   ]
  },
  {
   "cell_type": "code",
   "execution_count": 11,
   "metadata": {},
   "outputs": [
    {
     "name": "stdout",
     "output_type": "stream",
     "text": [
      "(4.0, 10.0)\n"
     ]
    }
   ],
   "source": [
    "filtrado = filter(lambda x: isinstance(x, float), my_tuple)\n",
    "print(tuple(filtrado))"
   ]
  },
  {
   "cell_type": "markdown",
   "metadata": {},
   "source": [
    "## 6. Timeit\n",
    "Para el bootcamp, y en general si vas a realizar una analítica descriptiva de datos, no suele ser crítico el rendimiento en tu programa. Imagina que has desarrollado un clasificador de movimientos bancarios tipo *Fintonic*. Estos algoritmos suelen ser muy pesados ya que hay que buscar en muchos strings y hacer varias comprobaciones. Aun así, has conseguido que te clasifique cada movimiento en 0,5 segundos. Que está muy bien. El problema es cuando un cliente tiene 1000 movimientos en una cuenta y tienes que clasificarlos todos aplicando tu clasificador mediante un bucle. El programa se te dispara a 250 segundos -> 4 minutos aprox, que estará el cliente esperando a que tu clasificador acabe... muchísimo. Con programación funcional mejora mucho la cosa ya que no hay que iterar.\n",
    "\n",
    "Por tanto, **cuando trabajes con muchos datos, ten en mente este tipo de funciones (`map`, `reduce`, `filter`) ya que la mejora en rendimiento es más que considerable.**"
   ]
  },
  {
   "cell_type": "code",
   "execution_count": 14,
   "metadata": {},
   "outputs": [],
   "source": [
    "num_elementos = 100000\n",
    "\n",
    "lista = list(range(num_elementos))"
   ]
  },
  {
   "cell_type": "markdown",
   "metadata": {},
   "source": [
    ">> ##### %% DOBLE PORCENTAJE:\n",
    "Se utiliza doble **%%** para llamar a los comandos que tiene Python, transformando la celda para escribir en otro lenguaje (por ej: Java, HTML) o en el caso de **timeit** cuenta los segundos/milisegundos/nanosegundos que tarda un código en ejecutarse."
   ]
  },
  {
   "cell_type": "code",
   "execution_count": 15,
   "metadata": {},
   "outputs": [
    {
     "name": "stdout",
     "output_type": "stream",
     "text": [
      "13.1 ms ± 1.3 ms per loop (mean ± std. dev. of 7 runs, 100 loops each)\n"
     ]
    }
   ],
   "source": [
    "%%timeit # timeit en un bucle es lo que mas tiempo tarda. MILISEGUNDOS ms\n",
    "\n",
    "lista_output = []\n",
    "for i in lista:\n",
    "    lista_output.append(i + 5)"
   ]
  },
  {
   "cell_type": "markdown",
   "metadata": {},
   "source": [
    "Generalmente, la función **MAP** es lo más rápido. Tarda menos que un bucle for y que una lista de comprensión! Así, estoy optimizando el código:"
   ]
  },
  {
   "cell_type": "code",
   "execution_count": 13,
   "metadata": {},
   "outputs": [
    {
     "name": "stdout",
     "output_type": "stream",
     "text": [
      "394 ns ± 35.2 ns per loop (mean ± std. dev. of 7 runs, 1,000,000 loops each)\n"
     ]
    }
   ],
   "source": [
    "%%timeit #un map tarda menos que en un bucle, junto a la lista de comprensión NANOSEGUNDOS ns\n",
    "\n",
    "lista_output = map(lambda x: x + 5, lista)"
   ]
  },
  {
   "cell_type": "code",
   "execution_count": 17,
   "metadata": {},
   "outputs": [
    {
     "name": "stdout",
     "output_type": "stream",
     "text": [
      "8.57 ms ± 394 µs per loop (mean ± std. dev. of 7 runs, 100 loops each)\n"
     ]
    }
   ],
   "source": [
    "%%timeit # lista de comprensión tarda menos que el bucle, y más que el map \n",
    "[i+5 for i in lista]"
   ]
  },
  {
   "cell_type": "markdown",
   "metadata": {},
   "source": [
    "Como ves, pasamos de milisegundos a nanosegundos."
   ]
  },
  {
   "cell_type": "markdown",
   "metadata": {},
   "source": [
    "## 7. Programacion funcional en Pandas\n",
    "La programación funcional resulta muy útil cuando queremos aplicar operaciones a cada elemento de una columna. Para ello utilizamos la función de pandas `apply`.\n",
    "\n",
    "En Data Analytics, trabajamos con **DataFrame**, que son tablas con filas y columnas, como podría ser una hoja de Excel, o las bases de datos relacionadas como SQL, que son filas y columnas también. \n",
    "\n",
    "Imaginemos que tenemos un DataFrame de temperaturas"
   ]
  },
  {
   "cell_type": "code",
   "execution_count": 18,
   "metadata": {},
   "outputs": [
    {
     "data": {
      "text/html": [
       "<div>\n",
       "<style scoped>\n",
       "    .dataframe tbody tr th:only-of-type {\n",
       "        vertical-align: middle;\n",
       "    }\n",
       "\n",
       "    .dataframe tbody tr th {\n",
       "        vertical-align: top;\n",
       "    }\n",
       "\n",
       "    .dataframe thead th {\n",
       "        text-align: right;\n",
       "    }\n",
       "</style>\n",
       "<table border=\"1\" class=\"dataframe\">\n",
       "  <thead>\n",
       "    <tr style=\"text-align: right;\">\n",
       "      <th></th>\n",
       "      <th>temperatura</th>\n",
       "    </tr>\n",
       "  </thead>\n",
       "  <tbody>\n",
       "    <tr>\n",
       "      <th>0</th>\n",
       "      <td>20</td>\n",
       "    </tr>\n",
       "    <tr>\n",
       "      <th>1</th>\n",
       "      <td>15</td>\n",
       "    </tr>\n",
       "    <tr>\n",
       "      <th>2</th>\n",
       "      <td>34</td>\n",
       "    </tr>\n",
       "    <tr>\n",
       "      <th>3</th>\n",
       "      <td>4</td>\n",
       "    </tr>\n",
       "    <tr>\n",
       "      <th>4</th>\n",
       "      <td>1</td>\n",
       "    </tr>\n",
       "    <tr>\n",
       "      <th>5</th>\n",
       "      <td>25</td>\n",
       "    </tr>\n",
       "    <tr>\n",
       "      <th>6</th>\n",
       "      <td>21</td>\n",
       "    </tr>\n",
       "    <tr>\n",
       "      <th>7</th>\n",
       "      <td>29</td>\n",
       "    </tr>\n",
       "    <tr>\n",
       "      <th>8</th>\n",
       "      <td>40</td>\n",
       "    </tr>\n",
       "  </tbody>\n",
       "</table>\n",
       "</div>"
      ],
      "text/plain": [
       "   temperatura\n",
       "0           20\n",
       "1           15\n",
       "2           34\n",
       "3            4\n",
       "4            1\n",
       "5           25\n",
       "6           21\n",
       "7           29\n",
       "8           40"
      ]
     },
     "execution_count": 18,
     "metadata": {},
     "output_type": "execute_result"
    }
   ],
   "source": [
    "import pandas as pd\n",
    "\n",
    "weather = pd.DataFrame({\"temperatura\": [20, 15, 34, 4, 1, 25, 21, 29, 40]})\n",
    "weather"
   ]
  },
  {
   "cell_type": "markdown",
   "metadata": {},
   "source": [
    "Si quiero calcular una nueva variable que me indique si estoy en verano o invierno, aplicamos una función personalizada mediante `apply`. **APPLY ES UN MÉTODO DE PANDAS**\n",
    "\n",
    "Para ello primero me defino la función."
   ]
  },
  {
   "cell_type": "markdown",
   "metadata": {},
   "source": [
    "##### **PANDAS + FUNCIÓN DEF**"
   ]
  },
  {
   "cell_type": "code",
   "execution_count": 25,
   "metadata": {
    "collapsed": true,
    "jupyter": {
     "outputs_hidden": true
    }
   },
   "outputs": [
    {
     "data": {
      "text/html": [
       "<div>\n",
       "<style scoped>\n",
       "    .dataframe tbody tr th:only-of-type {\n",
       "        vertical-align: middle;\n",
       "    }\n",
       "\n",
       "    .dataframe tbody tr th {\n",
       "        vertical-align: top;\n",
       "    }\n",
       "\n",
       "    .dataframe thead th {\n",
       "        text-align: right;\n",
       "    }\n",
       "</style>\n",
       "<table border=\"1\" class=\"dataframe\">\n",
       "  <thead>\n",
       "    <tr style=\"text-align: right;\">\n",
       "      <th></th>\n",
       "      <th>temperatura</th>\n",
       "      <th>season</th>\n",
       "    </tr>\n",
       "  </thead>\n",
       "  <tbody>\n",
       "    <tr>\n",
       "      <th>0</th>\n",
       "      <td>20</td>\n",
       "      <td>Otra</td>\n",
       "    </tr>\n",
       "    <tr>\n",
       "      <th>1</th>\n",
       "      <td>15</td>\n",
       "      <td>Otra</td>\n",
       "    </tr>\n",
       "    <tr>\n",
       "      <th>2</th>\n",
       "      <td>34</td>\n",
       "      <td>Verano</td>\n",
       "    </tr>\n",
       "    <tr>\n",
       "      <th>3</th>\n",
       "      <td>4</td>\n",
       "      <td>Invierno</td>\n",
       "    </tr>\n",
       "    <tr>\n",
       "      <th>4</th>\n",
       "      <td>1</td>\n",
       "      <td>Invierno</td>\n",
       "    </tr>\n",
       "    <tr>\n",
       "      <th>5</th>\n",
       "      <td>25</td>\n",
       "      <td>Otra</td>\n",
       "    </tr>\n",
       "    <tr>\n",
       "      <th>6</th>\n",
       "      <td>21</td>\n",
       "      <td>Otra</td>\n",
       "    </tr>\n",
       "    <tr>\n",
       "      <th>7</th>\n",
       "      <td>29</td>\n",
       "      <td>Otra</td>\n",
       "    </tr>\n",
       "    <tr>\n",
       "      <th>8</th>\n",
       "      <td>40</td>\n",
       "      <td>Verano</td>\n",
       "    </tr>\n",
       "  </tbody>\n",
       "</table>\n",
       "</div>"
      ],
      "text/plain": [
       "   temperatura    season\n",
       "0           20      Otra\n",
       "1           15      Otra\n",
       "2           34    Verano\n",
       "3            4  Invierno\n",
       "4            1  Invierno\n",
       "5           25      Otra\n",
       "6           21      Otra\n",
       "7           29      Otra\n",
       "8           40    Verano"
      ]
     },
     "execution_count": 25,
     "metadata": {},
     "output_type": "execute_result"
    }
   ],
   "source": [
    "def season(temp:int) -> str:\n",
    "    if temp < 5:\n",
    "        return \"Invierno\"\n",
    "    elif temp > 30:\n",
    "        return \"Verano\"\n",
    "    else:\n",
    "        return \"Otra\"\n",
    "    \n",
    "weather[\"season\"] = weather[\"temperatura\"].apply(season)\n",
    "weather"
   ]
  },
  {
   "cell_type": "markdown",
   "metadata": {},
   "source": [
    "##### **HEAD()**\n",
    "El **head()** lo que hace es devolver las primeras 5 filas. "
   ]
  },
  {
   "cell_type": "markdown",
   "metadata": {},
   "source": [
    "##### **PANDAS + LAMBDA**\n",
    "Es posible también aplicar una función lambda en apply(), en vez de una función normal"
   ]
  },
  {
   "cell_type": "code",
   "execution_count": 26,
   "metadata": {},
   "outputs": [
    {
     "data": {
      "text/html": [
       "<div>\n",
       "<style scoped>\n",
       "    .dataframe tbody tr th:only-of-type {\n",
       "        vertical-align: middle;\n",
       "    }\n",
       "\n",
       "    .dataframe tbody tr th {\n",
       "        vertical-align: top;\n",
       "    }\n",
       "\n",
       "    .dataframe thead th {\n",
       "        text-align: right;\n",
       "    }\n",
       "</style>\n",
       "<table border=\"1\" class=\"dataframe\">\n",
       "  <thead>\n",
       "    <tr style=\"text-align: right;\">\n",
       "      <th></th>\n",
       "      <th>temperatura</th>\n",
       "      <th>season</th>\n",
       "      <th>mas temperatura</th>\n",
       "    </tr>\n",
       "  </thead>\n",
       "  <tbody>\n",
       "    <tr>\n",
       "      <th>0</th>\n",
       "      <td>20</td>\n",
       "      <td>Otra</td>\n",
       "      <td>25</td>\n",
       "    </tr>\n",
       "    <tr>\n",
       "      <th>1</th>\n",
       "      <td>15</td>\n",
       "      <td>Otra</td>\n",
       "      <td>20</td>\n",
       "    </tr>\n",
       "    <tr>\n",
       "      <th>2</th>\n",
       "      <td>34</td>\n",
       "      <td>Verano</td>\n",
       "      <td>39</td>\n",
       "    </tr>\n",
       "    <tr>\n",
       "      <th>3</th>\n",
       "      <td>4</td>\n",
       "      <td>Invierno</td>\n",
       "      <td>9</td>\n",
       "    </tr>\n",
       "    <tr>\n",
       "      <th>4</th>\n",
       "      <td>1</td>\n",
       "      <td>Invierno</td>\n",
       "      <td>6</td>\n",
       "    </tr>\n",
       "  </tbody>\n",
       "</table>\n",
       "</div>"
      ],
      "text/plain": [
       "   temperatura    season  mas temperatura\n",
       "0           20      Otra               25\n",
       "1           15      Otra               20\n",
       "2           34    Verano               39\n",
       "3            4  Invierno                9\n",
       "4            1  Invierno                6"
      ]
     },
     "execution_count": 26,
     "metadata": {},
     "output_type": "execute_result"
    }
   ],
   "source": [
    "weather[\"mas temperatura\"] = weather[\"temperatura\"].apply(lambda x: x + 5)\n",
    "weather.head()"
   ]
  },
  {
   "cell_type": "code",
   "execution_count": 27,
   "metadata": {},
   "outputs": [
    {
     "data": {
      "text/html": [
       "<div>\n",
       "<style scoped>\n",
       "    .dataframe tbody tr th:only-of-type {\n",
       "        vertical-align: middle;\n",
       "    }\n",
       "\n",
       "    .dataframe tbody tr th {\n",
       "        vertical-align: top;\n",
       "    }\n",
       "\n",
       "    .dataframe thead th {\n",
       "        text-align: right;\n",
       "    }\n",
       "</style>\n",
       "<table border=\"1\" class=\"dataframe\">\n",
       "  <thead>\n",
       "    <tr style=\"text-align: right;\">\n",
       "      <th></th>\n",
       "      <th>temperatura</th>\n",
       "      <th>season</th>\n",
       "      <th>mas temperatura</th>\n",
       "      <th>season mayusculas</th>\n",
       "    </tr>\n",
       "  </thead>\n",
       "  <tbody>\n",
       "    <tr>\n",
       "      <th>0</th>\n",
       "      <td>20</td>\n",
       "      <td>Otra</td>\n",
       "      <td>25</td>\n",
       "      <td>OTRA</td>\n",
       "    </tr>\n",
       "    <tr>\n",
       "      <th>1</th>\n",
       "      <td>15</td>\n",
       "      <td>Otra</td>\n",
       "      <td>20</td>\n",
       "      <td>OTRA</td>\n",
       "    </tr>\n",
       "    <tr>\n",
       "      <th>2</th>\n",
       "      <td>34</td>\n",
       "      <td>Verano</td>\n",
       "      <td>39</td>\n",
       "      <td>VERANO</td>\n",
       "    </tr>\n",
       "    <tr>\n",
       "      <th>3</th>\n",
       "      <td>4</td>\n",
       "      <td>Invierno</td>\n",
       "      <td>9</td>\n",
       "      <td>INVIERNO</td>\n",
       "    </tr>\n",
       "    <tr>\n",
       "      <th>4</th>\n",
       "      <td>1</td>\n",
       "      <td>Invierno</td>\n",
       "      <td>6</td>\n",
       "      <td>INVIERNO</td>\n",
       "    </tr>\n",
       "  </tbody>\n",
       "</table>\n",
       "</div>"
      ],
      "text/plain": [
       "   temperatura    season  mas temperatura season mayusculas\n",
       "0           20      Otra               25              OTRA\n",
       "1           15      Otra               20              OTRA\n",
       "2           34    Verano               39            VERANO\n",
       "3            4  Invierno                9          INVIERNO\n",
       "4            1  Invierno                6          INVIERNO"
      ]
     },
     "execution_count": 27,
     "metadata": {},
     "output_type": "execute_result"
    }
   ],
   "source": [
    "weather[\"season mayusculas\"] = weather[\"season\"].apply(str.upper)\n",
    "weather.head() "
   ]
  },
  {
   "cell_type": "code",
   "execution_count": 28,
   "metadata": {},
   "outputs": [
    {
     "data": {
      "text/html": [
       "<div>\n",
       "<style scoped>\n",
       "    .dataframe tbody tr th:only-of-type {\n",
       "        vertical-align: middle;\n",
       "    }\n",
       "\n",
       "    .dataframe tbody tr th {\n",
       "        vertical-align: top;\n",
       "    }\n",
       "\n",
       "    .dataframe thead th {\n",
       "        text-align: right;\n",
       "    }\n",
       "</style>\n",
       "<table border=\"1\" class=\"dataframe\">\n",
       "  <thead>\n",
       "    <tr style=\"text-align: right;\">\n",
       "      <th></th>\n",
       "      <th>temperatura</th>\n",
       "      <th>season</th>\n",
       "      <th>mas temperatura</th>\n",
       "      <th>season mayusculas</th>\n",
       "      <th>temperatura_F</th>\n",
       "    </tr>\n",
       "  </thead>\n",
       "  <tbody>\n",
       "    <tr>\n",
       "      <th>0</th>\n",
       "      <td>20</td>\n",
       "      <td>Otra</td>\n",
       "      <td>25</td>\n",
       "      <td>OTRA</td>\n",
       "      <td>68.0</td>\n",
       "    </tr>\n",
       "    <tr>\n",
       "      <th>1</th>\n",
       "      <td>15</td>\n",
       "      <td>Otra</td>\n",
       "      <td>20</td>\n",
       "      <td>OTRA</td>\n",
       "      <td>59.0</td>\n",
       "    </tr>\n",
       "    <tr>\n",
       "      <th>2</th>\n",
       "      <td>34</td>\n",
       "      <td>Verano</td>\n",
       "      <td>39</td>\n",
       "      <td>VERANO</td>\n",
       "      <td>93.2</td>\n",
       "    </tr>\n",
       "    <tr>\n",
       "      <th>3</th>\n",
       "      <td>4</td>\n",
       "      <td>Invierno</td>\n",
       "      <td>9</td>\n",
       "      <td>INVIERNO</td>\n",
       "      <td>39.2</td>\n",
       "    </tr>\n",
       "    <tr>\n",
       "      <th>4</th>\n",
       "      <td>1</td>\n",
       "      <td>Invierno</td>\n",
       "      <td>6</td>\n",
       "      <td>INVIERNO</td>\n",
       "      <td>33.8</td>\n",
       "    </tr>\n",
       "    <tr>\n",
       "      <th>5</th>\n",
       "      <td>25</td>\n",
       "      <td>Otra</td>\n",
       "      <td>30</td>\n",
       "      <td>OTRA</td>\n",
       "      <td>77.0</td>\n",
       "    </tr>\n",
       "    <tr>\n",
       "      <th>6</th>\n",
       "      <td>21</td>\n",
       "      <td>Otra</td>\n",
       "      <td>26</td>\n",
       "      <td>OTRA</td>\n",
       "      <td>69.8</td>\n",
       "    </tr>\n",
       "    <tr>\n",
       "      <th>7</th>\n",
       "      <td>29</td>\n",
       "      <td>Otra</td>\n",
       "      <td>34</td>\n",
       "      <td>OTRA</td>\n",
       "      <td>84.2</td>\n",
       "    </tr>\n",
       "    <tr>\n",
       "      <th>8</th>\n",
       "      <td>40</td>\n",
       "      <td>Verano</td>\n",
       "      <td>45</td>\n",
       "      <td>VERANO</td>\n",
       "      <td>104.0</td>\n",
       "    </tr>\n",
       "  </tbody>\n",
       "</table>\n",
       "</div>"
      ],
      "text/plain": [
       "   temperatura    season  mas temperatura season mayusculas  temperatura_F\n",
       "0           20      Otra               25              OTRA           68.0\n",
       "1           15      Otra               20              OTRA           59.0\n",
       "2           34    Verano               39            VERANO           93.2\n",
       "3            4  Invierno                9          INVIERNO           39.2\n",
       "4            1  Invierno                6          INVIERNO           33.8\n",
       "5           25      Otra               30              OTRA           77.0\n",
       "6           21      Otra               26              OTRA           69.8\n",
       "7           29      Otra               34              OTRA           84.2\n",
       "8           40    Verano               45            VERANO          104.0"
      ]
     },
     "execution_count": 28,
     "metadata": {},
     "output_type": "execute_result"
    }
   ],
   "source": [
    "# (Grados °C × 9 / 5) + 32 = F\n",
    "\n",
    "weather[\"temperatura_F\"] = weather[\"temperatura\"].apply(lambda x: (x *9/5)+32)\n",
    "weather"
   ]
  },
  {
   "cell_type": "markdown",
   "metadata": {},
   "source": [
    ">> ##### **NUMPY / NP**\n",
    "NumPy es una biblioteca que proporciona la función \"np\", y esto, indica que `where` proviene de NumPy. Si no incluyeras \"np\" y simplemente escribieras where en ese contexto, Python generaría un error porque no reconocería la función. El uso de \"np\" es necesario para indicar que where proviene de la biblioteca NumPy."
   ]
  },
  {
   "cell_type": "code",
   "execution_count": 29,
   "metadata": {},
   "outputs": [
    {
     "data": {
      "text/html": [
       "<div>\n",
       "<style scoped>\n",
       "    .dataframe tbody tr th:only-of-type {\n",
       "        vertical-align: middle;\n",
       "    }\n",
       "\n",
       "    .dataframe tbody tr th {\n",
       "        vertical-align: top;\n",
       "    }\n",
       "\n",
       "    .dataframe thead th {\n",
       "        text-align: right;\n",
       "    }\n",
       "</style>\n",
       "<table border=\"1\" class=\"dataframe\">\n",
       "  <thead>\n",
       "    <tr style=\"text-align: right;\">\n",
       "      <th></th>\n",
       "      <th>temperatura</th>\n",
       "      <th>season</th>\n",
       "      <th>mas temperatura</th>\n",
       "      <th>season mayusculas</th>\n",
       "      <th>temperatura_F</th>\n",
       "      <th>Negocio</th>\n",
       "    </tr>\n",
       "  </thead>\n",
       "  <tbody>\n",
       "    <tr>\n",
       "      <th>0</th>\n",
       "      <td>20</td>\n",
       "      <td>Otra</td>\n",
       "      <td>25</td>\n",
       "      <td>OTRA</td>\n",
       "      <td>68.0</td>\n",
       "      <td>True</td>\n",
       "    </tr>\n",
       "    <tr>\n",
       "      <th>1</th>\n",
       "      <td>15</td>\n",
       "      <td>Otra</td>\n",
       "      <td>20</td>\n",
       "      <td>OTRA</td>\n",
       "      <td>59.0</td>\n",
       "      <td>False</td>\n",
       "    </tr>\n",
       "    <tr>\n",
       "      <th>2</th>\n",
       "      <td>34</td>\n",
       "      <td>Verano</td>\n",
       "      <td>39</td>\n",
       "      <td>VERANO</td>\n",
       "      <td>93.2</td>\n",
       "      <td>True</td>\n",
       "    </tr>\n",
       "    <tr>\n",
       "      <th>3</th>\n",
       "      <td>4</td>\n",
       "      <td>Invierno</td>\n",
       "      <td>9</td>\n",
       "      <td>INVIERNO</td>\n",
       "      <td>39.2</td>\n",
       "      <td>False</td>\n",
       "    </tr>\n",
       "    <tr>\n",
       "      <th>4</th>\n",
       "      <td>1</td>\n",
       "      <td>Invierno</td>\n",
       "      <td>6</td>\n",
       "      <td>INVIERNO</td>\n",
       "      <td>33.8</td>\n",
       "      <td>False</td>\n",
       "    </tr>\n",
       "  </tbody>\n",
       "</table>\n",
       "</div>"
      ],
      "text/plain": [
       "   temperatura    season  mas temperatura season mayusculas  temperatura_F  \\\n",
       "0           20      Otra               25              OTRA           68.0   \n",
       "1           15      Otra               20              OTRA           59.0   \n",
       "2           34    Verano               39            VERANO           93.2   \n",
       "3            4  Invierno                9          INVIERNO           39.2   \n",
       "4            1  Invierno                6          INVIERNO           33.8   \n",
       "\n",
       "   Negocio  \n",
       "0     True  \n",
       "1    False  \n",
       "2     True  \n",
       "3    False  \n",
       "4    False  "
      ]
     },
     "execution_count": 29,
     "metadata": {},
     "output_type": "execute_result"
    }
   ],
   "source": [
    "import numpy as np\n",
    "weather['Negocio'] = np.where(weather['temperatura']>=20, True, False)\n",
    "weather.head()"
   ]
  },
  {
   "cell_type": "markdown",
   "metadata": {},
   "source": [
    "## 8. Resumen\n",
    "Como habrás podido comprobar en este Notebook, y en lo vimos en recursividad, esta manera de programar es bastante diferente. Ya no entendemos el programa como un conjunto de variables o estados, sino como una serie de `input`/`output`. Lo bueno que tiene **Python es que combina la programación orientada a objetos con la programación funcional**, lo que le otorga una gran potencia."
   ]
  },
  {
   "cell_type": "code",
   "execution_count": null,
   "metadata": {},
   "outputs": [],
   "source": [
    "# Funciones lambda\n",
    "suma_lambda = lambda x, y: x + y\n",
    "print(suma_lambda(5, 7))\n",
    "\n",
    "\n",
    "# Funcion map\n",
    "my_list = [1, 5, 4, 6, 8, 11, 3, 12]\n",
    "new_list = map(lambda x: x + 2 , my_list)\n",
    "print(list(new_list))\n",
    "\n",
    "\n",
    "# Funcion reduce\n",
    "from functools import reduce\n",
    "lista = [ 1 , 3, 5, 6, 2]\n",
    "print(reduce(lambda a,b : a+b, lista)) \n",
    "\n",
    "\n",
    "# Filter\n",
    "lista = [ 1 , 3, 5, 6, 2]\n",
    "filtrado = filter(lambda x: x >= 5, lista)\n",
    "print(list(filtrado))"
   ]
  },
  {
   "cell_type": "code",
   "execution_count": 1,
   "metadata": {},
   "outputs": [],
   "source": [
    "def litres(time):\n",
    "    litres_per_hour = time * 0.5\n",
    "    return litres_per_hour"
   ]
  },
  {
   "cell_type": "code",
   "execution_count": 3,
   "metadata": {},
   "outputs": [
    {
     "data": {
      "text/plain": [
       "0.75"
      ]
     },
     "execution_count": 3,
     "metadata": {},
     "output_type": "execute_result"
    }
   ],
   "source": [
    "litres(1.5)"
   ]
  },
  {
   "cell_type": "markdown",
   "metadata": {},
   "source": [
    "#### EJERCICIOS CODEWARS"
   ]
  },
  {
   "cell_type": "code",
   "execution_count": 10,
   "metadata": {},
   "outputs": [
    {
     "data": {
      "text/plain": [
       "4"
      ]
     },
     "execution_count": 10,
     "metadata": {},
     "output_type": "execute_result"
    }
   ],
   "source": [
    "def find_smallest_int(list):\n",
    "   minimo = min(list)\n",
    "   return minimo\n",
    "\n",
    "find_smallest_int([4,5,8,4])\n"
   ]
  },
  {
   "cell_type": "code",
   "execution_count": 14,
   "metadata": {},
   "outputs": [
    {
     "data": {
      "text/plain": [
       "'ol'"
      ]
     },
     "execution_count": 14,
     "metadata": {},
     "output_type": "execute_result"
    }
   ],
   "source": [
    "def eliminar_carac(arg:str):\n",
    "    cadena_nueva = ''\n",
    "    for i in arg:\n",
    "        cadena_nueva += i\n",
    "    return cadena_nueva[1:-1]\n",
    "\n",
    "eliminar_carac(\"Hola\")"
   ]
  },
  {
   "cell_type": "code",
   "execution_count": null,
   "metadata": {},
   "outputs": [],
   "source": [
    "def evaporator(content:int,evap_per_day:int,threshold:int):\n",
    "    content = 100\n",
    "    day = \n",
    "    while content > 10: \n",
    "        content -= evap_per_day\n",
    "    \n",
    "(100,10,5)"
   ]
  }
 ],
 "metadata": {
  "kernelspec": {
   "display_name": "Python 3",
   "language": "python",
   "name": "python3"
  },
  "language_info": {
   "codemirror_mode": {
    "name": "ipython",
    "version": 3
   },
   "file_extension": ".py",
   "mimetype": "text/x-python",
   "name": "python",
   "nbconvert_exporter": "python",
   "pygments_lexer": "ipython3",
   "version": "3.11.5"
  }
 },
 "nbformat": 4,
 "nbformat_minor": 4
}
