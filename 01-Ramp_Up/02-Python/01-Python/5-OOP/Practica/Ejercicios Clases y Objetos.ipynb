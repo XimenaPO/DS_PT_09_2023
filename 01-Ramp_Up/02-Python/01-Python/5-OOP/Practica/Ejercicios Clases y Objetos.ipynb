{
 "cells": [
  {
   "cell_type": "markdown",
   "metadata": {},
   "source": [
    "![imagen](./img/ejercicios.png)\n",
    "\n",
    "# Ejercicios Clases y Objetos"
   ]
  },
  {
   "cell_type": "markdown",
   "metadata": {},
   "source": [
    "## Ejercicio 1\n",
    "Somos una empresa que tiene varias tiendas de electrodomesticos. Necesitamos un programa para manejar las tiendas, ver las ventas que han tenido, cuántos empleados hay, etc... Para ello vamos a modelizar la tienda en una clase, que tendrá las siguientes características:\n",
    "* Nombre clase: \"Tienda\"\n",
    "* Atributos comunes:\n",
    "    * Tipo: \"Electrodomésticos\"\n",
    "    * Abierta: True\n",
    "* Atributos propios de cada tienda:\n",
    "    * Nombre - String\n",
    "    * Dirección - String\n",
    "    * Número de empleados - int\n",
    "    * Ventas ultimos 3 meses - Lista de 3 numeros\n",
    "* Método para calcular las ventas de todos los meses, que devuelva un numero con todas las ventas.\n",
    "* Método que calcula la media de ventas de los ultimos meses, por empleado\n",
    "* Método que devuelve en un string el nombre de la tienda, junto con su dirección.\n",
    "* Método que obtiene las ventas del último mes.\n",
    "* Método para dar una proyección de las ventas en caso de haber invertido X dinero en marketing en esa tienda. Siendo X el parámetro de entrada. Si X es menor de 1000, las ventas de los ultimos 3 meses hubiesen sido de (1.2 x ventas), si es mayor o igual de 1000, las ventas hubiesen sido de (1.5 x venta). El método reescribe el atributo de ventas en los últimos 3 meses, y además devuelve las ventas con el aumento.\n",
    "\n",
    "Se pide:\n",
    "1. Implementar la clase \"Tienda\"\n",
    "2. Crear tres tiendas con datos inventados\n",
    "3. Comprueba en al menos una de ellas, todo lo implementado en la clase tienda (sus atributos, media de ventas, ventas/empleado...)\n",
    "3. Calcular las ventas del último mes de todas las tiendas. Para ello usa el bucle `for`\n",
    "4. Imprime por pantalla los nombres de las tiendas cuya dirección lleve el string \"Avenida\"\n",
    "5. Seguro que ya has hecho este apartado... Documenta la clase :)"
   ]
  },
  {
   "cell_type": "code",
   "execution_count": 1,
   "metadata": {},
   "outputs": [],
   "source": [
    "class Tienda:\n",
    "    tipo = \"electrodomesticos\"\n",
    "    abierta = True\n",
    "\n",
    "    def __init__(self, nombre, direccion, num_empleados, venta_3m):\n",
    "        self.nombre = nombre\n",
    "        self.direccion = direccion\n",
    "        self.num_empleados = num_empleados\n",
    "        self.venta_3m = venta_3m\n",
    "        \n",
    "    def tot_ventas(self):\n",
    "        return sum(self.venta_3m)\n",
    "    \n",
    "    def venta_por_empleado(self):\n",
    "        return self.tot_ventas() / self.num_empleados\n",
    "        \n",
    "    def nombre_direccion (self):\n",
    "        return \"Nombre de la tienda: \" + self.nombre + \"\\nDireccion: \" + self.direccion\n",
    "\n",
    "    def ventas_ultimo_mes(self):\n",
    "        return self.venta_3m[-1]\n",
    "        \n",
    "    def proyeccion(self, marketing):\n",
    "        for i in range(len(self.venta_3m)):\n",
    "            if marketing <1000: \n",
    "                self.venta_3m[i] = self.venta_3m[i] * 1.2\n",
    "            else:\n",
    "                self.venta_3m[i] = self.venta_3m[i] * 1.5\n",
    "        return self.venta_3m"
   ]
  },
  {
   "cell_type": "code",
   "execution_count": 2,
   "metadata": {},
   "outputs": [],
   "source": [
    "Serranos = Tienda(\"Serranos\", \"Puerta de Serranos\", 4, [2000,1500,1000])\n",
    "\n",
    "Navellos = Tienda(\"Navellos\", \"Avenida Plaza de la Virgen\", 3, [3000, 2500, 4000])\n",
    "\n",
    "Ayuntamiento = Tienda(\"Ayuntamiento\", \"Plaza del Ayuntamiento\", 6, [500, 1500, 1800])"
   ]
  },
  {
   "cell_type": "code",
   "execution_count": 3,
   "metadata": {},
   "outputs": [
    {
     "name": "stdout",
     "output_type": "stream",
     "text": [
      "4500\n",
      "1125.0\n",
      "Nombre de la tienda: Serranos\n",
      "Direccion: Puerta de Serranos\n",
      "1000\n",
      "[2400.0, 1800.0, 1200.0]\n",
      "[2400.0, 1800.0, 1200.0]\n"
     ]
    }
   ],
   "source": [
    "print(Serranos.tot_ventas())\n",
    "print(Serranos.venta_por_empleado())\n",
    "print(Serranos.nombre_direccion())\n",
    "print(Serranos.ventas_ultimo_mes())\n",
    "print(Serranos.proyeccion(700))\n",
    "print(Serranos.venta_3m)\n",
    "\n"
   ]
  },
  {
   "cell_type": "code",
   "execution_count": 64,
   "metadata": {},
   "outputs": [
    {
     "name": "stdout",
     "output_type": "stream",
     "text": [
      "6800\n"
     ]
    }
   ],
   "source": [
    "total_tiendas = [Serranos, Navellos, Ayuntamiento]\n",
    "\n",
    "total_ventas = 0\n",
    "\n",
    "for tienda in total_tiendas:\n",
    "    total_ventas = total_ventas + tienda.ventas_ultimo_mes()\n",
    "    \n",
    "print(total_ventas)"
   ]
  },
  {
   "cell_type": "code",
   "execution_count": 68,
   "metadata": {},
   "outputs": [
    {
     "name": "stdout",
     "output_type": "stream",
     "text": [
      "[1000, 4000, 1800]\n"
     ]
    }
   ],
   "source": [
    "total_tiendas = [Serranos, Navellos, Ayuntamiento]\n",
    "\n",
    "total_ventas_ult_mes = []\n",
    "\n",
    "for tienda in total_tiendas:\n",
    "    total_ventas_ult_mes.append(tienda.ventas_ultimo_mes())\n",
    "    \n",
    "print(total_ventas_ult_mes)"
   ]
  },
  {
   "cell_type": "code",
   "execution_count": 67,
   "metadata": {},
   "outputs": [
    {
     "name": "stdout",
     "output_type": "stream",
     "text": [
      "Navellos\n"
     ]
    }
   ],
   "source": [
    "total_tiendas = [Serranos, Navellos, Ayuntamiento]\n",
    "\n",
    "for tienda in total_tiendas:\n",
    "    if \"Avenida\" in tienda.direccion:\n",
    "        print(tienda.nombre)"
   ]
  },
  {
   "cell_type": "markdown",
   "metadata": {},
   "source": [
    "## Ejercicio 2\n",
    "En este ejercicio vamos a implementar una clase *Perro* en Python. La clase tiene las siguientes características:\n",
    "* Cosas que sabemos seguro que tiene un perro\n",
    "    * Tiene 4 patas\n",
    "    * 2 orejas\n",
    "    * 2 ojos\n",
    "    * Una velocidad de 0. Por defecto, el perro está parado\n",
    "* Cuando se inicialice:\n",
    "    * El perro será de una determinada raza\n",
    "    * Por defecto tendrá pelo \"Marrón\", a no ser que se diga lo contrario.\n",
    "    * Por defecto no tendrá dueño, a no ser que se diga lo contrario.\n",
    "    \n",
    "* Dispondrá también de un método llamado andar, que tiene un argumento de entrada (aumento_velocidad). Este valor se le sumará a la velocidad que ya llevaba el perro.\n",
    "* Necesita otro método (parar), donde pondremos la velocidad a 0.\n",
    "* Otro método llamado \"ladrar\", que tendrá un argumento de entrada, y la salida será el siguiente string: \"GUAU!\" + el argumento de entrada.\n",
    "\n",
    "\n",
    "Se pide:\n",
    "* Implementa la clase *Perro*\n",
    "* Crea un objeto de tipo *Perro*, sin dueño\n",
    "* Comprueba que están bien todos sus atributos\n",
    "* Prueba que ande, y comprueba su velocidad\n",
    "* Páralo\n",
    "* Documenta la clase *Perro*"
   ]
  },
  {
   "cell_type": "code",
   "execution_count": 106,
   "metadata": {},
   "outputs": [],
   "source": [
    "class Perro:\n",
    "    '''  \n",
    "   Clase Perro. Los atributos generales a todos los perros:\n",
    "   patas = 4 -> int\n",
    "   orejas = 2 -> int\n",
    "   ojos = 2 -> int\n",
    "   Velocidad = 0 -> int\n",
    "    '''\n",
    "    patas = 4\n",
    "    orejas = 2\n",
    "    ojos = 2\n",
    "    velocidad = 0\n",
    "    \n",
    "    def __init__(self, raza, color=\"Marron\", dueño=False):\n",
    "        ''' \n",
    "        Atributos particulares - Diferencias entre perros:\n",
    "        raza -> string\n",
    "        color -> string - Marron por defecto\n",
    "        dueño -> bool - False por defecto\n",
    "        '''\n",
    "        \n",
    "        self.raza = raza\n",
    "        self.color = color\n",
    "        self.dueño = dueño\n",
    "    \n",
    "    def andar(self, aumento_velocidad):\n",
    "        '''  \n",
    "        El método andar, aumenta la velocidad:\n",
    "        INPUT:\n",
    "        aumento_velocidad -> int/float\n",
    "        OUTPUT:\n",
    "        velocidad + aumento_velocidad -> int/float\n",
    "        '''\n",
    "        self.velocidad = self.velocidad + aumento_velocidad\n",
    "        return self.velocidad\n",
    "    \n",
    "    def parar(self):\n",
    "        ''' \n",
    "        El método parar, reduce el atributo velocidad a 0\n",
    "        OUTPUT:\n",
    "        velocidad -> 0\n",
    "        '''\n",
    "        self.velocidad = 0\n",
    "        return self.velocidad\n",
    "    \n",
    "    \n",
    "    def ladrar(self, ladra=\" Hola\"):\n",
    "        \n",
    "        return \"GUAU!\" + ladra"
   ]
  },
  {
   "cell_type": "code",
   "execution_count": 101,
   "metadata": {},
   "outputs": [
    {
     "name": "stdout",
     "output_type": "stream",
     "text": [
      "Salchicha\n",
      "Verde\n",
      "False\n",
      "0\n",
      "10\n",
      "10\n",
      "0\n",
      "0\n"
     ]
    },
    {
     "data": {
      "text/plain": [
       "'GUAU! Quiere decir me voy'"
      ]
     },
     "execution_count": 101,
     "metadata": {},
     "output_type": "execute_result"
    }
   ],
   "source": [
    "mi_perro = Perro(\"Salchicha\", \"Verde\", False)\n",
    "print(mi_perro.raza)\n",
    "print(mi_perro.color)\n",
    "print(mi_perro.dueño)\n",
    "print(mi_perro.velocidad)\n",
    "print(mi_perro.andar(10))\n",
    "print(mi_perro.velocidad)\n",
    "print(mi_perro.parar())\n",
    "print(mi_perro.velocidad)\n",
    "\n",
    "mi_perro.ladrar(\" Quiere decir me voy\")"
   ]
  },
  {
   "cell_type": "code",
   "execution_count": 108,
   "metadata": {},
   "outputs": [
    {
     "name": "stdout",
     "output_type": "stream",
     "text": [
      "0\n"
     ]
    }
   ],
   "source": [
    "print(mi_perro.parar())"
   ]
  },
  {
   "cell_type": "code",
   "execution_count": null,
   "metadata": {},
   "outputs": [],
   "source": []
  }
 ],
 "metadata": {
  "kernelspec": {
   "display_name": "Python 3",
   "language": "python",
   "name": "python3"
  },
  "language_info": {
   "codemirror_mode": {
    "name": "ipython",
    "version": 3
   },
   "file_extension": ".py",
   "mimetype": "text/x-python",
   "name": "python",
   "nbconvert_exporter": "python",
   "pygments_lexer": "ipython3",
   "version": "3.11.5"
  }
 },
 "nbformat": 4,
 "nbformat_minor": 4
}
