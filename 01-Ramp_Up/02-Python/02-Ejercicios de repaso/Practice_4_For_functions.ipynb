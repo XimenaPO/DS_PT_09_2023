{
 "cells": [
  {
   "cell_type": "markdown",
   "metadata": {},
   "source": [
    "# Python | day 4 | for loop, functions (feat. basics & if/else) "
   ]
  },
  {
   "cell_type": "markdown",
   "metadata": {},
   "source": [
    "### Ejercicio 0.1 - Conceptos básicos de Python\n",
    "\n",
    "1. ¿Qué usamos para hacer un salto de línea en una impresión? ¿Y para un tabulador?"
   ]
  },
  {
   "cell_type": "code",
   "execution_count": 40,
   "metadata": {},
   "outputs": [
    {
     "name": "stdout",
     "output_type": "stream",
     "text": [
      "Acá estamos rindiendo el examen de: \n",
      "Data Science\n",
      "Acá estamos rindiendo el examen de: \n",
      "\tData Science\n"
     ]
    }
   ],
   "source": [
    "# SALTO DE LINEA \n",
    "\n",
    "print(\"Acá estamos rindiendo el examen de: \\nData Science\")\n",
    "\n",
    "print(\"Acá estamos rindiendo el examen de: \\n\\tData Science\")\n"
   ]
  },
  {
   "cell_type": "markdown",
   "metadata": {},
   "source": [
    "2. Haz un conversor de dólares a euros. Tendrás que utilizar la entrada"
   ]
  },
  {
   "cell_type": "code",
   "execution_count": 73,
   "metadata": {},
   "outputs": [
    {
     "name": "stdout",
     "output_type": "stream",
     "text": [
      "1000.0 dolares, equivalen a: 920.0 euros\n"
     ]
    }
   ],
   "source": [
    "valor_dolar = float(input(\"Ingrese el valor en dólares\"))\n",
    "cambio = 0.92\n",
    "dolar_a_euro = valor_dolar * cambio\n",
    "dolar_a_euro = round(dolar_a_euro,2)\n",
    "\n",
    "print(f\"{valor_dolar} dolares, equivalen a: {dolar_a_euro} euros\")\n"
   ]
  },
  {
   "cell_type": "markdown",
   "metadata": {},
   "source": [
    "3. Declara dos cadenas, una será tu nombre y la otra tu apellido. Declara tu edad en otra variable. Imprime una sentencia que incluya esas variables, usando ```f{}``. ¿Qué es eso?"
   ]
  },
  {
   "cell_type": "code",
   "execution_count": 78,
   "metadata": {},
   "outputs": [
    {
     "name": "stdout",
     "output_type": "stream",
     "text": [
      "Hola, me llamo Ximena Perez Olognero y tengo 30 años\n",
      "Hola, me llamo Ximena Perez Olognero y tengo 30 años\n",
      "Hola, me llamo Ximena Perez Olognero y tengo 30 años\n",
      "Hola, me llamo Ximena Perez Olognero y tengo 30 años\n"
     ]
    }
   ],
   "source": [
    "nombre = \"Ximena\"\n",
    "apellido = \"Perez Olognero\"\n",
    "edad = 30\n",
    "\n",
    "# CON F STRINGS\n",
    "print(f\"Hola, me llamo {nombre} {apellido} y tengo {edad} años\")\n",
    "# CON %S\n",
    "print(\"Hola, me llamo %s %s y tengo %s años\" %(nombre, apellido, edad))\n",
    "# CON SIGNO ++\n",
    "print(\"Hola, me llamo \" + nombre + \" \" + apellido + \" y tengo \" + str(edad) + \" años\")\n",
    "# CON COMAS ,,\n",
    "print(\"Hola, me llamo\", nombre, apellido, \"y tengo\", edad, \"años\")"
   ]
  },
  {
   "cell_type": "markdown",
   "metadata": {},
   "source": [
    "4. Dada la lista `[4,7, -3]`, calcula su máximo, mínimo y suma."
   ]
  },
  {
   "cell_type": "code",
   "execution_count": 79,
   "metadata": {},
   "outputs": [
    {
     "name": "stdout",
     "output_type": "stream",
     "text": [
      "SUMA: 8\n",
      "MINIMO: -3\n",
      "MAXIMO 7\n"
     ]
    }
   ],
   "source": [
    "lista = [4,7,-3]\n",
    "\n",
    "print(\"SUMA:\", sum(lista))\n",
    "print(\"MINIMO:\", min(lista))\n",
    "print(\"MAXIMO\", max(lista))"
   ]
  },
  {
   "cell_type": "markdown",
   "metadata": {},
   "source": [
    "5. Redondea `38.38276252728` a 5 decimales.\n"
   ]
  },
  {
   "cell_type": "code",
   "execution_count": 56,
   "metadata": {},
   "outputs": [
    {
     "name": "stdout",
     "output_type": "stream",
     "text": [
      "38.38276\n"
     ]
    }
   ],
   "source": [
    "numero = 38.38276252728\n",
    "print(round(numero,5))"
   ]
  },
  {
   "cell_type": "markdown",
   "metadata": {},
   "source": [
    "6. Pon la frase \"Born to be wild\" en mayúsculas, luego en minúsculas, divídela por espacios y, por último, sustituye \"wild\" por \"Geek\"."
   ]
  },
  {
   "cell_type": "code",
   "execution_count": 66,
   "metadata": {},
   "outputs": [
    {
     "name": "stdout",
     "output_type": "stream",
     "text": [
      "Frase en mayusculas:  BORN TO BE WILD\n",
      "Frase en minusculas:  born to be wild\n",
      "Frase separada por palabras:  ['Born', 'to', 'be', 'wild']\n",
      "Sustitución de última palabra:  Born to be Geek\n"
     ]
    }
   ],
   "source": [
    "frase = \"Born to be wild\"\n",
    "\n",
    "mayusculas = frase.upper()\n",
    "minusculas = mayusculas.lower()\n",
    "\n",
    "palabras = frase.split()\n",
    "\n",
    "frase_sustituida = frase.replace(\"wild\", \"Geek\")\n",
    "\n",
    "print(\"Frase en mayusculas: \", mayusculas)\n",
    "print(\"Frase en minusculas: \", minusculas)\n",
    "print(\"Frase separada por palabras: \", palabras)\n",
    "print(\"Sustitución de última palabra: \", frase_sustituida)\n"
   ]
  },
  {
   "cell_type": "markdown",
   "metadata": {},
   "source": [
    "7. Crea un programa en el que se recojan dos entradas, y la salida del programa sea un booleano que indique al usuario si esas entradas son iguales o no.\n"
   ]
  },
  {
   "cell_type": "code",
   "execution_count": 83,
   "metadata": {},
   "outputs": [
    {
     "name": "stdout",
     "output_type": "stream",
     "text": [
      "Son iguales\n"
     ]
    }
   ],
   "source": [
    "entrada_1 = (input(\"Escriba un numero del 1 al 10\"))\n",
    "entrada_2 = (input(\"Escriba un segundo numero del 1 al 10\"))\n",
    "\n",
    "if entrada_1 == entrada_2:\n",
    "    print(\"Los numeros son iguales\")\n",
    "else: \n",
    "    print(\"Los numeros son distintos\")"
   ]
  },
  {
   "cell_type": "markdown",
   "metadata": {},
   "source": [
    "### Ejercicio 0.2 - If/else\n",
    "\n",
    "1. Crea un árbol de decisión utilizando sentencias if/else, para determinar el precio de la entrada al cine. Si la edad del cliente está entre 5 y 15 años, ambos incluidos, el precio será de 5, si es jubilado y la película es una de las `peliculas_descuento`, el precio será de 4. En cualquier otro caso, será de 7 euros.\n",
    "\n",
    "Debes crear la lista de `peliculas_discount` con tus películas favoritas."
   ]
  },
  {
   "cell_type": "code",
   "execution_count": 90,
   "metadata": {},
   "outputs": [
    {
     "name": "stdout",
     "output_type": "stream",
     "text": [
      "3\n"
     ]
    }
   ],
   "source": [
    "peliculas = [\"Mary Poppins\", \"El discurso del Rey\", \"Avatar\"]\n",
    "print(len(peliculas))"
   ]
  },
  {
   "cell_type": "code",
   "execution_count": 94,
   "metadata": {},
   "outputs": [
    {
     "name": "stdout",
     "output_type": "stream",
     "text": [
      "El precio de la entrada es de 7 euros\n"
     ]
    }
   ],
   "source": [
    "peliculas = [\"Mary Poppins\", \"El discurso del Rey\", \"Avatar\"]\n",
    "\n",
    "edad = int(input(\"Introduzca su edad\"))\n",
    "pelicula_elegida = input(\"Cuál película desea ver?\")\n",
    "\n",
    "if edad >= 5 and  edad <= 15:\n",
    "    print(\"El precio de la entrada es de 5 euros\")\n",
    "    \n",
    "elif edad >= 60 and pelicula_elegida in peliculas:\n",
    "    print(\"El precio de la entrada es de 4 euros\")\n",
    "    \n",
    "else:\n",
    "    print(\"El precio de la entrada es de 7 euros\")\n"
   ]
  },
  {
   "cell_type": "markdown",
   "metadata": {},
   "source": [
    "### Ejercicio 1 - Para\n",
    "\n",
    "Si encuentras una forma de resolver alguna de estas preguntas sin utilizar el bucle for, no dudes en hacerlo."
   ]
  },
  {
   "cell_type": "markdown",
   "metadata": {},
   "source": [
    "1. Imprime los números entre 0 y 70 que son múltiplos de 3 y 5."
   ]
  },
  {
   "cell_type": "code",
   "execution_count": 104,
   "metadata": {},
   "outputs": [
    {
     "name": "stdout",
     "output_type": "stream",
     "text": [
      "0\n",
      "15\n",
      "30\n",
      "45\n",
      "60\n"
     ]
    }
   ],
   "source": [
    "rango_de_numeros= range(71)\n",
    "rango_de_numeros\n",
    "\n",
    "for i in rango_de_numeros:\n",
    "    if i %3 == 0 and i %5 == 0:\n",
    "        print(i)"
   ]
  },
  {
   "cell_type": "markdown",
   "metadata": {},
   "source": [
    "2. Imprime el siguiente patrón:\n",
    "\n",
    "```python\n",
    "1\n",
    "22\n",
    "333\n",
    "4444\n",
    "55555\n",
    "666666\n",
    "7777777\n",
    "88888888\n",
    "999999999\n",
    "```\n"
   ]
  },
  {
   "cell_type": "code",
   "execution_count": 107,
   "metadata": {},
   "outputs": [
    {
     "name": "stdout",
     "output_type": "stream",
     "text": [
      "\n",
      "1\n",
      "22\n",
      "333\n",
      "4444\n",
      "55555\n",
      "666666\n",
      "7777777\n",
      "88888888\n",
      "999999999\n"
     ]
    }
   ],
   "source": [
    "for i in range(10):\n",
    "    print(str(i)*i)"
   ]
  },
  {
   "cell_type": "markdown",
   "metadata": {
    "collapsed": true
   },
   "source": [
    "3. Dadas dos listas de la misma longitud, crear una tercera lista que contenga la suma de ambas, elemento a elemento."
   ]
  },
  {
   "cell_type": "markdown",
   "metadata": {},
   "source": [
    "```python\n",
    "Example: \n",
    "a = [1,2]\n",
    "b = [4,5]\n",
    "new_list = [5,7]\n",
    "```\n"
   ]
  },
  {
   "cell_type": "code",
   "execution_count": 126,
   "metadata": {},
   "outputs": [],
   "source": [
    "lista1 = [1,2]\n",
    "lista2 = [4,5]"
   ]
  },
  {
   "cell_type": "code",
   "execution_count": 133,
   "metadata": {},
   "outputs": [
    {
     "data": {
      "text/plain": [
       "[(1, 4), (2, 5)]"
      ]
     },
     "execution_count": 133,
     "metadata": {},
     "output_type": "execute_result"
    }
   ],
   "source": [
    "lista3 = list(zip(lista1, lista2))\n",
    "lista3"
   ]
  },
  {
   "cell_type": "code",
   "execution_count": 125,
   "metadata": {},
   "outputs": [
    {
     "name": "stdout",
     "output_type": "stream",
     "text": [
      "[5, 7]\n"
     ]
    }
   ],
   "source": [
    "tercera_lista = list(i + j for i, j in zip(lista1, lista2))\n",
    "print(tercera_lista)\n",
    "    "
   ]
  },
  {
   "cell_type": "markdown",
   "metadata": {},
   "source": [
    "4. Obtenga la primera y la segunda mejor puntuación de la lista.\n",
    "La lista contiene duplicados."
   ]
  },
  {
   "cell_type": "code",
   "execution_count": 6,
   "metadata": {},
   "outputs": [],
   "source": [
    "scores = [86,86,85,85,85,83,23,45,84,1,2,0]"
   ]
  },
  {
   "cell_type": "code",
   "execution_count": 23,
   "metadata": {},
   "outputs": [
    {
     "name": "stdout",
     "output_type": "stream",
     "text": [
      "[86, 85, 83, 23, 45, 84, 1, 2, 0]\n",
      "0\n",
      "86\n",
      "[0, 1, 2, 23, 45, 83, 84, 85, 86]\n",
      "0\n",
      "86\n",
      "[86, 86, 85, 85, 85, 83, 23, 45, 84, 1, 2, 0]\n"
     ]
    }
   ],
   "source": [
    "# ELIMINAR DUPLICADOS CON BUCLE \n",
    "nueva_lista = []\n",
    "\n",
    "for i in scores:\n",
    "    if i not in nueva_lista:\n",
    "        nueva_lista.append(i)\n",
    "\n",
    "print(nueva_lista)\n",
    "\n",
    "print(min(nueva_lista))\n",
    "print(max(nueva_lista))\n",
    "\n",
    "nueva_lista.sort()\n",
    "print(nueva_lista)\n",
    "print(nueva_lista[0])\n",
    "print(nueva_lista[-1])"
   ]
  },
  {
   "cell_type": "code",
   "execution_count": 36,
   "metadata": {},
   "outputs": [
    {
     "name": "stdout",
     "output_type": "stream",
     "text": [
      "{0, 1, 2, 45, 83, 84, 85, 86, 23}\n",
      "[0, 1, 2, 23, 45, 83, 84, 85, 86]\n",
      "0\n",
      "86\n"
     ]
    }
   ],
   "source": [
    "# ELIMINAR DUPLICADOS CON SET\n",
    "scores = [86,86,85,85,85,83,23,45,84,1,2,0]\n",
    "\n",
    "lista_a_conj = set(scores)\n",
    "print(lista_a_conj)\n",
    "\n",
    "conj_a_lista = list(lista_a_conj)\n",
    "conj_a_lista.sort()\n",
    "print(conj_a_lista)\n",
    "print(conj_a_lista[0])\n",
    "print(conj_a_lista[-1])"
   ]
  },
  {
   "cell_type": "markdown",
   "metadata": {},
   "source": [
    "5. De la lista dada:\n",
    "    \n",
    "    a) Crea listas separadas de cadenas y números.\n",
    "\n",
    "    b) Ordena la lista de cadenas en orden ascendente.\n",
    "\n",
    "    c) Ordena la lista de cadenas en orden descendente\n",
    "\n",
    "    d) Ordenar la lista de números de menor a mayor\n",
    "\n",
    "    e) Ordenar la lista de números de mayor a menor"
   ]
  },
  {
   "cell_type": "code",
   "execution_count": 134,
   "metadata": {},
   "outputs": [],
   "source": [
    "gadgets = [\"Mobile\", \"Laptop\", 100, \"Camera\", 310.28, \"Speakers\", 27.00, \n",
    "           \"Television\", 1000, \"Laptop Case\", \"Camera Lens\"]"
   ]
  },
  {
   "cell_type": "code",
   "execution_count": 137,
   "metadata": {},
   "outputs": [
    {
     "name": "stdout",
     "output_type": "stream",
     "text": [
      "['Mobile', 'Laptop', 'Camera', 'Speakers', 'Television', 'Laptop Case', 'Camera Lens']\n",
      "[100, 310.28, 27.0, 1000]\n"
     ]
    }
   ],
   "source": [
    "cadenas_de_texto = []\n",
    "numeros = []\n",
    "#  BUCLE FOR\n",
    "for i in gadgets:\n",
    "    if type(i) == str:\n",
    "        cadenas_de_texto.append(i)\n",
    "    elif type(i) == int or float:\n",
    "        numeros.append(i) \n",
    "        \n",
    "print(cadenas_de_texto)\n",
    "print(numeros)"
   ]
  },
  {
   "cell_type": "code",
   "execution_count": 143,
   "metadata": {},
   "outputs": [
    {
     "name": "stdout",
     "output_type": "stream",
     "text": [
      "['Mobile', 'Laptop', 'Camera', 'Speakers', 'Television', 'Laptop Case', 'Camera Lens']\n",
      "[100, 310.28, 27.0, 1000]\n"
     ]
    }
   ],
   "source": [
    "#  LISTA DE COMPRENSIÓN\n",
    "cadenas = []\n",
    "[cadenas.append(i) for i in gadgets if type(i) == str]\n",
    "print(cadenas)\n",
    "nums = []\n",
    "[nums.append(i) for i in gadgets if type(i) == int or type(i) == float]\n",
    "print(nums)"
   ]
  },
  {
   "cell_type": "code",
   "execution_count": 149,
   "metadata": {},
   "outputs": [
    {
     "name": "stdout",
     "output_type": "stream",
     "text": [
      "Lista de cadenas en orden ascendente ['Camera', 'Camera Lens', 'Laptop', 'Laptop Case', 'Mobile', 'Speakers', 'Television']\n",
      "Lista de cadenas en orden descendiente ['Television', 'Speakers', 'Mobile', 'Laptop Case', 'Laptop', 'Camera Lens', 'Camera']\n"
     ]
    }
   ],
   "source": [
    "#CADENAS ASCENDIENTE\n",
    "cadenas.sort()\n",
    "print(\"Lista de cadenas en orden ascendente\", cadenas)\n",
    "\n",
    "#CADENA DESCENDIENTE\n",
    "cadenas.reverse()\n",
    "print(\"Lista de cadenas en orden descendiente\", cadenas)"
   ]
  },
  {
   "cell_type": "code",
   "execution_count": 154,
   "metadata": {},
   "outputs": [
    {
     "name": "stdout",
     "output_type": "stream",
     "text": [
      "Numeros ordenados de menor a mayor: [27.0, 100, 310.28, 1000]\n",
      "Numeros ordenados de mayor a menor [1000, 310.28, 100, 27.0]\n"
     ]
    }
   ],
   "source": [
    "#NUMEROS MAYOR A MENOR\n",
    "nums.sort()\n",
    "print(\"Numeros ordenados de menor a mayor:\", nums)\n",
    "#NUMEROS MENOR A MAYOR\n",
    "nums.reverse()\n",
    "print(\"Numeros ordenados de mayor a menor\", nums)"
   ]
  },
  {
   "cell_type": "markdown",
   "metadata": {},
   "source": [
    "6. Haz una lista de diez alienígenas, cada uno de los cuales es de un color: 'rojo', 'verde' o 'azul'.\n",
    "    - Puedes acortarlo a 'r', 'g' y 'b' si quieres, pero si eliges esta opción tienes que incluir un comentario explicando qué significan r, g y b.\n",
    "    - Los alienígenas rojos valen 5 puntos, los verdes valen 10 puntos y los azules valen 20 puntos.\n",
    "    - Utilice un bucle for para determinar el número de puntos que ganaría un jugador por destruir todos los alienígenas de su lista."
   ]
  },
  {
   "cell_type": "code",
   "execution_count": 167,
   "metadata": {},
   "outputs": [
    {
     "name": "stdout",
     "output_type": "stream",
     "text": [
      "El jugador ha ganado: 110 puntos.\n"
     ]
    }
   ],
   "source": [
    "alienigenas = [\"rojo\", \"verde\", \"azul\", \"rojo\", \"verde\", \"azul\", \"rojo\", \"verde\", \"azul\", \"rojo\"]\n",
    "\n",
    "puntos = 0\n",
    "\n",
    "for i in alienigenas:\n",
    "    if i == \"rojo\":\n",
    "        puntos += 5\n",
    "    elif i == \"verde\":\n",
    "        puntos += 10\n",
    "    elif i == \"azul\":\n",
    "        puntos += 20\n",
    "        \n",
    "print(\"El jugador ha ganado:\", puntos, \"puntos.\")"
   ]
  },
  {
   "cell_type": "markdown",
   "metadata": {},
   "source": [
    "### Ejercicio 2 - Funciones"
   ]
  },
  {
   "cell_type": "markdown",
   "metadata": {},
   "source": [
    "1. Escribe un programa de funciones para sumar dos números diferentes dados."
   ]
  },
  {
   "cell_type": "code",
   "execution_count": 177,
   "metadata": {},
   "outputs": [
    {
     "data": {
      "text/plain": [
       "8"
      ]
     },
     "execution_count": 177,
     "metadata": {},
     "output_type": "execute_result"
    }
   ],
   "source": [
    "# FUNCION SIMPLE\n",
    "\n",
    "def suma_numeros1(num1, num2):\n",
    "    suma = num1 + num2\n",
    "    return suma\n",
    "\n",
    "suma_numeros1(6,2)"
   ]
  },
  {
   "cell_type": "code",
   "execution_count": 175,
   "metadata": {},
   "outputs": [
    {
     "data": {
      "text/plain": [
       "7"
      ]
     },
     "execution_count": 175,
     "metadata": {},
     "output_type": "execute_result"
    }
   ],
   "source": [
    "# FUNCION CON BUCLE\n",
    "def suma_numeros(*args: int) -> int:\n",
    "\n",
    "    suma = 0    \n",
    "    \n",
    "    for i in args:\n",
    "        suma = suma + i\n",
    "    return suma\n",
    "\n",
    "suma_numeros(5,2)"
   ]
  },
  {
   "cell_type": "markdown",
   "metadata": {},
   "source": [
    "2. Escribe un programa en Python para convertir una tupla de caracteres en una cadena.\n",
    "\n",
    "    - Ejemplo de tupla: `(\"T\", \"H\", \"E\", \" \", \"B\", \"R\", \"I\", \"D\", \"G\", \"E\")`\n",
    "    - Salida esperada : `\"EL PUENTE\"`\n",
    "    \n",
    "Sugerencia: Conviértalo en una lista."
   ]
  },
  {
   "cell_type": "code",
   "execution_count": 186,
   "metadata": {},
   "outputs": [
    {
     "data": {
      "text/plain": [
       "'THE BRIDGE'"
      ]
     },
     "execution_count": 186,
     "metadata": {},
     "output_type": "execute_result"
    }
   ],
   "source": [
    "def tupla_a_cadena(argumentos):\n",
    "   \n",
    "    lista_caracteres = list(argumentos)\n",
    "    \n",
    "   \n",
    "    cadena = ''.join(lista_caracteres)\n",
    "    \n",
    "    return cadena\n",
    "\n",
    "argumentos = (\"T\", \"H\", \"E\", \" \",  \"B\", \"R\", \"I\", \"D\", \"G\", \"E\")\n",
    "tupla_a_cadena(argumentos)\n",
    "\n"
   ]
  },
  {
   "cell_type": "markdown",
   "metadata": {},
   "source": [
    "3. Escribe un programa en Python que genere una lista cuyos valores sean cuadrados de números entre 1 y 30 (ambos incluidos), y devuelva una lista con los 5 primeros y últimos elementos de la lista."
   ]
  },
  {
   "cell_type": "code",
   "execution_count": null,
   "metadata": {},
   "outputs": [],
   "source": []
  },
  {
   "cell_type": "markdown",
   "metadata": {},
   "source": [
    "4. Crea un programa en Python que calcule el factorial de un número.\n",
    "\n",
    "El programa pedirá al usuario que introduzca un número (entrada) y devolverá el factorial de ese número."
   ]
  },
  {
   "cell_type": "code",
   "execution_count": null,
   "metadata": {},
   "outputs": [],
   "source": []
  },
  {
   "cell_type": "markdown",
   "metadata": {},
   "source": [
    "5. Crea un programa que calcule la media.\n",
    "\n",
    "El programa pedirá al usuario que especifique cuántos números quiere introducir, y mostrará un aviso para incluir número a número a una lista, y luego calculará la media de cada número de esa lista."
   ]
  },
  {
   "cell_type": "code",
   "execution_count": null,
   "metadata": {},
   "outputs": [],
   "source": []
  }
 ],
 "metadata": {
  "kernelspec": {
   "display_name": "Python 3",
   "language": "python",
   "name": "python3"
  },
  "language_info": {
   "codemirror_mode": {
    "name": "ipython",
    "version": 3
   },
   "file_extension": ".py",
   "mimetype": "text/x-python",
   "name": "python",
   "nbconvert_exporter": "python",
   "pygments_lexer": "ipython3",
   "version": "3.11.5"
  }
 },
 "nbformat": 4,
 "nbformat_minor": 4
}
