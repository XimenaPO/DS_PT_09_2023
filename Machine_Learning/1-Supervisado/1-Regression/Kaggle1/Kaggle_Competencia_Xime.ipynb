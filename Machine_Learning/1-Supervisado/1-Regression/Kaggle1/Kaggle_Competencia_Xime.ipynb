{
 "cells": [
  {
   "cell_type": "markdown",
   "metadata": {},
   "source": [
    "# COMPETENCIA KAGGLE 1 - XIMENA PEREZ OLOGNERO"
   ]
  },
  {
   "cell_type": "markdown",
   "metadata": {},
   "source": [
    "## Importación de librerías"
   ]
  },
  {
   "cell_type": "code",
   "execution_count": 1,
   "metadata": {},
   "outputs": [],
   "source": [
    "import pandas as pd\n",
    "import numpy as np\n",
    "\n",
    "import urllib.request\n",
    "from PIL import Image\n",
    "import warnings\n",
    "warnings.filterwarnings(\"ignore\", category=DeprecationWarning)"
   ]
  },
  {
   "cell_type": "markdown",
   "metadata": {},
   "source": [
    "## Data"
   ]
  },
  {
   "cell_type": "code",
   "execution_count": 2,
   "metadata": {},
   "outputs": [],
   "source": [
    "train = pd.read_csv(\"data/train.csv\")"
   ]
  },
  {
   "cell_type": "code",
   "execution_count": 3,
   "metadata": {},
   "outputs": [
    {
     "name": "stdout",
     "output_type": "stream",
     "text": [
      "<class 'pandas.core.frame.DataFrame'>\n",
      "RangeIndex: 912 entries, 0 to 911\n",
      "Data columns (total 13 columns):\n",
      " #   Column            Non-Null Count  Dtype  \n",
      "---  ------            --------------  -----  \n",
      " 0   laptop_ID         912 non-null    int64  \n",
      " 1   Company           912 non-null    object \n",
      " 2   Product           912 non-null    object \n",
      " 3   TypeName          912 non-null    object \n",
      " 4   Inches            912 non-null    float64\n",
      " 5   ScreenResolution  912 non-null    object \n",
      " 6   Cpu               912 non-null    object \n",
      " 7   Ram               912 non-null    object \n",
      " 8   Memory            912 non-null    object \n",
      " 9   Gpu               912 non-null    object \n",
      " 10  OpSys             912 non-null    object \n",
      " 11  Weight            912 non-null    object \n",
      " 12  Price_euros       912 non-null    float64\n",
      "dtypes: float64(2), int64(1), object(10)\n",
      "memory usage: 92.8+ KB\n"
     ]
    }
   ],
   "source": [
    "train.info()"
   ]
  },
  {
   "cell_type": "code",
   "execution_count": 21,
   "metadata": {},
   "outputs": [
    {
     "data": {
      "text/html": [
       "<div>\n",
       "<style scoped>\n",
       "    .dataframe tbody tr th:only-of-type {\n",
       "        vertical-align: middle;\n",
       "    }\n",
       "\n",
       "    .dataframe tbody tr th {\n",
       "        vertical-align: top;\n",
       "    }\n",
       "\n",
       "    .dataframe thead th {\n",
       "        text-align: right;\n",
       "    }\n",
       "</style>\n",
       "<table border=\"1\" class=\"dataframe\">\n",
       "  <thead>\n",
       "    <tr style=\"text-align: right;\">\n",
       "      <th></th>\n",
       "      <th>laptop_ID</th>\n",
       "      <th>Company</th>\n",
       "      <th>Product</th>\n",
       "      <th>TypeName</th>\n",
       "      <th>Inches</th>\n",
       "      <th>ScreenResolution</th>\n",
       "      <th>Cpu</th>\n",
       "      <th>Ram</th>\n",
       "      <th>Memory</th>\n",
       "      <th>Gpu</th>\n",
       "      <th>OpSys</th>\n",
       "      <th>Weight</th>\n",
       "      <th>Price_euros</th>\n",
       "    </tr>\n",
       "  </thead>\n",
       "  <tbody>\n",
       "    <tr>\n",
       "      <th>0</th>\n",
       "      <td>1104</td>\n",
       "      <td>Acer</td>\n",
       "      <td>Aspire ES1-523</td>\n",
       "      <td>Notebook</td>\n",
       "      <td>15.6</td>\n",
       "      <td>1366x768</td>\n",
       "      <td>AMD A8-Series 7410 2.2GHz</td>\n",
       "      <td>4GB</td>\n",
       "      <td>500GB HDD</td>\n",
       "      <td>AMD Radeon R5</td>\n",
       "      <td>Windows 10</td>\n",
       "      <td>2.4kg</td>\n",
       "      <td>387.0</td>\n",
       "    </tr>\n",
       "    <tr>\n",
       "      <th>1</th>\n",
       "      <td>114</td>\n",
       "      <td>Dell</td>\n",
       "      <td>XPS 13</td>\n",
       "      <td>Ultrabook</td>\n",
       "      <td>13.3</td>\n",
       "      <td>Quad HD+ / Touchscreen 3200x1800</td>\n",
       "      <td>Intel Core i7 7560U 2.4GHz</td>\n",
       "      <td>8GB</td>\n",
       "      <td>256GB SSD</td>\n",
       "      <td>Intel Iris Plus Graphics 640</td>\n",
       "      <td>Windows 10</td>\n",
       "      <td>1.23kg</td>\n",
       "      <td>1379.0</td>\n",
       "    </tr>\n",
       "    <tr>\n",
       "      <th>2</th>\n",
       "      <td>172</td>\n",
       "      <td>Acer</td>\n",
       "      <td>Aspire A517-51G</td>\n",
       "      <td>Notebook</td>\n",
       "      <td>17.3</td>\n",
       "      <td>IPS Panel Full HD 1920x1080</td>\n",
       "      <td>Intel Core i5 8250U 1.6GHz</td>\n",
       "      <td>8GB</td>\n",
       "      <td>256GB SSD</td>\n",
       "      <td>Nvidia GeForce MX150</td>\n",
       "      <td>Windows 10</td>\n",
       "      <td>3kg</td>\n",
       "      <td>854.0</td>\n",
       "    </tr>\n",
       "    <tr>\n",
       "      <th>3</th>\n",
       "      <td>918</td>\n",
       "      <td>HP</td>\n",
       "      <td>Elitebook 820</td>\n",
       "      <td>Netbook</td>\n",
       "      <td>12.5</td>\n",
       "      <td>Full HD 1920x1080</td>\n",
       "      <td>Intel Core i7 7500U 2.7GHz</td>\n",
       "      <td>8GB</td>\n",
       "      <td>512GB SSD</td>\n",
       "      <td>Intel HD Graphics 620</td>\n",
       "      <td>Windows 10</td>\n",
       "      <td>1.26kg</td>\n",
       "      <td>1483.0</td>\n",
       "    </tr>\n",
       "    <tr>\n",
       "      <th>4</th>\n",
       "      <td>447</td>\n",
       "      <td>Lenovo</td>\n",
       "      <td>IdeaPad 320-15AST</td>\n",
       "      <td>Notebook</td>\n",
       "      <td>17.3</td>\n",
       "      <td>1600x900</td>\n",
       "      <td>AMD A6-Series 9220 2.5GHz</td>\n",
       "      <td>8GB</td>\n",
       "      <td>1TB HDD</td>\n",
       "      <td>AMD Radeon R4</td>\n",
       "      <td>Windows 10</td>\n",
       "      <td>2.8kg</td>\n",
       "      <td>519.0</td>\n",
       "    </tr>\n",
       "  </tbody>\n",
       "</table>\n",
       "</div>"
      ],
      "text/plain": [
       "   laptop_ID Company            Product   TypeName  Inches  \\\n",
       "0       1104    Acer     Aspire ES1-523   Notebook    15.6   \n",
       "1        114    Dell             XPS 13  Ultrabook    13.3   \n",
       "2        172    Acer    Aspire A517-51G   Notebook    17.3   \n",
       "3        918      HP      Elitebook 820    Netbook    12.5   \n",
       "4        447  Lenovo  IdeaPad 320-15AST   Notebook    17.3   \n",
       "\n",
       "                   ScreenResolution                         Cpu  Ram  \\\n",
       "0                          1366x768   AMD A8-Series 7410 2.2GHz  4GB   \n",
       "1  Quad HD+ / Touchscreen 3200x1800  Intel Core i7 7560U 2.4GHz  8GB   \n",
       "2       IPS Panel Full HD 1920x1080  Intel Core i5 8250U 1.6GHz  8GB   \n",
       "3                 Full HD 1920x1080  Intel Core i7 7500U 2.7GHz  8GB   \n",
       "4                          1600x900   AMD A6-Series 9220 2.5GHz  8GB   \n",
       "\n",
       "      Memory                           Gpu       OpSys  Weight  Price_euros  \n",
       "0  500GB HDD                 AMD Radeon R5  Windows 10   2.4kg        387.0  \n",
       "1  256GB SSD  Intel Iris Plus Graphics 640  Windows 10  1.23kg       1379.0  \n",
       "2  256GB SSD          Nvidia GeForce MX150  Windows 10     3kg        854.0  \n",
       "3  512GB SSD         Intel HD Graphics 620  Windows 10  1.26kg       1483.0  \n",
       "4    1TB HDD                 AMD Radeon R4  Windows 10   2.8kg        519.0  "
      ]
     },
     "execution_count": 21,
     "metadata": {},
     "output_type": "execute_result"
    }
   ],
   "source": [
    "train.head()"
   ]
  },
  {
   "cell_type": "code",
   "execution_count": 22,
   "metadata": {},
   "outputs": [
    {
     "data": {
      "text/plain": [
       "Index(['laptop_ID', 'Company', 'Product', 'TypeName', 'Inches',\n",
       "       'ScreenResolution', 'Cpu', 'Ram', 'Memory', 'Gpu', 'OpSys', 'Weight',\n",
       "       'Price_euros'],\n",
       "      dtype='object')"
      ]
     },
     "execution_count": 22,
     "metadata": {},
     "output_type": "execute_result"
    }
   ],
   "source": [
    "train.columns"
   ]
  },
  {
   "cell_type": "code",
   "execution_count": 11,
   "metadata": {},
   "outputs": [
    {
     "data": {
      "text/plain": [
       "array(['Notebook', 'Ultrabook', 'Netbook', 'Gaming', '2 in 1 Convertible',\n",
       "       'Workstation'], dtype=object)"
      ]
     },
     "execution_count": 11,
     "metadata": {},
     "output_type": "execute_result"
    }
   ],
   "source": [
    "train['TypeName'].unique()"
   ]
  },
  {
   "cell_type": "markdown",
   "metadata": {},
   "source": [
    "## TRAIN - LIMPIEZA"
   ]
  },
  {
   "cell_type": "code",
   "execution_count": 5,
   "metadata": {},
   "outputs": [],
   "source": [
    "df = train.copy()"
   ]
  },
  {
   "cell_type": "markdown",
   "metadata": {},
   "source": [
    "### COLUMNA TypeName -- tn"
   ]
  },
  {
   "cell_type": "code",
   "execution_count": 6,
   "metadata": {},
   "outputs": [],
   "source": [
    "df_dummies = pd.get_dummies(df['TypeName'], prefix='tn')\n",
    "df[df_dummies.columns] = df_dummies.astype(int)"
   ]
  },
  {
   "cell_type": "markdown",
   "metadata": {},
   "source": [
    "### COLUMNA ScreenResolution -- src"
   ]
  },
  {
   "cell_type": "code",
   "execution_count": 7,
   "metadata": {},
   "outputs": [],
   "source": [
    "df['src'] = df['ScreenResolution'].apply(lambda x: 'HD' if '1366x768' in x else 'Full HD' if '1920x1080' in x else 'Quad HD+' if '3200x1800' in x else '4K Ultra HD' if '3840x2160' in x else 'Other')\n"
   ]
  },
  {
   "cell_type": "code",
   "execution_count": 8,
   "metadata": {},
   "outputs": [],
   "source": [
    "df = pd.get_dummies(df, columns=['src'], prefix='scr')\n"
   ]
  },
  {
   "cell_type": "markdown",
   "metadata": {},
   "source": [
    "### COLUMNA Ram y Weight"
   ]
  },
  {
   "cell_type": "code",
   "execution_count": 45,
   "metadata": {},
   "outputs": [
    {
     "data": {
      "text/plain": [
       "Index(['laptop_ID', 'Company', 'Product', 'TypeName', 'Inches',\n",
       "       'ScreenResolution', 'Cpu', 'Ram', 'Memory', 'Gpu', 'OpSys', 'Weight',\n",
       "       'Price_euros', 'tn_2 in 1 Convertible', 'tn_Gaming', 'tn_Netbook',\n",
       "       'tn_Notebook', 'tn_Ultrabook', 'tn_Workstation', 'scr_4K Ultra HD',\n",
       "       'scr_Full HD', 'scr_HD', 'scr_Other', 'scr_Quad HD+'],\n",
       "      dtype='object')"
      ]
     },
     "execution_count": 45,
     "metadata": {},
     "output_type": "execute_result"
    }
   ],
   "source": [
    "df.columns"
   ]
  },
  {
   "cell_type": "code",
   "execution_count": 9,
   "metadata": {},
   "outputs": [],
   "source": [
    "df['Ram'] = df['Ram'].map(lambda x:x.strip('GB'))\n",
    "df['Weight'] = df['Weight'].map(lambda x:x.strip('kg'))"
   ]
  },
  {
   "cell_type": "code",
   "execution_count": 10,
   "metadata": {},
   "outputs": [],
   "source": [
    "df['Ram'] = df['Ram'].astype(int)\n",
    "df['Weight'] = df['Weight'].astype(float)"
   ]
  },
  {
   "cell_type": "markdown",
   "metadata": {},
   "source": [
    "### Columna 'cpu' - 'cpu_ghz', 'cpu_intel' y 'cpu_amd'"
   ]
  },
  {
   "cell_type": "code",
   "execution_count": 17,
   "metadata": {},
   "outputs": [],
   "source": [
    "# 1. Extraer solo los números de GHz y crear la columna 'cpu_GHz' asignando dichos valores\n",
    "df['cpu_ghz'] = df['Cpu'].str.extract(r'(\\d+\\.\\d+)GHz').astype(float)\n",
    "\n",
    "# 2. Crear las columnas 'cpu_intel' y 'cpu_amd' y asignar 0 o 1 según la información en cada fila\n",
    "df['cpu_intel'] = df['Cpu'].str.contains('Intel').astype(int)\n",
    "df['cpu_amd'] = df['Cpu'].str.contains('AMD').astype(int)\n"
   ]
  },
  {
   "cell_type": "code",
   "execution_count": 20,
   "metadata": {},
   "outputs": [
    {
     "data": {
      "text/plain": [
       "laptop_ID                 0\n",
       "Company                   0\n",
       "Product                   0\n",
       "TypeName                  0\n",
       "Inches                    0\n",
       "ScreenResolution          0\n",
       "Cpu                       0\n",
       "Ram                       0\n",
       "Memory                    0\n",
       "Gpu                       0\n",
       "OpSys                     0\n",
       "Weight                    0\n",
       "Price_euros               0\n",
       "tn_2 in 1 Convertible     0\n",
       "tn_Gaming                 0\n",
       "tn_Netbook                0\n",
       "tn_Notebook               0\n",
       "tn_Ultrabook              0\n",
       "tn_Workstation            0\n",
       "scr_4K Ultra HD           0\n",
       "scr_Full HD               0\n",
       "scr_HD                    0\n",
       "scr_Other                 0\n",
       "scr_Quad HD+              0\n",
       "cpu_ghz                  62\n",
       "cpu_intel                 0\n",
       "cpu_amd                   0\n",
       "dtype: int64"
      ]
     },
     "execution_count": 20,
     "metadata": {},
     "output_type": "execute_result"
    }
   ],
   "source": [
    "df.isnull().sum()"
   ]
  },
  {
   "cell_type": "code",
   "execution_count": 21,
   "metadata": {},
   "outputs": [],
   "source": [
    "median_cpu_GHz = df['cpu_ghz'].median()\n",
    "\n",
    "# Llena los valores nulos en 'cpu_GHz' con la mediana\n",
    "df['cpu_ghz'].fillna(median_cpu_GHz, inplace=True)"
   ]
  },
  {
   "cell_type": "markdown",
   "metadata": {},
   "source": [
    "### Columna 'OpSys' - 'so_windows', 'so_no', 'so_linux', 'so_chrome', 'so_mac'"
   ]
  },
  {
   "cell_type": "code",
   "execution_count": 26,
   "metadata": {},
   "outputs": [
    {
     "name": "stdout",
     "output_type": "stream",
     "text": [
      "   so_windows  so_no  so_linux  so_chrome  so_mac\n",
      "0           1      0         0          0       0\n",
      "1           1      0         0          0       0\n",
      "2           1      0         0          0       0\n",
      "3           1      0         0          0       0\n",
      "4           1      0         0          0       0\n"
     ]
    }
   ],
   "source": [
    "# Crear columnas binarias\n",
    "df['so_windows'] = df['OpSys'].str.contains('windows', case=False).astype(int)\n",
    "df['so_no'] = df['OpSys'].eq('no os').astype(int)\n",
    "df['so_linux'] = df['OpSys'].str.contains('linux', case=False).astype(int)\n",
    "df['so_chrome'] = df['OpSys'].str.contains('chrome', case=False).astype(int)\n",
    "df['so_mac'] = df['OpSys'].str.contains('mac', case=False).astype(int)\n"
   ]
  },
  {
   "cell_type": "markdown",
   "metadata": {},
   "source": [
    "### Columna 'Gpu' - "
   ]
  },
  {
   "cell_type": "code",
   "execution_count": 30,
   "metadata": {},
   "outputs": [],
   "source": [
    "# Crear columnas binarias\n",
    "df['gpu_intel'] = df['Gpu'].str.contains('intel', case=False).astype(int)\n",
    "df['gpu_nvidia'] = df['Gpu'].str.contains('nvidia', case=False).astype(int)\n",
    "df['gpu_amd'] = df['Gpu'].str.contains('amd', case=False).astype(int)"
   ]
  },
  {
   "cell_type": "markdown",
   "metadata": {},
   "source": [
    "### Columna 'Memory' - 'memory_gb'"
   ]
  },
  {
   "cell_type": "code",
   "execution_count": 45,
   "metadata": {},
   "outputs": [],
   "source": [
    "import re "
   ]
  },
  {
   "cell_type": "code",
   "execution_count": 48,
   "metadata": {},
   "outputs": [
    {
     "name": "stdout",
     "output_type": "stream",
     "text": [
      "                   Memory  memory_gb\n",
      "0               500GB HDD      500.0\n",
      "1               256GB SSD      256.0\n",
      "2               256GB SSD      256.0\n",
      "3               512GB SSD      512.0\n",
      "4                 1TB HDD     1024.0\n",
      "..                    ...        ...\n",
      "907             256GB SSD      256.0\n",
      "908    1TB SSD +  1TB HDD     1024.0\n",
      "909  256GB SSD +  1TB HDD      256.0\n",
      "910  512GB SSD +  1TB HDD      512.0\n",
      "911             256GB SSD      256.0\n",
      "\n",
      "[912 rows x 2 columns]\n"
     ]
    }
   ],
   "source": [
    "def process_memory(memory_str):\n",
    "    # Dividir la cadena por el signo '+'\n",
    "    parts = memory_str.split('+')\n",
    "    \n",
    "    # Tomar el primer valor antes del signo '+'\n",
    "    first_part = parts[0].strip()\n",
    "    \n",
    "    # Extraer el primer número antes del signo más\n",
    "    match = re.search(r'(\\d+\\.?\\d*)', first_part)\n",
    "    \n",
    "    if match:\n",
    "        value = float(match.group())\n",
    "        \n",
    "        # Convertir a GB si es TB\n",
    "        if 'tb' in first_part.lower():\n",
    "            value *= 1024  # Convertir TB a GB\n",
    "        \n",
    "        return value\n",
    "    else:\n",
    "        return None\n",
    "\n",
    "# Aplicar la función a la columna 'Memory'\n",
    "df['memory_gb'] = df['Memory'].apply(process_memory)\n",
    "\n",
    "# Verificar los resultados\n",
    "print(df[['Memory', 'memory_gb']])"
   ]
  },
  {
   "cell_type": "code",
   "execution_count": 50,
   "metadata": {},
   "outputs": [
    {
     "data": {
      "text/plain": [
       "memory_gb\n",
       "256.0     357\n",
       "1024.0    173\n",
       "128.0     130\n",
       "512.0      98\n",
       "500.0      95\n",
       "32.0       29\n",
       "64.0       11\n",
       "2048.0      9\n",
       "16.0        7\n",
       "180.0       2\n",
       "508.0       1\n",
       "Name: count, dtype: int64"
      ]
     },
     "execution_count": 50,
     "metadata": {},
     "output_type": "execute_result"
    }
   ],
   "source": [
    "df['memory_gb'].value_counts()"
   ]
  },
  {
   "cell_type": "markdown",
   "metadata": {},
   "source": [
    "### Columna 'Company' - get_dummies "
   ]
  },
  {
   "cell_type": "code",
   "execution_count": 57,
   "metadata": {},
   "outputs": [],
   "source": [
    "# Convertir toda la columna 'Company' a minúsculas\n",
    "df['Company'] = df['Company'].str.lower()\n",
    "\n",
    "# Aplicar get_dummies a la columna 'Company'\n",
    "company_dummies = pd.get_dummies(df['Company'], prefix='company')\n",
    "\n",
    "# Concatenar las nuevas columnas al DataFrame original\n",
    "df = pd.concat([df, company_dummies], axis=1)\n"
   ]
  },
  {
   "cell_type": "markdown",
   "metadata": {},
   "source": [
    "### Nombres de columnas a minúscula y eliminación de espacios"
   ]
  },
  {
   "cell_type": "code",
   "execution_count": 64,
   "metadata": {},
   "outputs": [],
   "source": [
    "df.columns = df.columns.str.lower()"
   ]
  },
  {
   "cell_type": "code",
   "execution_count": 72,
   "metadata": {},
   "outputs": [],
   "source": [
    "# Reemplazar espacios con guiones bajos en los nombres de las columnas\n",
    "df.columns = df.columns.str.replace(' ', '_')"
   ]
  },
  {
   "cell_type": "markdown",
   "metadata": {},
   "source": [
    "### Eliminar columnas innecesarias luego de la limpieza"
   ]
  },
  {
   "cell_type": "code",
   "execution_count": 69,
   "metadata": {},
   "outputs": [],
   "source": [
    "columns_to_drop = ['company', 'typename', 'screenresolution', 'cpu', 'memory', 'gpu', 'opsys']\n",
    "df = df.drop(columns=columns_to_drop)\n"
   ]
  },
  {
   "cell_type": "code",
   "execution_count": 74,
   "metadata": {},
   "outputs": [
    {
     "data": {
      "text/plain": [
       "Index(['laptop_id', 'product', 'inches', 'ram', 'weight', 'price_euros',\n",
       "       'tn_2_in_1_convertible', 'tn_gaming', 'tn_netbook', 'tn_notebook',\n",
       "       'tn_ultrabook', 'tn_workstation', 'scr_4k_ultra_hd', 'scr_full_hd',\n",
       "       'scr_hd', 'scr_other', 'scr_quad_hd+', 'cpu_ghz', 'cpu_intel',\n",
       "       'cpu_amd', 'so_windows', 'so_no', 'so_linux', 'so_chrome', 'so_mac',\n",
       "       'gpu_intel', 'gpu_nvidia', 'gpu_amd', 'memory_gb', 'company_acer',\n",
       "       'company_apple', 'company_asus', 'company_chuwi', 'company_dell',\n",
       "       'company_fujitsu', 'company_google', 'company_hp', 'company_huawei',\n",
       "       'company_lenovo', 'company_lg', 'company_mediacom', 'company_microsoft',\n",
       "       'company_msi', 'company_razer', 'company_samsung', 'company_toshiba',\n",
       "       'company_vero', 'company_xiaomi'],\n",
       "      dtype='object')"
      ]
     },
     "execution_count": 74,
     "metadata": {},
     "output_type": "execute_result"
    }
   ],
   "source": [
    "df.columns"
   ]
  },
  {
   "cell_type": "markdown",
   "metadata": {},
   "source": [
    "### Guardar DataFrame limpio"
   ]
  },
  {
   "cell_type": "code",
   "execution_count": 77,
   "metadata": {},
   "outputs": [],
   "source": [
    "df.to_csv('./data/df_limpieza_Train_Xime.csv')"
   ]
  },
  {
   "cell_type": "markdown",
   "metadata": {},
   "source": [
    "### df 'train' con columnas definitivas para ML"
   ]
  },
  {
   "cell_type": "code",
   "execution_count": 31,
   "metadata": {},
   "outputs": [],
   "source": [
    "df = pd.read_csv('./data/df_limpieza_Xime.csv')"
   ]
  },
  {
   "cell_type": "code",
   "execution_count": 32,
   "metadata": {},
   "outputs": [],
   "source": [
    "train = df[['inches', 'ram', 'weight', 'price_euros','tn_2_in_1_convertible', 'tn_gaming', 'tn_netbook', 'tn_notebook',\n",
    "       'tn_ultrabook', 'tn_workstation', 'scr_4k_ultra_hd', 'scr_full_hd',\n",
    "       'scr_hd', 'scr_other', 'scr_quad_hd+', 'cpu_ghz', 'cpu_intel',\n",
    "       'cpu_amd', 'so_windows', 'so_no', 'so_linux', 'so_chrome', 'so_mac',\n",
    "       'gpu_intel', 'gpu_nvidia', 'gpu_amd', 'memory_gb', 'company_acer',\n",
    "       'company_apple', 'company_asus', 'company_chuwi', 'company_dell',\n",
    "       'company_fujitsu', 'company_google', 'company_hp', 'company_huawei',\n",
    "       'company_lenovo', 'company_lg', 'company_mediacom', 'company_microsoft',\n",
    "       'company_msi', 'company_razer', 'company_samsung', 'company_toshiba',\n",
    "       'company_vero', 'company_xiaomi']]"
   ]
  },
  {
   "cell_type": "code",
   "execution_count": 107,
   "metadata": {},
   "outputs": [
    {
     "data": {
      "text/plain": [
       "Index(['inches', 'ram', 'weight', 'price_euros', 'tn_2_in_1_convertible',\n",
       "       'tn_gaming', 'tn_netbook', 'tn_notebook', 'tn_ultrabook',\n",
       "       'tn_workstation', 'scr_4k_ultra_hd', 'scr_full_hd', 'scr_hd',\n",
       "       'scr_other', 'scr_quad_hd+', 'cpu_ghz', 'cpu_intel', 'cpu_amd',\n",
       "       'so_windows', 'so_no', 'so_linux', 'so_chrome', 'so_mac', 'gpu_intel',\n",
       "       'gpu_nvidia', 'gpu_amd', 'memory_gb', 'company_acer', 'company_apple',\n",
       "       'company_asus', 'company_chuwi', 'company_dell', 'company_fujitsu',\n",
       "       'company_google', 'company_hp', 'company_huawei', 'company_lenovo',\n",
       "       'company_lg', 'company_mediacom', 'company_microsoft', 'company_msi',\n",
       "       'company_razer', 'company_samsung', 'company_toshiba', 'company_vero',\n",
       "       'company_xiaomi'],\n",
       "      dtype='object')"
      ]
     },
     "execution_count": 107,
     "metadata": {},
     "output_type": "execute_result"
    }
   ],
   "source": [
    "train.columns"
   ]
  },
  {
   "cell_type": "markdown",
   "metadata": {},
   "source": [
    "## TRAIN - Entrenando modelos"
   ]
  },
  {
   "cell_type": "markdown",
   "metadata": {},
   "source": [
    "### Normalizar valores"
   ]
  },
  {
   "cell_type": "code",
   "execution_count": 5,
   "metadata": {},
   "outputs": [
    {
     "name": "stdout",
     "output_type": "stream",
     "text": [
      "     inches       ram    weight  price_euros  tn_2_in_1_convertible  \\\n",
      "0  0.435726 -0.885886  0.578996    -1.071514                      0   \n",
      "1 -1.187970 -0.055965 -1.212277     0.384643                      0   \n",
      "2  1.635848 -0.055965  1.497597    -0.386005                      0   \n",
      "3 -1.752733 -0.055965 -1.166347     0.537304                      0   \n",
      "4  1.635848 -0.055965  1.191397    -0.877751                      0   \n",
      "5  0.435726  1.603876  0.732096    -0.026369                      0   \n",
      "6 -0.693801 -0.055965 -0.492706    -0.760319                      0   \n",
      "7 -0.693801 -0.470925 -0.676426    -0.672245                      0   \n",
      "8 -1.187970 -0.055965 -1.212277     1.103913                      0   \n",
      "9  1.635848 -0.055965  2.033448     0.108677                      0   \n",
      "\n",
      "   tn_gaming  tn_netbook  tn_notebook  tn_ultrabook  tn_workstation  ...  \\\n",
      "0          0           0            1             0               0  ...   \n",
      "1          0           0            0             1               0  ...   \n",
      "2          0           0            1             0               0  ...   \n",
      "3          0           1            0             0               0  ...   \n",
      "4          0           0            1             0               0  ...   \n",
      "5          0           0            1             0               0  ...   \n",
      "6          0           0            1             0               0  ...   \n",
      "7          0           0            1             0               0  ...   \n",
      "8          0           0            0             1               0  ...   \n",
      "9          1           0            0             0               0  ...   \n",
      "\n",
      "   company_lenovo  company_lg  company_mediacom  company_microsoft  \\\n",
      "0               0           0                 0                  0   \n",
      "1               0           0                 0                  0   \n",
      "2               0           0                 0                  0   \n",
      "3               0           0                 0                  0   \n",
      "4               1           0                 0                  0   \n",
      "5               1           0                 0                  0   \n",
      "6               1           0                 0                  0   \n",
      "7               0           0                 0                  0   \n",
      "8               0           0                 0                  0   \n",
      "9               0           0                 0                  0   \n",
      "\n",
      "   company_msi  company_razer  company_samsung  company_toshiba  company_vero  \\\n",
      "0            0              0                0                0             0   \n",
      "1            0              0                0                0             0   \n",
      "2            0              0                0                0             0   \n",
      "3            0              0                0                0             0   \n",
      "4            0              0                0                0             0   \n",
      "5            0              0                0                0             0   \n",
      "6            0              0                0                0             0   \n",
      "7            0              0                0                0             0   \n",
      "8            0              0                0                0             0   \n",
      "9            0              0                0                0             0   \n",
      "\n",
      "   company_xiaomi  \n",
      "0               0  \n",
      "1               0  \n",
      "2               0  \n",
      "3               0  \n",
      "4               0  \n",
      "5               0  \n",
      "6               0  \n",
      "7               0  \n",
      "8               0  \n",
      "9               0  \n",
      "\n",
      "[10 rows x 46 columns]\n"
     ]
    },
    {
     "name": "stderr",
     "output_type": "stream",
     "text": [
      "C:\\Users\\Ximena\\AppData\\Local\\Temp\\ipykernel_3932\\900255379.py:11: SettingWithCopyWarning: \n",
      "A value is trying to be set on a copy of a slice from a DataFrame.\n",
      "Try using .loc[row_indexer,col_indexer] = value instead\n",
      "\n",
      "See the caveats in the documentation: https://pandas.pydata.org/pandas-docs/stable/user_guide/indexing.html#returning-a-view-versus-a-copy\n",
      "  train[columns_to_standardize] = standard_scaler.fit_transform(data_to_standardize)\n"
     ]
    }
   ],
   "source": [
    "from sklearn.preprocessing import StandardScaler\n",
    "\n",
    "# Selecciona las columnas que quieres estandarizar (las primeras en este caso)\n",
    "columns_to_standardize = ['inches', 'ram', 'weight', 'price_euros']\n",
    "\n",
    "# Crea un nuevo DataFrame solo con las columnas que quieres estandarizar\n",
    "data_to_standardize = train[columns_to_standardize]\n",
    "\n",
    "# Aplica el StandardScaler a las columnas seleccionadas\n",
    "standard_scaler = StandardScaler()\n",
    "train[columns_to_standardize] = standard_scaler.fit_transform(data_to_standardize)\n",
    "\n",
    "# Muestra las primeras 10 filas del DataFrame con datos estandarizados\n",
    "print(train.head(10))\n"
   ]
  },
  {
   "cell_type": "code",
   "execution_count": 33,
   "metadata": {},
   "outputs": [],
   "source": [
    "X = train.drop(['price_euros'], axis=1)\n",
    "y = train['price_euros'].copy()"
   ]
  },
  {
   "cell_type": "code",
   "execution_count": 34,
   "metadata": {},
   "outputs": [
    {
     "data": {
      "text/plain": [
       "(912, 45)"
      ]
     },
     "execution_count": 34,
     "metadata": {},
     "output_type": "execute_result"
    }
   ],
   "source": [
    "X.shape"
   ]
  },
  {
   "cell_type": "code",
   "execution_count": 35,
   "metadata": {},
   "outputs": [
    {
     "data": {
      "text/plain": [
       "(912,)"
      ]
     },
     "execution_count": 35,
     "metadata": {},
     "output_type": "execute_result"
    }
   ],
   "source": [
    "y.shape"
   ]
  },
  {
   "cell_type": "markdown",
   "metadata": {},
   "source": [
    "### 2. Dividir X_train, X_test, y_train, y_test"
   ]
  },
  {
   "cell_type": "code",
   "execution_count": 36,
   "metadata": {},
   "outputs": [],
   "source": [
    "from sklearn.model_selection import train_test_split"
   ]
  },
  {
   "cell_type": "code",
   "execution_count": 37,
   "metadata": {},
   "outputs": [],
   "source": [
    "X_train, X_test, y_train, y_test = train_test_split(X, y, test_size = 0.20, random_state = 42)"
   ]
  },
  {
   "cell_type": "code",
   "execution_count": 38,
   "metadata": {},
   "outputs": [],
   "source": [
    "from sklearn.model_selection import cross_val_score"
   ]
  },
  {
   "cell_type": "markdown",
   "metadata": {},
   "source": [
    "### Linear Regression"
   ]
  },
  {
   "cell_type": "code",
   "execution_count": 39,
   "metadata": {},
   "outputs": [],
   "source": [
    "# 2do mejor prediciendo\n",
    "from sklearn.linear_model import LinearRegression\n",
    "\n",
    "model = LinearRegression()"
   ]
  },
  {
   "cell_type": "markdown",
   "metadata": {},
   "source": [
    "### Ridge"
   ]
  },
  {
   "cell_type": "code",
   "execution_count": 129,
   "metadata": {},
   "outputs": [],
   "source": [
    "# 1ro prediciendo \n",
    "from sklearn.linear_model import Ridge\n",
    "\n",
    "model = Ridge(alpha=10)"
   ]
  },
  {
   "cell_type": "markdown",
   "metadata": {},
   "source": [
    "### Lasso"
   ]
  },
  {
   "cell_type": "code",
   "execution_count": 140,
   "metadata": {},
   "outputs": [],
   "source": [
    "from sklearn.linear_model import Lasso\n",
    "\n",
    "model = Lasso()"
   ]
  },
  {
   "cell_type": "markdown",
   "metadata": {},
   "source": [
    "### SVM - SVR Regression"
   ]
  },
  {
   "cell_type": "code",
   "execution_count": 43,
   "metadata": {},
   "outputs": [],
   "source": [
    "from sklearn.svm import SVR\n",
    "\n",
    "model = SVR()"
   ]
  },
  {
   "cell_type": "markdown",
   "metadata": {},
   "source": [
    "### Random Forest"
   ]
  },
  {
   "cell_type": "code",
   "execution_count": 145,
   "metadata": {},
   "outputs": [
    {
     "name": "stdout",
     "output_type": "stream",
     "text": [
      "RMSE con Random Forest: 326.974144889498\n"
     ]
    }
   ],
   "source": [
    "from sklearn.ensemble import RandomForestRegressor\n",
    "from sklearn.metrics import mean_squared_error\n",
    "import numpy as np\n",
    "\n",
    "# Instancia el modelo Random Forest\n",
    "model = RandomForestRegressor(n_estimators=100, random_state=42)\n",
    "\n",
    "# Entrena el modelo con tus datos de entrenamiento\n",
    "model.fit(X_train, y_train)\n",
    "\n",
    "# Realiza predicciones en el conjunto de prueba\n",
    "rf_pred = model.predict(X_test)\n",
    "\n",
    "# Calcula el error cuadrático medio (RMSE)\n",
    "rf_rmse = np.sqrt(mean_squared_error(y_test, rf_pred))\n",
    "\n",
    "# Muestra el RMSE\n",
    "print('RMSE con Random Forest:', rf_rmse)"
   ]
  },
  {
   "cell_type": "markdown",
   "metadata": {},
   "source": [
    "### Cross Validation"
   ]
  },
  {
   "cell_type": "code",
   "execution_count": 146,
   "metadata": {},
   "outputs": [
    {
     "data": {
      "text/plain": [
       "310.16314166773157"
      ]
     },
     "execution_count": 146,
     "metadata": {},
     "output_type": "execute_result"
    }
   ],
   "source": [
    "scores = -cross_val_score(model, X, y, cv=5, scoring= 'neg_root_mean_squared_error')\n",
    "np.mean(scores)"
   ]
  },
  {
   "cell_type": "code",
   "execution_count": 147,
   "metadata": {},
   "outputs": [
    {
     "data": {
      "text/html": [
       "<style>#sk-container-id-4 {color: black;}#sk-container-id-4 pre{padding: 0;}#sk-container-id-4 div.sk-toggleable {background-color: white;}#sk-container-id-4 label.sk-toggleable__label {cursor: pointer;display: block;width: 100%;margin-bottom: 0;padding: 0.3em;box-sizing: border-box;text-align: center;}#sk-container-id-4 label.sk-toggleable__label-arrow:before {content: \"▸\";float: left;margin-right: 0.25em;color: #696969;}#sk-container-id-4 label.sk-toggleable__label-arrow:hover:before {color: black;}#sk-container-id-4 div.sk-estimator:hover label.sk-toggleable__label-arrow:before {color: black;}#sk-container-id-4 div.sk-toggleable__content {max-height: 0;max-width: 0;overflow: hidden;text-align: left;background-color: #f0f8ff;}#sk-container-id-4 div.sk-toggleable__content pre {margin: 0.2em;color: black;border-radius: 0.25em;background-color: #f0f8ff;}#sk-container-id-4 input.sk-toggleable__control:checked~div.sk-toggleable__content {max-height: 200px;max-width: 100%;overflow: auto;}#sk-container-id-4 input.sk-toggleable__control:checked~label.sk-toggleable__label-arrow:before {content: \"▾\";}#sk-container-id-4 div.sk-estimator input.sk-toggleable__control:checked~label.sk-toggleable__label {background-color: #d4ebff;}#sk-container-id-4 div.sk-label input.sk-toggleable__control:checked~label.sk-toggleable__label {background-color: #d4ebff;}#sk-container-id-4 input.sk-hidden--visually {border: 0;clip: rect(1px 1px 1px 1px);clip: rect(1px, 1px, 1px, 1px);height: 1px;margin: -1px;overflow: hidden;padding: 0;position: absolute;width: 1px;}#sk-container-id-4 div.sk-estimator {font-family: monospace;background-color: #f0f8ff;border: 1px dotted black;border-radius: 0.25em;box-sizing: border-box;margin-bottom: 0.5em;}#sk-container-id-4 div.sk-estimator:hover {background-color: #d4ebff;}#sk-container-id-4 div.sk-parallel-item::after {content: \"\";width: 100%;border-bottom: 1px solid gray;flex-grow: 1;}#sk-container-id-4 div.sk-label:hover label.sk-toggleable__label {background-color: #d4ebff;}#sk-container-id-4 div.sk-serial::before {content: \"\";position: absolute;border-left: 1px solid gray;box-sizing: border-box;top: 0;bottom: 0;left: 50%;z-index: 0;}#sk-container-id-4 div.sk-serial {display: flex;flex-direction: column;align-items: center;background-color: white;padding-right: 0.2em;padding-left: 0.2em;position: relative;}#sk-container-id-4 div.sk-item {position: relative;z-index: 1;}#sk-container-id-4 div.sk-parallel {display: flex;align-items: stretch;justify-content: center;background-color: white;position: relative;}#sk-container-id-4 div.sk-item::before, #sk-container-id-4 div.sk-parallel-item::before {content: \"\";position: absolute;border-left: 1px solid gray;box-sizing: border-box;top: 0;bottom: 0;left: 50%;z-index: -1;}#sk-container-id-4 div.sk-parallel-item {display: flex;flex-direction: column;z-index: 1;position: relative;background-color: white;}#sk-container-id-4 div.sk-parallel-item:first-child::after {align-self: flex-end;width: 50%;}#sk-container-id-4 div.sk-parallel-item:last-child::after {align-self: flex-start;width: 50%;}#sk-container-id-4 div.sk-parallel-item:only-child::after {width: 0;}#sk-container-id-4 div.sk-dashed-wrapped {border: 1px dashed gray;margin: 0 0.4em 0.5em 0.4em;box-sizing: border-box;padding-bottom: 0.4em;background-color: white;}#sk-container-id-4 div.sk-label label {font-family: monospace;font-weight: bold;display: inline-block;line-height: 1.2em;}#sk-container-id-4 div.sk-label-container {text-align: center;}#sk-container-id-4 div.sk-container {/* jupyter's `normalize.less` sets `[hidden] { display: none; }` but bootstrap.min.css set `[hidden] { display: none !important; }` so we also need the `!important` here to be able to override the default hidden behavior on the sphinx rendered scikit-learn.org. See: https://github.com/scikit-learn/scikit-learn/issues/21755 */display: inline-block !important;position: relative;}#sk-container-id-4 div.sk-text-repr-fallback {display: none;}</style><div id=\"sk-container-id-4\" class=\"sk-top-container\"><div class=\"sk-text-repr-fallback\"><pre>RandomForestRegressor(random_state=42)</pre><b>In a Jupyter environment, please rerun this cell to show the HTML representation or trust the notebook. <br />On GitHub, the HTML representation is unable to render, please try loading this page with nbviewer.org.</b></div><div class=\"sk-container\" hidden><div class=\"sk-item\"><div class=\"sk-estimator sk-toggleable\"><input class=\"sk-toggleable__control sk-hidden--visually\" id=\"sk-estimator-id-4\" type=\"checkbox\" checked><label for=\"sk-estimator-id-4\" class=\"sk-toggleable__label sk-toggleable__label-arrow\">RandomForestRegressor</label><div class=\"sk-toggleable__content\"><pre>RandomForestRegressor(random_state=42)</pre></div></div></div></div></div>"
      ],
      "text/plain": [
       "RandomForestRegressor(random_state=42)"
      ]
     },
     "execution_count": 147,
     "metadata": {},
     "output_type": "execute_result"
    }
   ],
   "source": [
    "model.fit(X,y)"
   ]
  },
  {
   "cell_type": "code",
   "execution_count": 148,
   "metadata": {},
   "outputs": [
    {
     "data": {
      "text/plain": [
       "array([1715.86252857,  265.7625    ,  806.465705  , 1407.57148849,\n",
       "       1654.85716667,  281.952     ,  704.22985   , 1866.0911    ,\n",
       "        865.87481   , 1487.43      , 1304.851     ,  534.2397    ,\n",
       "        314.76733333, 1620.92693333, 1666.1969    , 1897.58754762,\n",
       "       1909.692     , 1248.23895238,  615.48693333,  642.047     ,\n",
       "        568.39474571,  449.4955    ,  795.0944    ,  729.6256    ,\n",
       "        955.2       ,  541.4945    , 1198.4296    , 2044.3918    ,\n",
       "        872.74848   ,  678.11945   , 1408.77      , 1314.16      ,\n",
       "        797.1271    , 1710.5776    , 1094.1918    ,  386.79223333,\n",
       "        638.5551    ,  529.79      , 1664.24      ,  800.5301    ,\n",
       "       1024.096     , 1718.1924    , 1235.17216667, 2917.5055    ,\n",
       "        900.3288    ,  286.279     , 1110.8098    ,  500.9642    ,\n",
       "        874.201     ,  406.875     , 1616.4361    ,  933.8572    ,\n",
       "        469.24406667, 3166.3114    , 1072.746275  , 1870.2312    ,\n",
       "       1586.918     , 1124.6992    , 2586.4999    , 1975.14083333,\n",
       "        232.76      , 1419.9725    ,  469.39      , 1809.79463333,\n",
       "        407.7323    ,  568.3679    ,  523.40086667,  874.6239    ,\n",
       "       1587.446     ,  458.2535    , 1228.95192381,  775.66333333,\n",
       "       3030.7257    , 1809.79463333, 1369.33156667, 2747.3676    ,\n",
       "       3778.9532    ,  436.4784    ,  726.809     ,  931.7905    ,\n",
       "        852.1088    ,  810.1954    , 1788.39933333,  974.50903333,\n",
       "       1017.157     , 1148.7536    , 1104.41726667,  575.1991    ,\n",
       "       2304.13285333,  580.954     , 1253.0424    , 1378.8145    ,\n",
       "       1568.314     ,  341.229     ,  874.1724    , 1149.62933333,\n",
       "       2172.8745    ,  962.1701    ,  479.7492    ,  440.5062    ,\n",
       "       1244.7684    , 1688.4773    , 1119.1186    ,  821.826     ,\n",
       "       1201.0094    ,  419.90876667,  827.6272    ,  726.6974    ,\n",
       "        483.29895   , 1324.9945    , 1311.11      , 1481.3783    ,\n",
       "        882.7036    , 1818.2744    , 1408.61      , 1431.4139    ,\n",
       "        417.9299    ,  470.229     ,  842.9023    , 1249.59083333,\n",
       "        388.27983333,  277.2795    , 1460.11066667,  592.3925    ,\n",
       "        969.8143    ,  760.3982    ,  849.1552    , 1456.868     ,\n",
       "       1225.9924    , 1200.88053333,  449.4955    ,  645.31452667,\n",
       "       1202.06      , 1634.7488    , 2996.7175    , 1085.3544    ,\n",
       "       1858.48666667, 1472.5266    , 2097.9432    , 1999.719375  ,\n",
       "        812.5717    ,  940.9906    ,  892.65173333,  697.608     ,\n",
       "       1182.744325  ,  284.28106667,  851.62466667, 1062.8286    ,\n",
       "       1013.9604    , 1119.945     ,  283.24366667, 1324.81266667,\n",
       "       1040.23      , 1857.553     , 1296.1017    , 1154.8691    ,\n",
       "        694.99633333, 1044.3063    , 4528.59      , 1944.3163    ,\n",
       "       1810.56266667, 1177.815115  , 1559.7       , 1532.288     ,\n",
       "       1884.53376667,  359.734     ,  559.04      ,  809.7183    ,\n",
       "        509.21      , 1015.63805214, 1099.0341    , 1552.7025    ,\n",
       "        407.84846762, 1064.75063333, 1163.4984    , 1149.62933333,\n",
       "       1162.67833333,  628.30849524, 1138.03552   ,  736.6232    ,\n",
       "        858.3166    ,  498.2076    , 1018.7018    ])"
      ]
     },
     "execution_count": 148,
     "metadata": {},
     "output_type": "execute_result"
    }
   ],
   "source": [
    "pred = model.predict(X_test)\n",
    "pred"
   ]
  },
  {
   "cell_type": "code",
   "execution_count": 149,
   "metadata": {},
   "outputs": [
    {
     "name": "stdout",
     "output_type": "stream",
     "text": [
      "RMSE : 124.67987839447422\n"
     ]
    }
   ],
   "source": [
    "from sklearn.metrics import mean_squared_error\n",
    "import numpy as np\n",
    "\n",
    "print('RMSE :',np.sqrt(mean_squared_error(y_test,pred)))"
   ]
  },
  {
   "cell_type": "markdown",
   "metadata": {},
   "source": [
    "## TEST - LIMPIEZA"
   ]
  },
  {
   "cell_type": "code",
   "execution_count": 78,
   "metadata": {},
   "outputs": [],
   "source": [
    "X_pred = pd.read_csv(\"data/test.csv\")"
   ]
  },
  {
   "cell_type": "markdown",
   "metadata": {},
   "source": [
    "### COLUMNA TypeName -- tn"
   ]
  },
  {
   "cell_type": "code",
   "execution_count": 79,
   "metadata": {},
   "outputs": [],
   "source": [
    "df_dummies = pd.get_dummies(X_pred['TypeName'], prefix='tn')"
   ]
  },
  {
   "cell_type": "code",
   "execution_count": 80,
   "metadata": {},
   "outputs": [],
   "source": [
    "X_pred[df_dummies.columns] = df_dummies.astype(int)"
   ]
  },
  {
   "cell_type": "markdown",
   "metadata": {},
   "source": [
    "### COLUMNA ScreenResolution -- src"
   ]
  },
  {
   "cell_type": "code",
   "execution_count": 81,
   "metadata": {},
   "outputs": [],
   "source": [
    "X_pred['src'] = X_pred['ScreenResolution'].apply(lambda x: 'HD' if '1366x768' in x else 'Full HD' if '1920x1080' in x else 'Quad HD+' if '3200x1800' in x else '4K Ultra HD' if '3840x2160' in x else 'Other')\n"
   ]
  },
  {
   "cell_type": "code",
   "execution_count": 82,
   "metadata": {},
   "outputs": [],
   "source": [
    "X_pred = pd.get_dummies(X_pred, columns=['src'], prefix='scr')"
   ]
  },
  {
   "cell_type": "code",
   "execution_count": 83,
   "metadata": {},
   "outputs": [],
   "source": [
    "scr_columns = [col for col in X_pred.columns if col.startswith('scr')]"
   ]
  },
  {
   "cell_type": "code",
   "execution_count": 84,
   "metadata": {},
   "outputs": [],
   "source": [
    "# Convertir las columnas a enteros (0 o 1)\n",
    "X_pred['scr_4K Ultra HD'] = X_pred['scr_4K Ultra HD'].astype(int)\n",
    "X_pred['scr_Full HD'] = X_pred['scr_Full HD'].astype(int)\n",
    "X_pred['scr_HD'] = X_pred['scr_HD'].astype(int)\n",
    "X_pred['scr_Other'] = X_pred['scr_Other'].astype(int)\n",
    "X_pred['scr_Quad HD+'] = X_pred['scr_Quad HD+'].astype(int)\n"
   ]
  },
  {
   "cell_type": "markdown",
   "metadata": {},
   "source": [
    "### COLUMNA Ram y Weight"
   ]
  },
  {
   "cell_type": "code",
   "execution_count": 85,
   "metadata": {},
   "outputs": [],
   "source": [
    "X_pred['Ram'] = X_pred['Ram'].map(lambda x:x.strip('GB'))\n",
    "\n",
    "X_pred['Weight'] = X_pred['Weight'].map(lambda x:x.strip('kg'))\n"
   ]
  },
  {
   "cell_type": "code",
   "execution_count": 86,
   "metadata": {},
   "outputs": [],
   "source": [
    "X_pred['Ram'] = X_pred['Ram'].astype(int)\n",
    "X_pred['Weight'] = X_pred['Weight'].astype(float)"
   ]
  },
  {
   "cell_type": "markdown",
   "metadata": {},
   "source": [
    "### Columna 'cpu' - 'cpu_ghz', 'cpu_intel' y 'cpu_amd'"
   ]
  },
  {
   "cell_type": "code",
   "execution_count": 87,
   "metadata": {},
   "outputs": [],
   "source": [
    "# 1. Extraer solo los números de GHz y crear la columna 'cpu_GHz' asignando dichos valores\n",
    "X_pred['cpu_ghz'] = X_pred['Cpu'].str.extract(r'(\\d+\\.\\d+)GHz').astype(float)\n",
    "\n",
    "# 2. Crear las columnas 'cpu_intel' y 'cpu_amd' y asignar 0 o 1 según la información en cada fila\n",
    "X_pred['cpu_intel'] = X_pred['Cpu'].str.contains('Intel').astype(int)\n",
    "X_pred['cpu_amd'] = X_pred['Cpu'].str.contains('AMD').astype(int)"
   ]
  },
  {
   "cell_type": "code",
   "execution_count": 88,
   "metadata": {},
   "outputs": [
    {
     "data": {
      "text/plain": [
       "laptop_ID                 0\n",
       "Company                   0\n",
       "Product                   0\n",
       "TypeName                  0\n",
       "Inches                    0\n",
       "ScreenResolution          0\n",
       "Cpu                       0\n",
       "Ram                       0\n",
       "Memory                    0\n",
       "Gpu                       0\n",
       "OpSys                     0\n",
       "Weight                    0\n",
       "tn_2 in 1 Convertible     0\n",
       "tn_Gaming                 0\n",
       "tn_Netbook                0\n",
       "tn_Notebook               0\n",
       "tn_Ultrabook              0\n",
       "tn_Workstation            0\n",
       "scr_4K Ultra HD           0\n",
       "scr_Full HD               0\n",
       "scr_HD                    0\n",
       "scr_Other                 0\n",
       "scr_Quad HD+              0\n",
       "cpu_ghz                  24\n",
       "cpu_intel                 0\n",
       "cpu_amd                   0\n",
       "dtype: int64"
      ]
     },
     "execution_count": 88,
     "metadata": {},
     "output_type": "execute_result"
    }
   ],
   "source": [
    "X_pred.isnull().sum()"
   ]
  },
  {
   "cell_type": "code",
   "execution_count": 89,
   "metadata": {},
   "outputs": [],
   "source": [
    "median_cpu_GHz = X_pred['cpu_ghz'].median()\n",
    "\n",
    "# Llena los valores nulos en 'cpu_GHz' con la mediana\n",
    "X_pred['cpu_ghz'].fillna(median_cpu_GHz, inplace=True)"
   ]
  },
  {
   "cell_type": "markdown",
   "metadata": {},
   "source": [
    "### Columna 'OpSys' - 'so_windows', 'so_no', 'so_linux', 'so_chrome', 'so_mac'"
   ]
  },
  {
   "cell_type": "code",
   "execution_count": 90,
   "metadata": {},
   "outputs": [],
   "source": [
    "# Crear columnas binarias\n",
    "X_pred['so_windows'] = X_pred['OpSys'].str.contains('windows', case=False).astype(int)\n",
    "X_pred['so_no'] = X_pred['OpSys'].eq('no os').astype(int)\n",
    "X_pred['so_linux'] = X_pred['OpSys'].str.contains('linux', case=False).astype(int)\n",
    "X_pred['so_chrome'] = X_pred['OpSys'].str.contains('chrome', case=False).astype(int)\n",
    "X_pred['so_mac'] = X_pred['OpSys'].str.contains('mac', case=False).astype(int)"
   ]
  },
  {
   "cell_type": "markdown",
   "metadata": {},
   "source": [
    "### Columna 'Gpu' - "
   ]
  },
  {
   "cell_type": "code",
   "execution_count": 91,
   "metadata": {},
   "outputs": [],
   "source": [
    "# Crear columnas binarias\n",
    "X_pred['gpu_intel'] = X_pred['Gpu'].str.contains('intel', case=False).astype(int)\n",
    "X_pred['gpu_nvidia'] = X_pred['Gpu'].str.contains('nvidia', case=False).astype(int)\n",
    "X_pred['gpu_amd'] = X_pred['Gpu'].str.contains('amd', case=False).astype(int)"
   ]
  },
  {
   "cell_type": "markdown",
   "metadata": {},
   "source": [
    "### Columna 'Memory' - 'memory_gb'"
   ]
  },
  {
   "cell_type": "code",
   "execution_count": 92,
   "metadata": {},
   "outputs": [],
   "source": [
    "import re "
   ]
  },
  {
   "cell_type": "code",
   "execution_count": 93,
   "metadata": {},
   "outputs": [
    {
     "name": "stdout",
     "output_type": "stream",
     "text": [
      "                   Memory  memory_gb\n",
      "0               256GB SSD      256.0\n",
      "1                32GB HDD       32.0\n",
      "2      32GB Flash Storage       32.0\n",
      "3                 1TB HDD     1024.0\n",
      "4      32GB Flash Storage       32.0\n",
      "..                    ...        ...\n",
      "386  256GB SSD +  1TB HDD      256.0\n",
      "387             256GB SSD      256.0\n",
      "388             256GB SSD      256.0\n",
      "389               1TB HDD     1024.0\n",
      "390             240GB SSD      240.0\n",
      "\n",
      "[391 rows x 2 columns]\n"
     ]
    }
   ],
   "source": [
    "def process_memory(memory_str):\n",
    "    # Dividir la cadena por el signo '+'\n",
    "    parts = memory_str.split('+')\n",
    "    \n",
    "    # Tomar el primer valor antes del signo '+'\n",
    "    first_part = parts[0].strip()\n",
    "    \n",
    "    # Extraer el primer número antes del signo más\n",
    "    match = re.search(r'(\\d+\\.?\\d*)', first_part)\n",
    "    \n",
    "    if match:\n",
    "        value = float(match.group())\n",
    "        \n",
    "        # Convertir a GB si es TB\n",
    "        if 'tb' in first_part.lower():\n",
    "            value *= 1024  # Convertir TB a GB\n",
    "        \n",
    "        return value\n",
    "    else:\n",
    "        return None\n",
    "\n",
    "# Aplicar la función a la columna 'Memory'\n",
    "X_pred['memory_gb'] = X_pred['Memory'].apply(process_memory)\n",
    "\n",
    "# Verificar los resultados\n",
    "print(X_pred[['Memory', 'memory_gb']])"
   ]
  },
  {
   "cell_type": "code",
   "execution_count": 94,
   "metadata": {},
   "outputs": [
    {
     "data": {
      "text/plain": [
       "memory_gb\n",
       "256.0     151\n",
       "1024.0     77\n",
       "128.0      47\n",
       "512.0      42\n",
       "500.0      37\n",
       "32.0       16\n",
       "2048.0      7\n",
       "64.0        6\n",
       "180.0       3\n",
       "16.0        3\n",
       "8.0         1\n",
       "240.0       1\n",
       "Name: count, dtype: int64"
      ]
     },
     "execution_count": 94,
     "metadata": {},
     "output_type": "execute_result"
    }
   ],
   "source": [
    "X_pred['memory_gb'].value_counts()"
   ]
  },
  {
   "cell_type": "markdown",
   "metadata": {},
   "source": [
    "### Columna 'Company' - get_dummies "
   ]
  },
  {
   "cell_type": "code",
   "execution_count": 95,
   "metadata": {},
   "outputs": [],
   "source": [
    "# Convertir toda la columna 'Company' a minúsculas\n",
    "X_pred['Company'] = X_pred['Company'].str.lower()\n",
    "\n",
    "# Aplicar get_dummies a la columna 'Company'\n",
    "company_dummies = pd.get_dummies(X_pred['Company'], prefix='company')\n",
    "\n",
    "# Concatenar las nuevas columnas al DataFrame original\n",
    "X_pred = pd.concat([X_pred, company_dummies], axis=1)"
   ]
  },
  {
   "cell_type": "markdown",
   "metadata": {},
   "source": [
    "### Nombres de columnas a minúscula y eliminación de espacios"
   ]
  },
  {
   "cell_type": "code",
   "execution_count": 96,
   "metadata": {},
   "outputs": [],
   "source": [
    "X_pred.columns = X_pred.columns.str.lower()"
   ]
  },
  {
   "cell_type": "code",
   "execution_count": 97,
   "metadata": {},
   "outputs": [],
   "source": [
    "# Reemplazar espacios con guiones bajos en los nombres de las columnas\n",
    "X_pred.columns = X_pred.columns.str.replace(' ', '_')"
   ]
  },
  {
   "cell_type": "markdown",
   "metadata": {},
   "source": [
    "### Eliminar columnas innecesarias luego de la limpieza"
   ]
  },
  {
   "cell_type": "code",
   "execution_count": 100,
   "metadata": {},
   "outputs": [],
   "source": [
    "columns_to_drop = ['laptop_id','company', 'product', 'typename', 'screenresolution', 'cpu', 'memory', 'gpu', 'opsys']\n",
    "X_pred = X_pred.drop(columns=columns_to_drop)\n"
   ]
  },
  {
   "cell_type": "code",
   "execution_count": 101,
   "metadata": {},
   "outputs": [
    {
     "data": {
      "text/plain": [
       "Index(['inches', 'ram', 'weight', 'tn_2_in_1_convertible', 'tn_gaming',\n",
       "       'tn_netbook', 'tn_notebook', 'tn_ultrabook', 'tn_workstation',\n",
       "       'scr_4k_ultra_hd', 'scr_full_hd', 'scr_hd', 'scr_other', 'scr_quad_hd+',\n",
       "       'cpu_ghz', 'cpu_intel', 'cpu_amd', 'so_windows', 'so_no', 'so_linux',\n",
       "       'so_chrome', 'so_mac', 'gpu_intel', 'gpu_nvidia', 'gpu_amd',\n",
       "       'memory_gb', 'company_acer', 'company_apple', 'company_asus',\n",
       "       'company_chuwi', 'company_dell', 'company_fujitsu', 'company_hp',\n",
       "       'company_huawei', 'company_lenovo', 'company_lg', 'company_mediacom',\n",
       "       'company_msi', 'company_razer', 'company_samsung', 'company_toshiba',\n",
       "       'company_vero'],\n",
       "      dtype='object')"
      ]
     },
     "execution_count": 101,
     "metadata": {},
     "output_type": "execute_result"
    }
   ],
   "source": [
    "X_pred.columns"
   ]
  },
  {
   "cell_type": "code",
   "execution_count": 110,
   "metadata": {},
   "outputs": [],
   "source": [
    "# Lista de columnas booleanas\n",
    "columns_to_convert = ['company_acer', 'company_apple', 'company_asus', 'company_chuwi',\n",
    "                       'company_dell', 'company_fujitsu', 'company_hp', 'company_huawei',\n",
    "                       'company_lenovo', 'company_lg', 'company_mediacom', 'company_msi',\n",
    "                       'company_razer', 'company_samsung', 'company_toshiba', 'company_vero']\n",
    "\n",
    "# Convertir valores booleanos a 0 y 1 en las columnas seleccionadas\n",
    "X_pred[columns_to_convert] = X_pred[columns_to_convert].astype(int)\n"
   ]
  },
  {
   "cell_type": "markdown",
   "metadata": {},
   "source": [
    "### Guardar DataFrame de Test - 'X_pred' con la limpieza igual que 'Train'"
   ]
  },
  {
   "cell_type": "code",
   "execution_count": 113,
   "metadata": {},
   "outputs": [],
   "source": [
    "X_pred.to_csv('./data/df_limpieza_Test_Xime.csv')"
   ]
  },
  {
   "cell_type": "code",
   "execution_count": 111,
   "metadata": {},
   "outputs": [
    {
     "data": {
      "text/html": [
       "<div>\n",
       "<style scoped>\n",
       "    .dataframe tbody tr th:only-of-type {\n",
       "        vertical-align: middle;\n",
       "    }\n",
       "\n",
       "    .dataframe tbody tr th {\n",
       "        vertical-align: top;\n",
       "    }\n",
       "\n",
       "    .dataframe thead th {\n",
       "        text-align: right;\n",
       "    }\n",
       "</style>\n",
       "<table border=\"1\" class=\"dataframe\">\n",
       "  <thead>\n",
       "    <tr style=\"text-align: right;\">\n",
       "      <th></th>\n",
       "      <th>inches</th>\n",
       "      <th>ram</th>\n",
       "      <th>weight</th>\n",
       "      <th>tn_2_in_1_convertible</th>\n",
       "      <th>tn_gaming</th>\n",
       "      <th>tn_netbook</th>\n",
       "      <th>tn_notebook</th>\n",
       "      <th>tn_ultrabook</th>\n",
       "      <th>tn_workstation</th>\n",
       "      <th>scr_4k_ultra_hd</th>\n",
       "      <th>...</th>\n",
       "      <th>company_hp</th>\n",
       "      <th>company_huawei</th>\n",
       "      <th>company_lenovo</th>\n",
       "      <th>company_lg</th>\n",
       "      <th>company_mediacom</th>\n",
       "      <th>company_msi</th>\n",
       "      <th>company_razer</th>\n",
       "      <th>company_samsung</th>\n",
       "      <th>company_toshiba</th>\n",
       "      <th>company_vero</th>\n",
       "    </tr>\n",
       "  </thead>\n",
       "  <tbody>\n",
       "    <tr>\n",
       "      <th>0</th>\n",
       "      <td>14.0</td>\n",
       "      <td>8</td>\n",
       "      <td>1.25</td>\n",
       "      <td>0</td>\n",
       "      <td>0</td>\n",
       "      <td>0</td>\n",
       "      <td>1</td>\n",
       "      <td>0</td>\n",
       "      <td>0</td>\n",
       "      <td>0</td>\n",
       "      <td>...</td>\n",
       "      <td>0</td>\n",
       "      <td>0</td>\n",
       "      <td>0</td>\n",
       "      <td>0</td>\n",
       "      <td>0</td>\n",
       "      <td>0</td>\n",
       "      <td>0</td>\n",
       "      <td>0</td>\n",
       "      <td>1</td>\n",
       "      <td>0</td>\n",
       "    </tr>\n",
       "    <tr>\n",
       "      <th>1</th>\n",
       "      <td>14.0</td>\n",
       "      <td>4</td>\n",
       "      <td>1.40</td>\n",
       "      <td>0</td>\n",
       "      <td>0</td>\n",
       "      <td>0</td>\n",
       "      <td>1</td>\n",
       "      <td>0</td>\n",
       "      <td>0</td>\n",
       "      <td>0</td>\n",
       "      <td>...</td>\n",
       "      <td>0</td>\n",
       "      <td>0</td>\n",
       "      <td>0</td>\n",
       "      <td>0</td>\n",
       "      <td>1</td>\n",
       "      <td>0</td>\n",
       "      <td>0</td>\n",
       "      <td>0</td>\n",
       "      <td>0</td>\n",
       "      <td>0</td>\n",
       "    </tr>\n",
       "    <tr>\n",
       "      <th>2</th>\n",
       "      <td>14.0</td>\n",
       "      <td>2</td>\n",
       "      <td>1.40</td>\n",
       "      <td>0</td>\n",
       "      <td>0</td>\n",
       "      <td>0</td>\n",
       "      <td>1</td>\n",
       "      <td>0</td>\n",
       "      <td>0</td>\n",
       "      <td>0</td>\n",
       "      <td>...</td>\n",
       "      <td>0</td>\n",
       "      <td>0</td>\n",
       "      <td>0</td>\n",
       "      <td>0</td>\n",
       "      <td>1</td>\n",
       "      <td>0</td>\n",
       "      <td>0</td>\n",
       "      <td>0</td>\n",
       "      <td>0</td>\n",
       "      <td>0</td>\n",
       "    </tr>\n",
       "    <tr>\n",
       "      <th>3</th>\n",
       "      <td>15.6</td>\n",
       "      <td>8</td>\n",
       "      <td>2.65</td>\n",
       "      <td>0</td>\n",
       "      <td>1</td>\n",
       "      <td>0</td>\n",
       "      <td>0</td>\n",
       "      <td>0</td>\n",
       "      <td>0</td>\n",
       "      <td>0</td>\n",
       "      <td>...</td>\n",
       "      <td>0</td>\n",
       "      <td>0</td>\n",
       "      <td>0</td>\n",
       "      <td>0</td>\n",
       "      <td>0</td>\n",
       "      <td>0</td>\n",
       "      <td>0</td>\n",
       "      <td>0</td>\n",
       "      <td>0</td>\n",
       "      <td>0</td>\n",
       "    </tr>\n",
       "    <tr>\n",
       "      <th>4</th>\n",
       "      <td>11.6</td>\n",
       "      <td>2</td>\n",
       "      <td>1.10</td>\n",
       "      <td>1</td>\n",
       "      <td>0</td>\n",
       "      <td>0</td>\n",
       "      <td>0</td>\n",
       "      <td>0</td>\n",
       "      <td>0</td>\n",
       "      <td>0</td>\n",
       "      <td>...</td>\n",
       "      <td>0</td>\n",
       "      <td>0</td>\n",
       "      <td>0</td>\n",
       "      <td>0</td>\n",
       "      <td>0</td>\n",
       "      <td>0</td>\n",
       "      <td>0</td>\n",
       "      <td>0</td>\n",
       "      <td>0</td>\n",
       "      <td>0</td>\n",
       "    </tr>\n",
       "    <tr>\n",
       "      <th>...</th>\n",
       "      <td>...</td>\n",
       "      <td>...</td>\n",
       "      <td>...</td>\n",
       "      <td>...</td>\n",
       "      <td>...</td>\n",
       "      <td>...</td>\n",
       "      <td>...</td>\n",
       "      <td>...</td>\n",
       "      <td>...</td>\n",
       "      <td>...</td>\n",
       "      <td>...</td>\n",
       "      <td>...</td>\n",
       "      <td>...</td>\n",
       "      <td>...</td>\n",
       "      <td>...</td>\n",
       "      <td>...</td>\n",
       "      <td>...</td>\n",
       "      <td>...</td>\n",
       "      <td>...</td>\n",
       "      <td>...</td>\n",
       "      <td>...</td>\n",
       "    </tr>\n",
       "    <tr>\n",
       "      <th>386</th>\n",
       "      <td>15.6</td>\n",
       "      <td>16</td>\n",
       "      <td>3.49</td>\n",
       "      <td>0</td>\n",
       "      <td>1</td>\n",
       "      <td>0</td>\n",
       "      <td>0</td>\n",
       "      <td>0</td>\n",
       "      <td>0</td>\n",
       "      <td>0</td>\n",
       "      <td>...</td>\n",
       "      <td>0</td>\n",
       "      <td>0</td>\n",
       "      <td>0</td>\n",
       "      <td>0</td>\n",
       "      <td>0</td>\n",
       "      <td>0</td>\n",
       "      <td>0</td>\n",
       "      <td>0</td>\n",
       "      <td>0</td>\n",
       "      <td>0</td>\n",
       "    </tr>\n",
       "    <tr>\n",
       "      <th>387</th>\n",
       "      <td>12.5</td>\n",
       "      <td>8</td>\n",
       "      <td>1.25</td>\n",
       "      <td>0</td>\n",
       "      <td>0</td>\n",
       "      <td>0</td>\n",
       "      <td>0</td>\n",
       "      <td>1</td>\n",
       "      <td>0</td>\n",
       "      <td>1</td>\n",
       "      <td>...</td>\n",
       "      <td>0</td>\n",
       "      <td>0</td>\n",
       "      <td>0</td>\n",
       "      <td>0</td>\n",
       "      <td>0</td>\n",
       "      <td>0</td>\n",
       "      <td>1</td>\n",
       "      <td>0</td>\n",
       "      <td>0</td>\n",
       "      <td>0</td>\n",
       "    </tr>\n",
       "    <tr>\n",
       "      <th>388</th>\n",
       "      <td>15.6</td>\n",
       "      <td>4</td>\n",
       "      <td>2.30</td>\n",
       "      <td>0</td>\n",
       "      <td>0</td>\n",
       "      <td>0</td>\n",
       "      <td>1</td>\n",
       "      <td>0</td>\n",
       "      <td>0</td>\n",
       "      <td>0</td>\n",
       "      <td>...</td>\n",
       "      <td>0</td>\n",
       "      <td>0</td>\n",
       "      <td>0</td>\n",
       "      <td>0</td>\n",
       "      <td>0</td>\n",
       "      <td>0</td>\n",
       "      <td>0</td>\n",
       "      <td>0</td>\n",
       "      <td>0</td>\n",
       "      <td>0</td>\n",
       "    </tr>\n",
       "    <tr>\n",
       "      <th>389</th>\n",
       "      <td>15.6</td>\n",
       "      <td>4</td>\n",
       "      <td>2.65</td>\n",
       "      <td>0</td>\n",
       "      <td>0</td>\n",
       "      <td>0</td>\n",
       "      <td>1</td>\n",
       "      <td>0</td>\n",
       "      <td>0</td>\n",
       "      <td>0</td>\n",
       "      <td>...</td>\n",
       "      <td>0</td>\n",
       "      <td>0</td>\n",
       "      <td>0</td>\n",
       "      <td>0</td>\n",
       "      <td>0</td>\n",
       "      <td>0</td>\n",
       "      <td>0</td>\n",
       "      <td>0</td>\n",
       "      <td>0</td>\n",
       "      <td>0</td>\n",
       "    </tr>\n",
       "    <tr>\n",
       "      <th>390</th>\n",
       "      <td>12.5</td>\n",
       "      <td>8</td>\n",
       "      <td>1.09</td>\n",
       "      <td>0</td>\n",
       "      <td>0</td>\n",
       "      <td>0</td>\n",
       "      <td>0</td>\n",
       "      <td>1</td>\n",
       "      <td>0</td>\n",
       "      <td>1</td>\n",
       "      <td>...</td>\n",
       "      <td>1</td>\n",
       "      <td>0</td>\n",
       "      <td>0</td>\n",
       "      <td>0</td>\n",
       "      <td>0</td>\n",
       "      <td>0</td>\n",
       "      <td>0</td>\n",
       "      <td>0</td>\n",
       "      <td>0</td>\n",
       "      <td>0</td>\n",
       "    </tr>\n",
       "  </tbody>\n",
       "</table>\n",
       "<p>391 rows × 42 columns</p>\n",
       "</div>"
      ],
      "text/plain": [
       "     inches  ram  weight  tn_2_in_1_convertible  tn_gaming  tn_netbook  \\\n",
       "0      14.0    8    1.25                      0          0           0   \n",
       "1      14.0    4    1.40                      0          0           0   \n",
       "2      14.0    2    1.40                      0          0           0   \n",
       "3      15.6    8    2.65                      0          1           0   \n",
       "4      11.6    2    1.10                      1          0           0   \n",
       "..      ...  ...     ...                    ...        ...         ...   \n",
       "386    15.6   16    3.49                      0          1           0   \n",
       "387    12.5    8    1.25                      0          0           0   \n",
       "388    15.6    4    2.30                      0          0           0   \n",
       "389    15.6    4    2.65                      0          0           0   \n",
       "390    12.5    8    1.09                      0          0           0   \n",
       "\n",
       "     tn_notebook  tn_ultrabook  tn_workstation  scr_4k_ultra_hd  ...  \\\n",
       "0              1             0               0                0  ...   \n",
       "1              1             0               0                0  ...   \n",
       "2              1             0               0                0  ...   \n",
       "3              0             0               0                0  ...   \n",
       "4              0             0               0                0  ...   \n",
       "..           ...           ...             ...              ...  ...   \n",
       "386            0             0               0                0  ...   \n",
       "387            0             1               0                1  ...   \n",
       "388            1             0               0                0  ...   \n",
       "389            1             0               0                0  ...   \n",
       "390            0             1               0                1  ...   \n",
       "\n",
       "     company_hp  company_huawei  company_lenovo  company_lg  company_mediacom  \\\n",
       "0             0               0               0           0                 0   \n",
       "1             0               0               0           0                 1   \n",
       "2             0               0               0           0                 1   \n",
       "3             0               0               0           0                 0   \n",
       "4             0               0               0           0                 0   \n",
       "..          ...             ...             ...         ...               ...   \n",
       "386           0               0               0           0                 0   \n",
       "387           0               0               0           0                 0   \n",
       "388           0               0               0           0                 0   \n",
       "389           0               0               0           0                 0   \n",
       "390           1               0               0           0                 0   \n",
       "\n",
       "     company_msi  company_razer  company_samsung  company_toshiba  \\\n",
       "0              0              0                0                1   \n",
       "1              0              0                0                0   \n",
       "2              0              0                0                0   \n",
       "3              0              0                0                0   \n",
       "4              0              0                0                0   \n",
       "..           ...            ...              ...              ...   \n",
       "386            0              0                0                0   \n",
       "387            0              1                0                0   \n",
       "388            0              0                0                0   \n",
       "389            0              0                0                0   \n",
       "390            0              0                0                0   \n",
       "\n",
       "     company_vero  \n",
       "0               0  \n",
       "1               0  \n",
       "2               0  \n",
       "3               0  \n",
       "4               0  \n",
       "..            ...  \n",
       "386             0  \n",
       "387             0  \n",
       "388             0  \n",
       "389             0  \n",
       "390             0  \n",
       "\n",
       "[391 rows x 42 columns]"
      ]
     },
     "execution_count": 111,
     "metadata": {},
     "output_type": "execute_result"
    }
   ],
   "source": [
    "X_pred"
   ]
  },
  {
   "cell_type": "code",
   "execution_count": 117,
   "metadata": {},
   "outputs": [],
   "source": [
    "# Lista completa de columnas esperadas por el modelo\n",
    "all_expected_columns = ['inches', 'ram', 'weight', 'tn_2_in_1_convertible', 'tn_gaming', 'tn_netbook',\n",
    "                         'tn_notebook', 'tn_ultrabook', 'tn_workstation', 'scr_4k_ultra_hd', 'scr_full_hd',\n",
    "                         'scr_hd', 'scr_other', 'scr_quad_hd+', 'cpu_ghz', 'cpu_intel', 'cpu_amd', 'so_windows',\n",
    "                         'so_no', 'so_linux', 'so_chrome', 'so_mac', 'gpu_intel', 'gpu_nvidia', 'gpu_amd',\n",
    "                         'memory_gb', 'company_acer', 'company_apple', 'company_asus', 'company_chuwi',\n",
    "                         'company_dell', 'company_fujitsu', 'company_google', 'company_hp', 'company_huawei',\n",
    "                         'company_lenovo', 'company_lg', 'company_mediacom', 'company_microsoft', 'company_msi',\n",
    "                         'company_razer', 'company_samsung', 'company_toshiba', 'company_vero', 'company_xiaomi']\n",
    "\n",
    "# Asegúrate de que X_pred tenga todas las columnas esperadas\n",
    "for column in all_expected_columns:\n",
    "    if column not in X_pred.columns:\n",
    "        # Si falta la columna, agrégala con un valor predeterminado\n",
    "        X_pred[column] = False  # O puedes usar 0 para columnas numéricas\n",
    "\n",
    "\n"
   ]
  },
  {
   "cell_type": "code",
   "execution_count": 119,
   "metadata": {},
   "outputs": [],
   "source": [
    "# Ordena las columnas en X_pred para que coincidan con el orden del conjunto de entrenamiento\n",
    "X_pred = X_pred[X_train.columns]\n",
    "\n",
    "# Ahora puedes realizar predicciones\n",
    "pred = model.predict(X_pred)\n"
   ]
  },
  {
   "cell_type": "markdown",
   "metadata": {},
   "source": [
    "## PREDICCIONES CON 'X_pred'"
   ]
  },
  {
   "cell_type": "code",
   "execution_count": 150,
   "metadata": {},
   "outputs": [
    {
     "data": {
      "text/plain": [
       "array([1547.46066667,  393.3654    ,  242.893     ,  922.07333333,\n",
       "        380.102     ,  540.99652   ,  534.98371667, 1381.1101    ,\n",
       "       1509.5448    , 1182.18803333,  770.82113333, 1055.2153    ,\n",
       "       1093.4371    ,  711.0508    ,  577.45273333, 1656.5336    ,\n",
       "       1575.68566667, 2421.8934    ,  643.5948    ,  728.17      ,\n",
       "       1169.407     ,  970.42916667,  559.16413333,  741.1806    ,\n",
       "        320.828125  , 2028.4119    ,  732.50605   ,  785.7975    ,\n",
       "        442.07423333, 1182.18803333,  996.018     , 1172.25236667,\n",
       "        655.7161    ,  907.509     , 1981.768     , 1427.75      ,\n",
       "       1084.9432    , 1331.4052    ,  438.355     , 1680.8788    ,\n",
       "       2045.4707    ,  949.9901    ,  324.584     , 1819.4206    ,\n",
       "       1038.98475   , 2070.38670736,  911.3343    , 1897.58754762,\n",
       "       1036.3716    , 1513.3992    ,  887.48978333,  623.819     ,\n",
       "        722.1774    , 1033.7628    ,  477.0667    ,  729.1604    ,\n",
       "        990.24703333,  412.819     , 1532.22783333, 1165.5343    ,\n",
       "        628.00216667, 1860.6627    ,  952.7324    ,  513.3719    ,\n",
       "        794.2912    , 1073.12076667, 1102.6265    , 1728.02962857,\n",
       "        813.7566    ,  663.0802    ,  322.95056667, 1225.3994    ,\n",
       "       3189.6552    , 1318.93043333,  522.4848    , 1083.0316    ,\n",
       "        485.0364    , 3005.8797    ,  603.4803    , 1381.02840667,\n",
       "        662.22456667, 1041.0489    , 1428.4953    , 2066.85466   ,\n",
       "       1101.384325  ,  806.412     ,  804.801     ,  904.6052    ,\n",
       "        606.1318    , 1040.943     , 1335.0639    ,  536.1401    ,\n",
       "        317.47692667, 1875.37333333, 1686.4493    , 1587.0727    ,\n",
       "       1090.6705    ,  500.1597    ,  475.0406    ,  414.92833333,\n",
       "       1440.82773333,  914.5701    ,  964.5511    ,  513.54719167,\n",
       "       1495.10567143,  565.44064048, 2664.33753333, 1214.86343333,\n",
       "       2413.343     , 1108.7198    , 1822.0897    ,  425.5999    ,\n",
       "       1502.82374167, 2129.56507143, 1198.25633333, 1821.5842    ,\n",
       "       1676.52855   , 2046.9707    ,  691.479     , 1900.3073    ,\n",
       "        657.3536    , 1316.79523333, 2023.6005    , 1293.41702   ,\n",
       "        566.88863667, 1120.61483333,  438.57253333,  458.348     ,\n",
       "       1341.0498    , 1206.8745    ,  407.7323    ,  728.17      ,\n",
       "        793.31263333,  552.26759167,  378.0099    , 1725.4156    ,\n",
       "       1553.99743333, 2027.98726667, 1640.90601667, 1065.3128    ,\n",
       "        976.6866    , 1410.61466667,  721.1041    , 1552.549     ,\n",
       "       1816.5596    ,  369.79653333, 2759.7276    ,  793.31263333,\n",
       "        626.1083    , 1232.7776    , 1259.26823333, 1204.1462    ,\n",
       "       1398.0963    ,  255.5502    , 1948.3726    ,  657.2978    ,\n",
       "       1611.84213667,  744.5138    , 1484.346     ,  888.90922   ,\n",
       "       4577.97763333, 1044.0561    ,  740.9593    ,  505.7685    ,\n",
       "        874.1724    , 2826.2042    , 1288.86183333,  947.2       ,\n",
       "        471.4975    ,  962.8136    ,  473.78455   ,  455.65502381,\n",
       "        593.2664    ,  653.26951667, 1507.8578    ,  628.3541    ,\n",
       "       1205.85857167, 1151.28836667, 1549.06911167,  313.99985714,\n",
       "        582.5689    , 1125.51      , 1055.0603    ,  865.87481   ,\n",
       "       2433.5988    ,  908.4842    , 1198.4296    ,  548.8736    ,\n",
       "        442.9662381 , 1210.7793    , 1236.1275    ,  613.47953333,\n",
       "        265.2799    ,  442.9214    , 1026.3957    , 1654.85716667,\n",
       "       1249.4746    ,  496.0061    ,  873.7412    , 2139.625     ,\n",
       "       1087.9697    , 1237.345     , 1528.08714286, 1819.4718    ,\n",
       "        868.5912    ,  995.5568    , 1275.3358    , 1561.706     ,\n",
       "        879.107     ,  238.7845    , 1377.59575   ,  561.88529   ,\n",
       "       1210.7793    , 1808.7982    , 1182.744325  ,  446.3577    ,\n",
       "        913.4975    , 1354.25790833,  514.8818    ,  923.4074    ,\n",
       "        386.79223333,  572.8997    ,  246.6045    , 2472.7295    ,\n",
       "        673.616     , 1982.335     , 1435.84446667, 1765.9212    ,\n",
       "       1625.56358333, 1674.393     ,  611.51666667,  508.03556   ,\n",
       "       2220.492     , 1494.784     ,  860.1081    ,  789.2902    ,\n",
       "       1044.5236    ,  751.293     ,  606.5172    ,  505.30596667,\n",
       "       1316.79523333,  285.099     , 1471.995425  , 1407.57148849,\n",
       "        881.21577333,  869.2709    ,  326.0163    , 2103.07026667,\n",
       "       1121.1939    , 1664.9807    ,  557.4098    , 2023.66016667,\n",
       "       1077.1758    , 1122.0635    ,  300.901     ,  786.431     ,\n",
       "       1622.9794    , 1313.09466667, 1152.4827    , 1119.1186    ,\n",
       "       1328.27255   , 2359.08606667,  318.86      , 1325.2584    ,\n",
       "        348.07666   ,  881.94255   ,  469.7008    ,  294.7249381 ,\n",
       "        756.3521    ,  736.6232    , 1055.0603    ,  727.20265   ,\n",
       "        356.65366667,  378.9576    , 1950.6632    , 1426.0589    ,\n",
       "       1897.58754762,  593.1222    ,  539.4669    , 2066.85466   ,\n",
       "       1153.43923333, 1323.9955    , 1759.76433333,  821.826     ,\n",
       "       1042.11005   ,  388.6212    , 1191.9976    , 1391.18379405,\n",
       "        527.6701    , 1854.92953333, 2123.15308333, 1163.89696667,\n",
       "        900.3288    ,  777.32127   ,  590.43727667, 1016.5466    ,\n",
       "        253.841     , 1040.943     , 2428.63      ,  913.63825   ,\n",
       "        338.32773333,  448.23056667,  591.036825  , 1366.46267095,\n",
       "       1172.0269    , 2123.15308333, 1931.457     ,  656.4489    ,\n",
       "        602.1815    , 2355.941     , 1543.460775  ,  576.79548333,\n",
       "       2007.92923333, 1488.38693333, 1001.38916667, 1544.994     ,\n",
       "       2379.53242   , 2049.396     , 1559.7       , 1044.3063    ,\n",
       "        246.994     ,  554.61063333, 1319.8732    , 2265.7716    ,\n",
       "       1615.2973    ,  793.9416    , 1870.2312    ,  388.6212    ,\n",
       "       1691.77306667, 1044.9098    , 1382.23206667,  591.68266   ,\n",
       "       2441.6712    ,  879.107     ,  450.83465   ,  606.1318    ,\n",
       "       1605.0984    ,  900.5572    ,  911.2167    ,  502.29476667,\n",
       "       1176.692     ,  900.124     ,  379.53471667, 1290.45646667,\n",
       "        455.65502381,  637.8654    ,  283.24366667, 1394.9142    ,\n",
       "        830.7001    , 1740.49      , 1044.9098    , 1973.47798333,\n",
       "        605.9878    ,  951.89073333, 2184.56813333, 1412.88      ,\n",
       "        309.17275238, 3194.6915    ,  537.5542    ,  446.7798    ,\n",
       "       1128.4489    ,  589.0778    ,  954.64073333, 2129.56507143,\n",
       "       1014.41803333,  551.2889    ,  426.7266    ,  686.8278    ,\n",
       "       1790.4995    ,  576.4081    ,  329.693     ,  567.0623    ,\n",
       "       2837.1271    ,  632.03      ,  369.79653333,  966.4156    ,\n",
       "       1647.5099    ,  765.1409    , 1516.0424    , 1516.98255   ,\n",
       "       1423.3553    ,  973.7417    ,  592.8635    ,  410.6545    ,\n",
       "       1739.834     , 2332.9642    , 2802.0636    , 1744.34555   ,\n",
       "        599.274     ,  439.26841667, 1732.4299    ])"
      ]
     },
     "execution_count": 150,
     "metadata": {},
     "output_type": "execute_result"
    }
   ],
   "source": [
    "predictions_submit = model.predict(X_pred)\n",
    "predictions_submit"
   ]
  },
  {
   "cell_type": "code",
   "execution_count": 151,
   "metadata": {},
   "outputs": [],
   "source": [
    "sample = pd.read_csv(\"data/sample_submission.csv\")"
   ]
  },
  {
   "cell_type": "code",
   "execution_count": 152,
   "metadata": {},
   "outputs": [
    {
     "data": {
      "text/html": [
       "<div>\n",
       "<style scoped>\n",
       "    .dataframe tbody tr th:only-of-type {\n",
       "        vertical-align: middle;\n",
       "    }\n",
       "\n",
       "    .dataframe tbody tr th {\n",
       "        vertical-align: top;\n",
       "    }\n",
       "\n",
       "    .dataframe thead th {\n",
       "        text-align: right;\n",
       "    }\n",
       "</style>\n",
       "<table border=\"1\" class=\"dataframe\">\n",
       "  <thead>\n",
       "    <tr style=\"text-align: right;\">\n",
       "      <th></th>\n",
       "      <th>laptop_ID</th>\n",
       "      <th>Price_euros</th>\n",
       "    </tr>\n",
       "  </thead>\n",
       "  <tbody>\n",
       "    <tr>\n",
       "      <th>0</th>\n",
       "      <td>750</td>\n",
       "      <td>500</td>\n",
       "    </tr>\n",
       "    <tr>\n",
       "      <th>1</th>\n",
       "      <td>726</td>\n",
       "      <td>500</td>\n",
       "    </tr>\n",
       "    <tr>\n",
       "      <th>2</th>\n",
       "      <td>633</td>\n",
       "      <td>500</td>\n",
       "    </tr>\n",
       "    <tr>\n",
       "      <th>3</th>\n",
       "      <td>363</td>\n",
       "      <td>650</td>\n",
       "    </tr>\n",
       "    <tr>\n",
       "      <th>4</th>\n",
       "      <td>319</td>\n",
       "      <td>650</td>\n",
       "    </tr>\n",
       "  </tbody>\n",
       "</table>\n",
       "</div>"
      ],
      "text/plain": [
       "   laptop_ID  Price_euros\n",
       "0        750          500\n",
       "1        726          500\n",
       "2        633          500\n",
       "3        363          650\n",
       "4        319          650"
      ]
     },
     "execution_count": 152,
     "metadata": {},
     "output_type": "execute_result"
    }
   ],
   "source": [
    "sample.head()"
   ]
  },
  {
   "cell_type": "code",
   "execution_count": 153,
   "metadata": {},
   "outputs": [],
   "source": [
    "submission = pd.DataFrame({\"laptop_ID\": sample['laptop_ID'], \"Price_euros\": predictions_submit})"
   ]
  },
  {
   "cell_type": "code",
   "execution_count": 154,
   "metadata": {},
   "outputs": [
    {
     "data": {
      "text/html": [
       "<div>\n",
       "<style scoped>\n",
       "    .dataframe tbody tr th:only-of-type {\n",
       "        vertical-align: middle;\n",
       "    }\n",
       "\n",
       "    .dataframe tbody tr th {\n",
       "        vertical-align: top;\n",
       "    }\n",
       "\n",
       "    .dataframe thead th {\n",
       "        text-align: right;\n",
       "    }\n",
       "</style>\n",
       "<table border=\"1\" class=\"dataframe\">\n",
       "  <thead>\n",
       "    <tr style=\"text-align: right;\">\n",
       "      <th></th>\n",
       "      <th>laptop_ID</th>\n",
       "      <th>Price_euros</th>\n",
       "    </tr>\n",
       "  </thead>\n",
       "  <tbody>\n",
       "    <tr>\n",
       "      <th>0</th>\n",
       "      <td>750</td>\n",
       "      <td>1547.460667</td>\n",
       "    </tr>\n",
       "    <tr>\n",
       "      <th>1</th>\n",
       "      <td>726</td>\n",
       "      <td>393.365400</td>\n",
       "    </tr>\n",
       "    <tr>\n",
       "      <th>2</th>\n",
       "      <td>633</td>\n",
       "      <td>242.893000</td>\n",
       "    </tr>\n",
       "    <tr>\n",
       "      <th>3</th>\n",
       "      <td>363</td>\n",
       "      <td>922.073333</td>\n",
       "    </tr>\n",
       "    <tr>\n",
       "      <th>4</th>\n",
       "      <td>319</td>\n",
       "      <td>380.102000</td>\n",
       "    </tr>\n",
       "  </tbody>\n",
       "</table>\n",
       "</div>"
      ],
      "text/plain": [
       "   laptop_ID  Price_euros\n",
       "0        750  1547.460667\n",
       "1        726   393.365400\n",
       "2        633   242.893000\n",
       "3        363   922.073333\n",
       "4        319   380.102000"
      ]
     },
     "execution_count": 154,
     "metadata": {},
     "output_type": "execute_result"
    }
   ],
   "source": [
    "submission.head()"
   ]
  },
  {
   "cell_type": "code",
   "execution_count": 155,
   "metadata": {},
   "outputs": [
    {
     "data": {
      "text/plain": [
       "(391, 2)"
      ]
     },
     "execution_count": 155,
     "metadata": {},
     "output_type": "execute_result"
    }
   ],
   "source": [
    "submission.shape"
   ]
  },
  {
   "cell_type": "code",
   "execution_count": 156,
   "metadata": {},
   "outputs": [],
   "source": [
    "def chequeator(df_to_submit):\n",
    "    \"\"\"\n",
    "    Esta función se asegura de que tu submission tenga la forma requerida por Kaggle.\n",
    "    \n",
    "    Si es así, se guardará el dataframe en un `csv` y estará listo para subir a Kaggle.\n",
    "    \n",
    "    Si no, LEE EL MENSAJE Y HAZLE CASO.\n",
    "    \n",
    "    Si aún no:\n",
    "    - apaga tu ordenador, \n",
    "    - date una vuelta, \n",
    "    - enciendelo otra vez, \n",
    "    - abre este notebook y \n",
    "    - leelo todo de nuevo. \n",
    "    Todos nos merecemos una segunda oportunidad. También tú.\n",
    "    \"\"\"\n",
    "    if df_to_submit.shape == sample.shape:\n",
    "        if df_to_submit.columns.all() == sample.columns.all():\n",
    "            if df_to_submit.laptop_ID.all() == sample.laptop_ID.all():\n",
    "                print(\"You're ready to submit!\")\n",
    "                submission.to_csv(\"submission.csv\", index = False) #muy importante el index = False\n",
    "                urllib.request.urlretrieve(\"https://i.kym-cdn.com/photos/images/facebook/000/747/556/27a.jpg\", \"gfg.png\")     \n",
    "                img = Image.open(\"gfg.png\")\n",
    "                img.show()   \n",
    "            else:\n",
    "                print(\"Check the ids and try again\")\n",
    "        else:\n",
    "            print(\"Check the names of the columns and try again\")\n",
    "    else:\n",
    "        print(\"Check the number of rows and/or columns and try again\")\n",
    "        print(\"\\nMensaje secreto de Clara: No me puedo creer que después de todo este notebook hayas hecho algún cambio en las filas de `diamonds_test.csv`. Lloro.\")"
   ]
  },
  {
   "cell_type": "code",
   "execution_count": 157,
   "metadata": {},
   "outputs": [
    {
     "name": "stdout",
     "output_type": "stream",
     "text": [
      "You're ready to submit!\n"
     ]
    }
   ],
   "source": [
    "chequeator(submission)"
   ]
  }
 ],
 "metadata": {
  "kernelspec": {
   "display_name": "Python 3",
   "language": "python",
   "name": "python3"
  },
  "language_info": {
   "codemirror_mode": {
    "name": "ipython",
    "version": 3
   },
   "file_extension": ".py",
   "mimetype": "text/x-python",
   "name": "python",
   "nbconvert_exporter": "python",
   "pygments_lexer": "ipython3",
   "version": "3.11.5"
  }
 },
 "nbformat": 4,
 "nbformat_minor": 2
}
