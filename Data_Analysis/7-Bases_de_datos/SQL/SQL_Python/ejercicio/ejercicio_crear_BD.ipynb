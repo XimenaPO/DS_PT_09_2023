{
 "cells": [
  {
   "cell_type": "markdown",
   "metadata": {},
   "source": [
    "## LIBRERIAS"
   ]
  },
  {
   "cell_type": "code",
   "execution_count": 1,
   "metadata": {},
   "outputs": [],
   "source": [
    "import pandas as pd\n",
    "import sqlite3"
   ]
  },
  {
   "cell_type": "markdown",
   "metadata": {},
   "source": [
    "## INSTANCIAR A LA BASE DE DATOS"
   ]
  },
  {
   "cell_type": "code",
   "execution_count": 2,
   "metadata": {},
   "outputs": [],
   "source": [
    "# Conectamos con la base de datos chinook.db\n",
    "connection = sqlite3.connect(\"data/Bar_TB.db\")\n",
    "\n",
    "crsr = connection.cursor()"
   ]
  },
  {
   "cell_type": "markdown",
   "metadata": {},
   "source": [
    "## FUNCIÓN PARA INTERACTUAR CON LA BASE DE DATOS"
   ]
  },
  {
   "cell_type": "code",
   "execution_count": 3,
   "metadata": {},
   "outputs": [],
   "source": [
    "# Con esta función leemos los datos y lo pasamos a un DataFrame de Pandas\n",
    "def sql_query(query):\n",
    "\n",
    "    # Ejecuta la query\n",
    "    crsr.execute(query)\n",
    "\n",
    "    # Almacena los datos de la query \n",
    "    ans = crsr.fetchall()\n",
    "\n",
    "    # Obtenemos los nombres de las columnas de la tabla\n",
    "    names = [description[0] for description in crsr.description]\n",
    "\n",
    "    return pd.DataFrame(ans,columns=names)\n"
   ]
  },
  {
   "cell_type": "markdown",
   "metadata": {},
   "source": [
    "## CREAR LAS TABLAS\n",
    "\n",
    "Primero hay que verificar si ya están creadas, para que luego no de error. "
   ]
  },
  {
   "cell_type": "code",
   "execution_count": 12,
   "metadata": {},
   "outputs": [
    {
     "name": "stdout",
     "output_type": "stream",
     "text": [
      "cerveza\n",
      "bares\n",
      "empleados\n",
      "reparto\n"
     ]
    }
   ],
   "source": [
    "res = crsr.execute(\"SELECT name FROM sqlite_master WHERE type='table'\")\n",
    "for name in res:\n",
    "    print(name[0]) "
   ]
  },
  {
   "cell_type": "markdown",
   "metadata": {},
   "source": [
    "Ejecutando eso, me dice que no hay nada creado porque obviamente la base de datos está vacía ya que el archivo lo cree yo. \n",
    "\n",
    "Luego de creada la base de datos, si aparecen los nombres de las tablas: <br>\n",
    "cerveza  <br>\n",
    "bares <br>\n",
    "empleados <br>\n",
    "reparto. "
   ]
  },
  {
   "cell_type": "markdown",
   "metadata": {},
   "source": [
    "### TABLA CERVEZA"
   ]
  },
  {
   "cell_type": "code",
   "execution_count": 5,
   "metadata": {},
   "outputs": [
    {
     "data": {
      "text/plain": [
       "<sqlite3.Cursor at 0x28c0faf9ac0>"
      ]
     },
     "execution_count": 5,
     "metadata": {},
     "output_type": "execute_result"
    }
   ],
   "source": [
    "query_cerveza = \"\"\"\n",
    "\n",
    "CREATE TABLE cerveza (\n",
    "    CodC VARCHAR (3),\n",
    "    Envase VARCHAR (50),\n",
    "    Capacidad FLOAT,\n",
    "    Stock INT\n",
    ")\n",
    "\n",
    "\"\"\"\n",
    "\n",
    "crsr.execute(query_cerveza)"
   ]
  },
  {
   "cell_type": "code",
   "execution_count": 11,
   "metadata": {},
   "outputs": [
    {
     "data": {
      "text/html": [
       "<div>\n",
       "<style scoped>\n",
       "    .dataframe tbody tr th:only-of-type {\n",
       "        vertical-align: middle;\n",
       "    }\n",
       "\n",
       "    .dataframe tbody tr th {\n",
       "        vertical-align: top;\n",
       "    }\n",
       "\n",
       "    .dataframe thead th {\n",
       "        text-align: right;\n",
       "    }\n",
       "</style>\n",
       "<table border=\"1\" class=\"dataframe\">\n",
       "  <thead>\n",
       "    <tr style=\"text-align: right;\">\n",
       "      <th></th>\n",
       "      <th>CodC</th>\n",
       "      <th>Envase</th>\n",
       "      <th>Capacidad</th>\n",
       "      <th>Stock</th>\n",
       "    </tr>\n",
       "  </thead>\n",
       "  <tbody>\n",
       "  </tbody>\n",
       "</table>\n",
       "</div>"
      ],
      "text/plain": [
       "Empty DataFrame\n",
       "Columns: [CodC, Envase, Capacidad, Stock]\n",
       "Index: []"
      ]
     },
     "execution_count": 11,
     "metadata": {},
     "output_type": "execute_result"
    }
   ],
   "source": [
    "pd.read_sql('SELECT * from cerveza', connection)"
   ]
  },
  {
   "cell_type": "markdown",
   "metadata": {},
   "source": [
    "### TABLA BARES"
   ]
  },
  {
   "cell_type": "code",
   "execution_count": 7,
   "metadata": {},
   "outputs": [
    {
     "data": {
      "text/plain": [
       "<sqlite3.Cursor at 0x28c0faf9ac0>"
      ]
     },
     "execution_count": 7,
     "metadata": {},
     "output_type": "execute_result"
    }
   ],
   "source": [
    "query_bares = \"\"\"\n",
    "\n",
    "CREATE TABLE bares (\n",
    "    CodB VARCHAR (4),\n",
    "    Nombre VARCHAR (50),\n",
    "    Cif VARCHAR (10),\n",
    "    Localidad VARCHAR (50)\n",
    ")\n",
    "\n",
    "\"\"\"\n",
    "\n",
    "crsr.execute(query_bares)"
   ]
  },
  {
   "cell_type": "markdown",
   "metadata": {},
   "source": [
    "### TABLA EMPLEADOS"
   ]
  },
  {
   "cell_type": "code",
   "execution_count": 9,
   "metadata": {},
   "outputs": [
    {
     "data": {
      "text/plain": [
       "<sqlite3.Cursor at 0x28c0faf9ac0>"
      ]
     },
     "execution_count": 9,
     "metadata": {},
     "output_type": "execute_result"
    }
   ],
   "source": [
    "query_empleados = \"\"\"\n",
    "\n",
    "CREATE TABLE empleados (\n",
    "    CodE VARCHAR (2),\n",
    "    Nombre VARCHAR (50),\n",
    "    Sueldo INT\n",
    ")\n",
    "\n",
    "\"\"\"\n",
    "\n",
    "crsr.execute(query_empleados)"
   ]
  },
  {
   "cell_type": "markdown",
   "metadata": {},
   "source": [
    "### TABLA REPARTO"
   ]
  },
  {
   "cell_type": "code",
   "execution_count": 10,
   "metadata": {},
   "outputs": [
    {
     "data": {
      "text/plain": [
       "<sqlite3.Cursor at 0x28c0faf9ac0>"
      ]
     },
     "execution_count": 10,
     "metadata": {},
     "output_type": "execute_result"
    }
   ],
   "source": [
    "query_reparto = \"\"\"\n",
    "\n",
    "CREATE TABLE reparto (\n",
    "    CodE VARCHAR (2),\n",
    "    CodB VARCHAR (4),\n",
    "    CodC VARCHAR (3),\n",
    "    Fecha DATE,\n",
    "    Cantidad INT\n",
    ")\n",
    "\n",
    "\"\"\"\n",
    "\n",
    "crsr.execute(query_reparto)"
   ]
  },
  {
   "cell_type": "markdown",
   "metadata": {},
   "source": [
    "## INSERTAR DATOS"
   ]
  },
  {
   "cell_type": "code",
   "execution_count": 16,
   "metadata": {},
   "outputs": [
    {
     "data": {
      "text/plain": [
       "<sqlite3.Cursor at 0x28c0faf9ac0>"
      ]
     },
     "execution_count": 16,
     "metadata": {},
     "output_type": "execute_result"
    }
   ],
   "source": [
    "# Insertamos datos en la TABLA CERVEZA\n",
    "\n",
    "query_insert = \"\"\"\n",
    "INSERT INTO cerveza VALUES\n",
    "('01', 'Botella', 0.2 , 3600),\n",
    "('02', 'Botella', 0.33, 1200),\n",
    "('03', 'Lata', 0.33, 2400),\n",
    "('04', 'Botella', 1, 288),\n",
    "('05', 'Barril', 60, 30)\n",
    "\"\"\"\n",
    "\n",
    "crsr.execute(query_insert)"
   ]
  },
  {
   "cell_type": "code",
   "execution_count": 17,
   "metadata": {},
   "outputs": [
    {
     "data": {
      "text/html": [
       "<div>\n",
       "<style scoped>\n",
       "    .dataframe tbody tr th:only-of-type {\n",
       "        vertical-align: middle;\n",
       "    }\n",
       "\n",
       "    .dataframe tbody tr th {\n",
       "        vertical-align: top;\n",
       "    }\n",
       "\n",
       "    .dataframe thead th {\n",
       "        text-align: right;\n",
       "    }\n",
       "</style>\n",
       "<table border=\"1\" class=\"dataframe\">\n",
       "  <thead>\n",
       "    <tr style=\"text-align: right;\">\n",
       "      <th></th>\n",
       "      <th>CodC</th>\n",
       "      <th>Envase</th>\n",
       "      <th>Capacidad</th>\n",
       "      <th>Stock</th>\n",
       "    </tr>\n",
       "  </thead>\n",
       "  <tbody>\n",
       "    <tr>\n",
       "      <th>0</th>\n",
       "      <td>01</td>\n",
       "      <td>Botella</td>\n",
       "      <td>0.20</td>\n",
       "      <td>3600</td>\n",
       "    </tr>\n",
       "    <tr>\n",
       "      <th>1</th>\n",
       "      <td>02</td>\n",
       "      <td>Botella</td>\n",
       "      <td>0.33</td>\n",
       "      <td>1200</td>\n",
       "    </tr>\n",
       "    <tr>\n",
       "      <th>2</th>\n",
       "      <td>03</td>\n",
       "      <td>Lata</td>\n",
       "      <td>0.33</td>\n",
       "      <td>2400</td>\n",
       "    </tr>\n",
       "    <tr>\n",
       "      <th>3</th>\n",
       "      <td>04</td>\n",
       "      <td>Botella</td>\n",
       "      <td>1.00</td>\n",
       "      <td>288</td>\n",
       "    </tr>\n",
       "    <tr>\n",
       "      <th>4</th>\n",
       "      <td>05</td>\n",
       "      <td>Barril</td>\n",
       "      <td>60.00</td>\n",
       "      <td>30</td>\n",
       "    </tr>\n",
       "  </tbody>\n",
       "</table>\n",
       "</div>"
      ],
      "text/plain": [
       "  CodC   Envase  Capacidad  Stock\n",
       "0   01  Botella       0.20   3600\n",
       "1   02  Botella       0.33   1200\n",
       "2   03     Lata       0.33   2400\n",
       "3   04  Botella       1.00    288\n",
       "4   05   Barril      60.00     30"
      ]
     },
     "execution_count": 17,
     "metadata": {},
     "output_type": "execute_result"
    }
   ],
   "source": [
    "pd.read_sql('SELECT * from cerveza', connection)"
   ]
  },
  {
   "cell_type": "code",
   "execution_count": 19,
   "metadata": {},
   "outputs": [
    {
     "data": {
      "text/plain": [
       "<sqlite3.Cursor at 0x28c0faf9ac0>"
      ]
     },
     "execution_count": 19,
     "metadata": {},
     "output_type": "execute_result"
    }
   ],
   "source": [
    "# Insertamos datos en la TABLA REPARTO\n",
    "\n",
    "query_insert2 = \"\"\"\n",
    "INSERT INTO reparto (CodE, CodB, CodC, Fecha, Cantidad) VALUES\n",
    "('1', '001', '01', '2005-10-21', 240),\n",
    "('1', '001', '02', '2005-10-21', 48),\n",
    "('1', '002', '03', '2005-10-22', 60),\n",
    "('1', '004', '05', '2005-10-22', 4),\n",
    "('2', '002', '03', '2005-10-22', 48),\n",
    "('2', '002', '05', '2005-10-23', 2),\n",
    "('2', '004', '01', '2005-10-23', 480),\n",
    "('2', '004', '02', '2005-10-24', 72),\n",
    "('3', '003', '03', '2005-10-24', 48),\n",
    "('3', '003', '04', '2005-10-25', 20)\n",
    "\n",
    "\"\"\"\n",
    "\n",
    "crsr.execute(query_insert2)"
   ]
  },
  {
   "cell_type": "markdown",
   "metadata": {},
   "source": [
    "- Luego de reparto entre parentesis, hago una tupla con el nombre de las columnas en el orden en el que voy a insertar los datos.\n",
    "\n",
    "- El formato de datos de fecha es SIEMPRE = '2005-10-21' - Si no, Python no lo lee como fechas, por ejemplo, si se le pone barras, o el año al final, o el mes al final. \n",
    "\n",
    "- `parse_dates` = Si quiero que me convierta los datos de 'Fecha' a formato datetime hay que usar eso al leer el sql, ya que si no Pandas lee siempre de la manera mas sencilla, más cómoda para él, y seguro lo va a leer como un string. \n",
    "Esa sentencia se pone en `pd.read_sql('SELECT * FROM reparto', connection, parse_dates=['Fecha'])` > Acá le digo que a la columna 'Fecha' convierta los valores a tipo de datos datetime"
   ]
  },
  {
   "cell_type": "markdown",
   "metadata": {},
   "source": [
    "> #### **SENTENCIA PARA BORRAR REGISTROS (fila, línea)**\n",
    "\n",
    "- **SINTAXIS** \n",
    "**DELETE FROM table** <br>\n",
    "**WHERE** 'search condition' >> **SIEMPRE poner WHERE ya que si no, SE BORRA TODA LA BASES DE DATOS, y NO se puede volver atrás!!!!** \n",
    "\n",
    "- Para borrar en el ejemplo, se utilizaría la sentencia: \n",
    "`query_delete = \"DELETE FROM reparto WHERE CodB = '001'\"`\n",
    "`crsr.execute(query_delete)`\n",
    "Se utiliza el `crsr.execute()` porque no se puede hacer adentro de `pd.read_sql()`, ya que eso solo lee archivos. "
   ]
  },
  {
   "cell_type": "code",
   "execution_count": 22,
   "metadata": {},
   "outputs": [
    {
     "data": {
      "text/plain": [
       "4"
      ]
     },
     "execution_count": 22,
     "metadata": {},
     "output_type": "execute_result"
    }
   ],
   "source": [
    "# Insertamos datos en la BARES\n",
    "\n",
    "bares = pd.DataFrame({\n",
    "                    \"CodB\": [\"001\", \"002\", \"003\", \"004\"],\n",
    "                    \"Nombre\": [\"Stop\", \"Las Vegas\", \"Club Social\", \"Otra Ronda\"],\n",
    "                    \"Cif\": [\"011111111X\", \"22222222Y\", None, \"33333333Z\"],\n",
    "                    \"Localidad\": [\"Villa Botijo\", \"Villa Botijo\", \"Las Ranas\", \"La Esponja\"] \n",
    "                    })\n",
    "\n",
    "bares\n",
    "\n",
    "bares.to_sql(name='bares', con=connection, if_exists=\"append\", index=False)"
   ]
  },
  {
   "cell_type": "code",
   "execution_count": 23,
   "metadata": {},
   "outputs": [
    {
     "data": {
      "text/html": [
       "<div>\n",
       "<style scoped>\n",
       "    .dataframe tbody tr th:only-of-type {\n",
       "        vertical-align: middle;\n",
       "    }\n",
       "\n",
       "    .dataframe tbody tr th {\n",
       "        vertical-align: top;\n",
       "    }\n",
       "\n",
       "    .dataframe thead th {\n",
       "        text-align: right;\n",
       "    }\n",
       "</style>\n",
       "<table border=\"1\" class=\"dataframe\">\n",
       "  <thead>\n",
       "    <tr style=\"text-align: right;\">\n",
       "      <th></th>\n",
       "      <th>CodB</th>\n",
       "      <th>Nombre</th>\n",
       "      <th>Cif</th>\n",
       "      <th>Localidad</th>\n",
       "    </tr>\n",
       "  </thead>\n",
       "  <tbody>\n",
       "    <tr>\n",
       "      <th>0</th>\n",
       "      <td>001</td>\n",
       "      <td>Stop</td>\n",
       "      <td>011111111X</td>\n",
       "      <td>Villa Botijo</td>\n",
       "    </tr>\n",
       "    <tr>\n",
       "      <th>1</th>\n",
       "      <td>002</td>\n",
       "      <td>Las Vegas</td>\n",
       "      <td>22222222Y</td>\n",
       "      <td>Villa Botijo</td>\n",
       "    </tr>\n",
       "    <tr>\n",
       "      <th>2</th>\n",
       "      <td>003</td>\n",
       "      <td>Club Social</td>\n",
       "      <td>None</td>\n",
       "      <td>Las Ranas</td>\n",
       "    </tr>\n",
       "    <tr>\n",
       "      <th>3</th>\n",
       "      <td>004</td>\n",
       "      <td>Otra Ronda</td>\n",
       "      <td>33333333Z</td>\n",
       "      <td>La Esponja</td>\n",
       "    </tr>\n",
       "  </tbody>\n",
       "</table>\n",
       "</div>"
      ],
      "text/plain": [
       "  CodB       Nombre         Cif     Localidad\n",
       "0  001         Stop  011111111X  Villa Botijo\n",
       "1  002    Las Vegas   22222222Y  Villa Botijo\n",
       "2  003  Club Social        None     Las Ranas\n",
       "3  004   Otra Ronda   33333333Z    La Esponja"
      ]
     },
     "execution_count": 23,
     "metadata": {},
     "output_type": "execute_result"
    }
   ],
   "source": [
    "pd.read_sql('SELECT * FROM bares', connection)"
   ]
  },
  {
   "cell_type": "code",
   "execution_count": 24,
   "metadata": {},
   "outputs": [
    {
     "data": {
      "text/plain": [
       "3"
      ]
     },
     "execution_count": 24,
     "metadata": {},
     "output_type": "execute_result"
    }
   ],
   "source": [
    "# Insertamos datos en la EMPLEADOS\n",
    "\n",
    "empleados = pd.DataFrame({\n",
    "                    \"CodE\": [\"1\", \"2\", \"3\"],\n",
    "                    \"Nombre\": [\"Prudencio Caminero\", \"Vicente Merario\", \"Valentin Siempre\"],\n",
    "                    \"Sueldo\": [\"120000\", \"110000\", \"100000\"]\n",
    "                    })\n",
    "\n",
    "empleados\n",
    "\n",
    "empleados.to_sql(name='empleados', con=connection, if_exists=\"append\", index=False)"
   ]
  },
  {
   "cell_type": "code",
   "execution_count": 25,
   "metadata": {},
   "outputs": [
    {
     "data": {
      "text/html": [
       "<div>\n",
       "<style scoped>\n",
       "    .dataframe tbody tr th:only-of-type {\n",
       "        vertical-align: middle;\n",
       "    }\n",
       "\n",
       "    .dataframe tbody tr th {\n",
       "        vertical-align: top;\n",
       "    }\n",
       "\n",
       "    .dataframe thead th {\n",
       "        text-align: right;\n",
       "    }\n",
       "</style>\n",
       "<table border=\"1\" class=\"dataframe\">\n",
       "  <thead>\n",
       "    <tr style=\"text-align: right;\">\n",
       "      <th></th>\n",
       "      <th>CodE</th>\n",
       "      <th>Nombre</th>\n",
       "      <th>Sueldo</th>\n",
       "    </tr>\n",
       "  </thead>\n",
       "  <tbody>\n",
       "    <tr>\n",
       "      <th>0</th>\n",
       "      <td>1</td>\n",
       "      <td>Prudencio Caminero</td>\n",
       "      <td>120000</td>\n",
       "    </tr>\n",
       "    <tr>\n",
       "      <th>1</th>\n",
       "      <td>2</td>\n",
       "      <td>Vicente Merario</td>\n",
       "      <td>110000</td>\n",
       "    </tr>\n",
       "    <tr>\n",
       "      <th>2</th>\n",
       "      <td>3</td>\n",
       "      <td>Valentin Siempre</td>\n",
       "      <td>100000</td>\n",
       "    </tr>\n",
       "  </tbody>\n",
       "</table>\n",
       "</div>"
      ],
      "text/plain": [
       "  CodE              Nombre  Sueldo\n",
       "0    1  Prudencio Caminero  120000\n",
       "1    2     Vicente Merario  110000\n",
       "2    3    Valentin Siempre  100000"
      ]
     },
     "execution_count": 25,
     "metadata": {},
     "output_type": "execute_result"
    }
   ],
   "source": [
    "pd.read_sql('SELECT * FROM empleados', connection)"
   ]
  },
  {
   "cell_type": "markdown",
   "metadata": {},
   "source": [
    "> #### **SINTAXIS PARA GUARDAR CAMBIOS REALIZADOS**"
   ]
  },
  {
   "cell_type": "markdown",
   "metadata": {},
   "source": [
    "Lo siguiente se hace para guardar los cambios, `commit` por si quedo algo sin guardar, y `close` para cerrar la conexión a la base de datos, y que otros por ejemplo, se puedan conectar. "
   ]
  },
  {
   "cell_type": "code",
   "execution_count": null,
   "metadata": {},
   "outputs": [],
   "source": [
    "connection.commit()\n",
    "connection.close()"
   ]
  },
  {
   "cell_type": "markdown",
   "metadata": {},
   "source": [
    "> **Luego de cerrada la base de datos, para volver a conectarnos ejecutamos lo siguiente:** \n"
   ]
  },
  {
   "cell_type": "code",
   "execution_count": 26,
   "metadata": {},
   "outputs": [],
   "source": [
    "connection = sqlite3.connect(\"data/Bar_TB.db\")\n",
    "\n",
    "crsr = connection.cursor()"
   ]
  },
  {
   "cell_type": "markdown",
   "metadata": {},
   "source": [
    "### RESPUESTAS"
   ]
  },
  {
   "cell_type": "markdown",
   "metadata": {},
   "source": [
    "1. Obtener  el  nombre    de  los  empleados   que  hayan  repartido  al  bar  Stop  durante la semana del 17 al 23 de octubre de 2005"
   ]
  },
  {
   "cell_type": "code",
   "execution_count": 31,
   "metadata": {},
   "outputs": [
    {
     "data": {
      "text/html": [
       "<div>\n",
       "<style scoped>\n",
       "    .dataframe tbody tr th:only-of-type {\n",
       "        vertical-align: middle;\n",
       "    }\n",
       "\n",
       "    .dataframe tbody tr th {\n",
       "        vertical-align: top;\n",
       "    }\n",
       "\n",
       "    .dataframe thead th {\n",
       "        text-align: right;\n",
       "    }\n",
       "</style>\n",
       "<table border=\"1\" class=\"dataframe\">\n",
       "  <thead>\n",
       "    <tr style=\"text-align: right;\">\n",
       "      <th></th>\n",
       "      <th>Nombre</th>\n",
       "    </tr>\n",
       "  </thead>\n",
       "  <tbody>\n",
       "    <tr>\n",
       "      <th>0</th>\n",
       "      <td>Prudencio Caminero</td>\n",
       "    </tr>\n",
       "  </tbody>\n",
       "</table>\n",
       "</div>"
      ],
      "text/plain": [
       "               Nombre\n",
       "0  Prudencio Caminero"
      ]
     },
     "execution_count": 31,
     "metadata": {},
     "output_type": "execute_result"
    }
   ],
   "source": [
    "query1 = '''\n",
    "SELECT DISTINCT\n",
    "e.Nombre\n",
    "FROM empleados e\n",
    "INNER JOIN reparto r\n",
    "ON e.CodE = r.CodE\n",
    "INNER JOIN bares b\n",
    "ON b.CodB = r.CodB\n",
    "WHERE b.Nombre = 'Stop' AND r.Fecha BETWEEN \"2005-10-17\" AND \"2005-10-23\"\n",
    "'''\n",
    "\n",
    "sql_query(query1)"
   ]
  }
 ],
 "metadata": {
  "kernelspec": {
   "display_name": ".venv",
   "language": "python",
   "name": "python3"
  },
  "language_info": {
   "codemirror_mode": {
    "name": "ipython",
    "version": 3
   },
   "file_extension": ".py",
   "mimetype": "text/x-python",
   "name": "python",
   "nbconvert_exporter": "python",
   "pygments_lexer": "ipython3",
   "version": "3.11.5"
  }
 },
 "nbformat": 4,
 "nbformat_minor": 2
}
